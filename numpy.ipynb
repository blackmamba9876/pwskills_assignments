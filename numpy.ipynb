{
 "cells": [
  {
   "cell_type": "code",
   "execution_count": 1,
   "id": "ce7967cd-41fe-449c-9131-4bd971459135",
   "metadata": {},
   "outputs": [
    {
     "name": "stdout",
     "output_type": "stream",
     "text": [
      "[0 1 2 3 4 5]\n",
      "int64\n"
     ]
    }
   ],
   "source": [
    "#1. Create a NumPy array 'arr' of integers from 0 to 5 and print its data type\n",
    "\n",
    "import numpy as np\n",
    "\n",
    "# Create NumPy array of integers from 0 to 5\n",
    "arr = np.arange(6)\n",
    "\n",
    "# Print the data type of the array\n",
    "print(arr)\n",
    "print(arr.dtype)"
   ]
  },
  {
   "cell_type": "code",
   "execution_count": 2,
   "id": "5b03ab31-2d34-401b-83a1-ef5ffc4c0bb3",
   "metadata": {},
   "outputs": [
    {
     "name": "stdout",
     "output_type": "stream",
     "text": [
      "[1.5 2.6 3.7] the data type is  float64.\n"
     ]
    }
   ],
   "source": [
    "# 2) Given a NumPy array 'arr', check if its data type is float64.\n",
    "\n",
    "arr=np.array([1.5,2.6,3.7])\n",
    "if arr.dtype== 'float64':\n",
    "    print(f'{arr} the data type is  float64.')\n",
    "else:\n",
    "    print(f'{arr} is not a  float64 datatype')"
   ]
  },
  {
   "cell_type": "code",
   "execution_count": 3,
   "id": "07e02e9b-4366-41bf-b68f-d095bbf7d4cf",
   "metadata": {},
   "outputs": [
    {
     "name": "stdout",
     "output_type": "stream",
     "text": [
      "Array: [1.+2.j 3.+4.j 5.+6.j]\n",
      "Data type: complex128\n"
     ]
    }
   ],
   "source": [
    "# 3) Create a NumPy array 'arr' with a data type of complex128 containing three complex numbers\n",
    "\n",
    "import numpy as np\n",
    "\n",
    "# Create a NumPy array with data type complex128 containing three complex numbers\n",
    "arr_complex = np.array([1+2j, 3+4j, 5+6j], dtype=np.complex128)\n",
    "\n",
    "# Print the array and its data type\n",
    "print(\"Array:\", arr_complex)\n",
    "print(\"Data type:\", arr_complex.dtype)"
   ]
  },
  {
   "cell_type": "code",
   "execution_count": 4,
   "id": "eaad4632-6ed9-479f-b638-58125165cf9b",
   "metadata": {},
   "outputs": [
    {
     "name": "stdout",
     "output_type": "stream",
     "text": [
      "Original array: [0 1 2 3 4 5]\n",
      "Converted array: [0. 1. 2. 3. 4. 5.]\n",
      "New data type: float32\n"
     ]
    }
   ],
   "source": [
    "# 4) Convert an existing NumPy array 'arr' of integers to float32 data type\n",
    "\n",
    "import numpy as np\n",
    "\n",
    "# Create an existing NumPy array of integers\n",
    "arr_int = np.array([0, 1, 2, 3, 4, 5])\n",
    "\n",
    "# Convert the integer array to float32 data type\n",
    "arr_float32 = arr_int.astype(np.float32)\n",
    "\n",
    "# Print the original array, converted array, and the new data type\n",
    "print(\"Original array:\", arr_int)\n",
    "print(\"Converted array:\", arr_float32)\n",
    "print(\"New data type:\", arr_float32.dtype)"
   ]
  },
  {
   "cell_type": "code",
   "execution_count": 5,
   "id": "ca7c9af3-0ce0-4d2a-8725-951bc6cb723f",
   "metadata": {},
   "outputs": [
    {
     "name": "stdout",
     "output_type": "stream",
     "text": [
      "[1.2345679 2.3456788 3.456789 ]\n",
      "float32\n"
     ]
    }
   ],
   "source": [
    "# 5) Given a NumPy array 'arr' with float64 data type, convert it to float32 to reduce decimal precision\n",
    "\n",
    "import numpy as np\n",
    "\n",
    "# Sample float64 array\n",
    "arr = np.array([1.23456789, 2.34567890, 3.45678901], dtype=np.float64)\n",
    "\n",
    "# Convert to float32\n",
    "arr_float32 = arr.astype(np.float32)\n",
    "\n",
    "print(arr_float32)\n",
    "print(arr_float32.dtype)"
   ]
  },
  {
   "cell_type": "code",
   "execution_count": 6,
   "id": "b54242ef-f8c4-4d9d-9c61-7d806be9f985",
   "metadata": {},
   "outputs": [
    {
     "data": {
      "text/plain": [
       "((5,), 5, dtype('int64'))"
      ]
     },
     "execution_count": 6,
     "metadata": {},
     "output_type": "execute_result"
    }
   ],
   "source": [
    "# 6. Write a function array_attributes that takes a NumPy array as input and returns its shape, size, and data type.\n",
    "\n",
    "import numpy as np\n",
    "def array_attributes(arr):\n",
    "    return arr.shape, arr.size, arr.dtype\n",
    "\n",
    "array_attributes(np.array([1,2,3,6,7]))"
   ]
  },
  {
   "cell_type": "code",
   "execution_count": 7,
   "id": "4fdd3e2e-a9b5-4c91-bcd4-eaedaefd5190",
   "metadata": {},
   "outputs": [
    {
     "data": {
      "text/plain": [
       "2"
      ]
     },
     "execution_count": 7,
     "metadata": {},
     "output_type": "execute_result"
    }
   ],
   "source": [
    "# 7. Create a function array_dimension that takes a NumPy array as input and returns its dimensionality.\n",
    "\n",
    "import numpy as np\n",
    "def array_dimension(arr):\n",
    "    return arr.ndim\n",
    "n=np.array([[2,3,4],[34,56,77]])\n",
    "array_dimension(n)"
   ]
  },
  {
   "cell_type": "code",
   "execution_count": 8,
   "id": "6f64148a-71ea-46a0-910b-9f20a748d039",
   "metadata": {},
   "outputs": [
    {
     "data": {
      "text/plain": [
       "(8, 40)"
      ]
     },
     "execution_count": 8,
     "metadata": {},
     "output_type": "execute_result"
    }
   ],
   "source": [
    "# 8. Design a function item_size_info that takes a NumPy array as input and returns the item size and the total size in bytes.\n",
    "\n",
    "import numpy as np\n",
    "def item_size_info(n):\n",
    "    return n.itemsize,n.nbytes\n",
    "\n",
    "item_size_info(np.array([1.2,2.56,34.3,6.4,7.45]))"
   ]
  },
  {
   "cell_type": "code",
   "execution_count": 9,
   "id": "899517ff-4cd0-4d7c-9791-df6fac1d185f",
   "metadata": {},
   "outputs": [
    {
     "name": "stdout",
     "output_type": "stream",
     "text": [
      "(32, 8)\n"
     ]
    }
   ],
   "source": [
    "# 9. Create a function array_strides that takes a NumPy array as input and returns the strides of the array, \n",
    "\n",
    "import numpy as np\n",
    "def array_strides(arr):\n",
    "    return arr.strides\n",
    "\n",
    "# Example usage\n",
    "array = np.arange(12).reshape(3, 4)\n",
    "print(array_strides(array))  # Output: (16, 4)"
   ]
  },
  {
   "cell_type": "code",
   "execution_count": 10,
   "id": "ff911b33-ffc5-457a-8fcc-45eaca67b0b5",
   "metadata": {},
   "outputs": [
    {
     "name": "stdout",
     "output_type": "stream",
     "text": [
      "Shape: (3, 4)\n",
      "Strides: (32, 8)\n"
     ]
    }
   ],
   "source": [
    "# 10. Design a function shape_stride_relationship that takes a NumPy array as input and returns the shape and strides of the array.\n",
    "\n",
    "import numpy as np\n",
    "def shape_stride_relationship(arr):\n",
    "    return arr.shape, arr.strides\n",
    "\n",
    "# Example usage\n",
    "array = np.arange(12).reshape(3, 4)\n",
    "shape, strides = shape_stride_relationship(array)\n",
    "print(\"Shape:\", shape)\n",
    "print(\"Strides:\", strides)"
   ]
  },
  {
   "cell_type": "code",
   "execution_count": 11,
   "id": "2628fb38-b1d3-452e-a2de-0bd852e4f15f",
   "metadata": {},
   "outputs": [
    {
     "name": "stdout",
     "output_type": "stream",
     "text": [
      "[0. 0. 0. 0. 0.]\n"
     ]
    }
   ],
   "source": [
    "#11 . Create a function `create_zeros_array` that takes an integer `n` as input and returns a NumPy array of zeros with `n` elements.\n",
    "\n",
    "import numpy as np\n",
    "def create_zeros_array(n):\n",
    "    return np.zeros(n)\n",
    "\n",
    "n = 5\n",
    "zeros_array = create_zeros_array(n)\n",
    "print(zeros_array) "
   ]
  },
  {
   "cell_type": "code",
   "execution_count": 12,
   "id": "aca38c85-01d0-4b35-8f32-d433662df6c0",
   "metadata": {},
   "outputs": [
    {
     "data": {
      "text/plain": [
       "array([[1., 1., 1., 1.],\n",
       "       [1., 1., 1., 1.],\n",
       "       [1., 1., 1., 1.],\n",
       "       [1., 1., 1., 1.],\n",
       "       [1., 1., 1., 1.]])"
      ]
     },
     "execution_count": 12,
     "metadata": {},
     "output_type": "execute_result"
    }
   ],
   "source": [
    "#12. Write a function `create_ones_matrix` that takes integers `rows` and `cols` as inputs and generates a 2D NumPy array filled with ones of size `rows x cols`.\n",
    "\n",
    "def create_ones_matrix(row, column):\n",
    "    return np.ones((row,column))\n",
    "\n",
    "row=5\n",
    "column=4\n",
    "create_ones_matrix(row,column)"
   ]
  },
  {
   "cell_type": "code",
   "execution_count": 13,
   "id": "7ed16924-ae79-4ae8-978b-81063f241308",
   "metadata": {},
   "outputs": [
    {
     "data": {
      "text/plain": [
       "array([ 1,  4,  7, 10, 13, 16])"
      ]
     },
     "execution_count": 13,
     "metadata": {},
     "output_type": "execute_result"
    }
   ],
   "source": [
    "#13 .Write a function `generate_range_array` that takes three integers start, stop, and step as arguments and\n",
    "#creates a NumPy array with a range starting from `start`, ending at stop (exclusive), and with the specified `step\n",
    "\n",
    "def generate_range_array(start,stop,step):\n",
    "    return np.arange(start,stop,step)\n",
    "\n",
    "start=1\n",
    "stop=17\n",
    "step=3\n",
    "generate_range_array(start,stop,step)"
   ]
  },
  {
   "cell_type": "code",
   "execution_count": 14,
   "id": "176db839-12b7-4920-87a5-2bc879ca08b4",
   "metadata": {},
   "outputs": [
    {
     "name": "stdout",
     "output_type": "stream",
     "text": [
      "[0.         0.55555556 1.11111111 1.66666667 2.22222222 2.77777778\n",
      " 3.33333333 3.88888889 4.44444444 5.        ]\n"
     ]
    }
   ],
   "source": [
    "# 14. Design a function `generate_linear_space` that takes two floats `start`, `stop`, and an integer `num` as\n",
    " # arguments and generates a NumPy array with num equally spaced values between `start` and `stop` (inclusive).\n",
    "    \n",
    "import numpy as np\n",
    "\n",
    "def generate_linear_space(start, stop, num):\n",
    "    return np.linspace(start, stop, num)\n",
    "\n",
    "# Example usage\n",
    "start = 0.0\n",
    "stop = 5.0\n",
    "num = 10\n",
    "linear_space_array = generate_linear_space(start, stop, num)\n",
    "print(linear_space_array)"
   ]
  },
  {
   "cell_type": "code",
   "execution_count": 15,
   "id": "a252cffa-3c5a-425c-aaa5-2c88d2fc7282",
   "metadata": {},
   "outputs": [
    {
     "data": {
      "text/plain": [
       "array([[1., 0., 0.],\n",
       "       [0., 1., 0.],\n",
       "       [0., 0., 1.]])"
      ]
     },
     "execution_count": 15,
     "metadata": {},
     "output_type": "execute_result"
    }
   ],
   "source": [
    "#15. Create a function `create_identity_matrix` that takes an integer `n` as input and generates a square identity matrix of size `n x n` using `numpy.eye`\n",
    "\n",
    "def create_identity_matrix(n):\n",
    "    return np.eye(n)\n",
    "\n",
    "n=3\n",
    "create_identity_matrix(n)"
   ]
  },
  {
   "cell_type": "code",
   "execution_count": 16,
   "id": "76a690be-8254-4d8f-a18b-4a27cd7d0437",
   "metadata": {},
   "outputs": [
    {
     "name": "stdout",
     "output_type": "stream",
     "text": [
      "[1 2 3 4 5]\n"
     ]
    }
   ],
   "source": [
    "#16. Write a function that takes a Python list and converts it into a NumPy array\n",
    "\n",
    "import numpy as np\n",
    "def list_to_numpy_array(python_list):\n",
    "    return np.array(python_list)\n",
    "\n",
    "my_list = [1, 2, 3, 4, 5]\n",
    "numpy_array = list_to_numpy_array(my_list)\n",
    "print(numpy_array)"
   ]
  },
  {
   "cell_type": "code",
   "execution_count": 17,
   "id": "e57a91f5-c3bd-483d-addc-20d4f482e6fa",
   "metadata": {},
   "outputs": [
    {
     "name": "stdout",
     "output_type": "stream",
     "text": [
      "Original array: [1 2 3 4 5]\n",
      "View array: [1 2 3 4 5]\n",
      "Modified view array: [10  2  3  4  5]\n",
      "Original array after modifying view: [10  2  3  4  5]\n"
     ]
    }
   ],
   "source": [
    "#17. Create a NumPy array and demonstrate the use of `numpy.view` to create a new array object with the same data.\n",
    "\n",
    "import numpy as np\n",
    "def create_numpy_view():\n",
    "\n",
    "    original_array = np.array([1, 2, 3, 4, 5])\n",
    "    view_array = original_array.view()\n",
    "\n",
    "    print(\"Original array:\", original_array)\n",
    "    print(\"View array:\", view_array)\n",
    " \n",
    "    # Modify the view array\n",
    "    view_array[0] = 10\n",
    "\n",
    "    print(\"Modified view array:\", view_array)\n",
    "    print(\"Original array after modifying view:\", original_array)\n",
    "\n",
    "create_numpy_view()"
   ]
  },
  {
   "cell_type": "code",
   "execution_count": 18,
   "id": "0a067960-064c-479c-a064-24f9c507f2ed",
   "metadata": {},
   "outputs": [
    {
     "name": "stdout",
     "output_type": "stream",
     "text": [
      "[[1 2]\n",
      " [3 4]\n",
      " [5 6]\n",
      " [7 8]]\n",
      "[[1 2 5 6]\n",
      " [3 4 7 8]]\n"
     ]
    }
   ],
   "source": [
    "#18. Write a function that takes two NumPy arrays and concatenates them along a specified axis\n",
    "\n",
    "import numpy as np\n",
    "\n",
    "def concatenate_arrays(arr1, arr2, axis=0):\n",
    "    return np.concatenate((arr1, arr2), axis=axis)\n",
    "\n",
    "# Example usage\n",
    "array1 = np.array([[1, 2], [3, 4]])\n",
    "array2 = np.array([[5, 6], [7, 8]])\n",
    "\n",
    "# Concatenate along the first axis (rows)\n",
    "concatenated_array1 = concatenate_arrays(array1, array2)\n",
    "print(concatenated_array1)\n",
    "\n",
    "# Concatenate along the second axis (columns)\n",
    "concatenated_array2 = concatenate_arrays(array1, array2, axis=1)\n",
    "print(concatenated_array2)"
   ]
  },
  {
   "cell_type": "code",
   "execution_count": 19,
   "id": "f038f6d0-1ee1-4ee3-af38-6c12d46531c4",
   "metadata": {},
   "outputs": [
    {
     "name": "stdout",
     "output_type": "stream",
     "text": [
      "[[1 2 3 4 5 6]\n",
      " [7 8 9 7 8 9]]\n"
     ]
    }
   ],
   "source": [
    "#19. Create two NumPy arrays with different shapes and concatenate them horizontally using `numpy. concatenate`.\n",
    "\n",
    "import numpy as np\n",
    "def concatenate_arrays_horizontally():\n",
    "    array1 = np.array([[1, 2, 3],[7, 8, 9]])\n",
    "    array2 = np.array([[4, 5, 6], [7, 8, 9]])\n",
    "\n",
    "    concatenated_array = np.concatenate((array1, array2), axis=1)\n",
    "    print(concatenated_array)\n",
    "\n",
    "concatenate_arrays_horizontally()"
   ]
  },
  {
   "cell_type": "code",
   "execution_count": 20,
   "id": "95a087c5-60a7-4be2-90c2-fbb816710f64",
   "metadata": {},
   "outputs": [
    {
     "name": "stdout",
     "output_type": "stream",
     "text": [
      "[[1 2 3]\n",
      " [4 5 6]\n",
      " [7 8 9]]\n"
     ]
    }
   ],
   "source": [
    "#20. Write a function that vertically stacks multiple NumPy arrays given as a list\n",
    "\n",
    "import numpy as np\n",
    "def stack_arrays_vertically(arrays):\n",
    "    return np.vstack(arrays)\n",
    "\n",
    "array1 = np.array([1, 2, 3])\n",
    "array2 = np.array([4, 5, 6])\n",
    "array3 = np.array([7, 8, 9])\n",
    "\n",
    "stacked_array = stack_arrays_vertically([array1, array2, array3])\n",
    "print(stacked_array)"
   ]
  },
  {
   "cell_type": "code",
   "execution_count": 21,
   "id": "61bba9cf-1d6f-451a-bf11-74b7df0f9025",
   "metadata": {},
   "outputs": [
    {
     "name": "stdout",
     "output_type": "stream",
     "text": [
      "[ 2  4  6  8 10]\n"
     ]
    }
   ],
   "source": [
    "#21. Write a Python function using NumPy to create an array of integers within a specified range (inclusive) with a given step size.\n",
    "\n",
    "import numpy as np\n",
    "def create_integer_array(start, stop, step):\n",
    "    return np.arange(start, stop + 1, step)\n",
    "\n",
    "\n",
    "array = create_integer_array(2, 10, 2)\n",
    "print(array)  # Output: [2 4 6 8 10]"
   ]
  },
  {
   "cell_type": "code",
   "execution_count": 22,
   "id": "f8138bee-14fb-4fce-b044-8905cd76902f",
   "metadata": {},
   "outputs": [
    {
     "name": "stdout",
     "output_type": "stream",
     "text": [
      "[0.         0.11111111 0.22222222 0.33333333 0.44444444 0.55555556\n",
      " 0.66666667 0.77777778 0.88888889 1.        ]\n"
     ]
    }
   ],
   "source": [
    "#22. Write a Python function using NumPy to generate an array of 10 equally spaced values between 0 and 1 (inclusive).\n",
    "\n",
    "import numpy as np\n",
    "def generate_equally_spaced_array():\n",
    "    return np.linspace(0, 1, 10)\n",
    "\n",
    "array = generate_equally_spaced_array()\n",
    "print(array)"
   ]
  },
  {
   "cell_type": "code",
   "execution_count": 23,
   "id": "3eee84d9-12de-4f3d-8bfd-5849d16cf258",
   "metadata": {},
   "outputs": [
    {
     "name": "stdout",
     "output_type": "stream",
     "text": [
      "[   1.            5.62341325   31.6227766   177.827941   1000.        ]\n"
     ]
    }
   ],
   "source": [
    "#23. Write a Python function using NumPy to create an array of 5 logarithmically spaced values between 1 and 1000 (inclusive).\n",
    "\n",
    "import numpy as np\n",
    "def generate_logarithmic_spaced_array(start, stop, num):\n",
    "    return np.logspace(np.log10(start), np.log10(stop), num)\n",
    "\n",
    "array = generate_logarithmic_spaced_array(1, 1000, 5)\n",
    "print(array)"
   ]
  },
  {
   "cell_type": "code",
   "execution_count": 24,
   "id": "8c08d12d-85dd-4f79-a0e9-ae69bab1afbf",
   "metadata": {},
   "outputs": [
    {
     "name": "stdout",
     "output_type": "stream",
     "text": [
      "   Column1  Column2  Column3\n",
      "0       26       41       87\n",
      "1       58       53       40\n",
      "2       36       16       75\n",
      "3       12       37       41\n",
      "4       39       63       60\n"
     ]
    }
   ],
   "source": [
    "#24. Create a Pandas DataFrame using a NumPy array that contains 5 rows and 3 columns, where the values are random integers between 1 and 100.\n",
    "\n",
    "import numpy as np\n",
    "import pandas as pd\n",
    "\n",
    "def create_dataframe_from_numpy_array():\n",
    "    data = np.random.randint(1, 101, size=(5, 3))\n",
    "    df = pd.DataFrame(data, columns=[\"Column1\", \"Column2\", \"Column3\"])\n",
    "    return df\n",
    "\n",
    "df = create_dataframe_from_numpy_array()\n",
    "print(df)"
   ]
  },
  {
   "cell_type": "code",
   "execution_count": 25,
   "id": "5547386e-cc0e-451b-a6f1-e6abb2a5bfd1",
   "metadata": {},
   "outputs": [
    {
     "name": "stdout",
     "output_type": "stream",
     "text": [
      "   Column1  Column2\n",
      "0        3        2\n",
      "1        0        4\n",
      "2        5        3\n",
      "3        0        1\n",
      "4        0        6\n"
     ]
    }
   ],
   "source": [
    "#25. Write a function that takes a Pandas DataFrame and replaces all negative values in a specific column with zeros. Use NumPy operations within the Pandas DataFrame.\n",
    "\n",
    "import pandas as pd\n",
    "import numpy as np\n",
    "\n",
    "def replace_negative_values(df, column_name):\n",
    "    df[column_name] = np.where(df[column_name] < 0, 0, df[column_name])\n",
    "    return df\n",
    "\n",
    "data = {'Column1': [3, -2, 5, 0, -1],\n",
    "        'Column2': [2, 4, 3, 1, 6]}\n",
    "df = pd.DataFrame(data)\n",
    "\n",
    "df = replace_negative_values(df, 'Column1')\n",
    "print(df)"
   ]
  },
  {
   "cell_type": "code",
   "execution_count": 26,
   "id": "68da259e-631d-441b-8315-61027cb5e853",
   "metadata": {},
   "outputs": [
    {
     "name": "stdout",
     "output_type": "stream",
     "text": [
      "30\n"
     ]
    }
   ],
   "source": [
    "#26.Access the 3rd element from the given NumPy array. arr = np.array([10, 20, 30, 40, 50]) .\n",
    "\n",
    "import numpy as np\n",
    "arr = np.array([10, 20, 30, 40, 50])\n",
    "\n",
    "third_element = arr[2]\n",
    "print(third_element)"
   ]
  },
  {
   "cell_type": "code",
   "execution_count": 27,
   "id": "8392c1bc-c35c-4ce7-a097-3c8f4869ff82",
   "metadata": {},
   "outputs": [
    {
     "name": "stdout",
     "output_type": "stream",
     "text": [
      "6\n"
     ]
    }
   ],
   "source": [
    "#27 . Retrieve the element at index (1, 2) from the 2D NumPy array. arr_2d = np.array([[1, 2, 3], [4, 5, 6], [7, 8, 9]])\n",
    "\n",
    "import numpy as np\n",
    "arr_2d = np.array([[1, 2, 3],\n",
    "                   [4, 5, 6],\n",
    "                   [7, 8, 9]])\n",
    "\n",
    "element = arr_2d[1, 2]  \n",
    "print(element)"
   ]
  },
  {
   "cell_type": "code",
   "execution_count": 28,
   "id": "17cb0f6b-b60b-4315-845d-a1cffb5768c0",
   "metadata": {},
   "outputs": [
    {
     "name": "stdout",
     "output_type": "stream",
     "text": [
      "[ 8 10  7]\n"
     ]
    }
   ],
   "source": [
    "#28. Using boolean indexing, extract elements greater than 5 from the given NumPy array.arr = np.array([3, 8, 2, 10, 5, 7])\n",
    "\n",
    "import numpy as np\n",
    "arr = np.array([3, 8, 2, 10, 5, 7])\n",
    "mask = arr > 5\n",
    "elements_greater_than_5 = arr[mask]\n",
    "\n",
    "print(elements_greater_than_5)  "
   ]
  },
  {
   "cell_type": "code",
   "execution_count": 29,
   "id": "6917c1cf-42b5-4137-b937-07196938eb02",
   "metadata": {},
   "outputs": [
    {
     "name": "stdout",
     "output_type": "stream",
     "text": [
      "[3 4 5 6]\n"
     ]
    }
   ],
   "source": [
    "#29. Perform basic slicing to extract elements from index 2 to 5 (inclusive) from the given NumPy array.arr = np.array([1, 2, 3, 4, 5, 6, 7, 8, 9])\n",
    "\n",
    "import numpy as np\n",
    "arr = np.array([1, 2, 3, 4, 5, 6, 7, 8, 9])\n",
    "sliced_array = arr[2:6]\n",
    "print(sliced_array)"
   ]
  },
  {
   "cell_type": "code",
   "execution_count": 30,
   "id": "3a37a5da-69ec-41bc-a062-5e230786be54",
   "metadata": {},
   "outputs": [
    {
     "name": "stdout",
     "output_type": "stream",
     "text": [
      "[[5 6]\n",
      " [8 9]]\n"
     ]
    }
   ],
   "source": [
    "#30. Slice the 2D NumPy array to extract the sub-array `[[2, 3], [5, 6]]` from the given array.arr_2d = np.array([[1, 2, 3],\n",
    "  #                 [4, 5, 6],\n",
    "  #                 [7, 8, 9]])\n",
    "\n",
    "import numpy as np\n",
    "arr_2d = np.array([[1, 2, 3],\n",
    "                   [4, 5, 6],\n",
    "                   [7, 8, 9]])\n",
    "sub_array = arr_2d[1:3, 1:3]\n",
    "print(sub_array) "
   ]
  },
  {
   "cell_type": "code",
   "execution_count": 31,
   "id": "d518d284-1106-40a0-93d5-818e316f0a32",
   "metadata": {},
   "outputs": [
    {
     "name": "stdout",
     "output_type": "stream",
     "text": [
      "[2 7]\n"
     ]
    }
   ],
   "source": [
    "#31 Write a NumPy function to extract elements in specific order from a given 2D array based on indices provided in another array.\n",
    "\n",
    "import numpy as np\n",
    "\n",
    "def extract_elements_by_indices(arr, indices):\n",
    "    return arr[indices[:, 0], indices[:, 1]]\n",
    "arr = np.array([[1, 2, 3],\n",
    "                [4, 5, 6],\n",
    "                [7, 8, 9]])\n",
    "indices = np.array([[0, 1], [2, 0]])\n",
    "result = extract_elements_by_indices(arr, indices)\n",
    "print(result)"
   ]
  },
  {
   "cell_type": "code",
   "execution_count": 32,
   "id": "f2c0f462-54c1-45eb-bae7-2a2c767be71e",
   "metadata": {},
   "outputs": [
    {
     "name": "stdout",
     "output_type": "stream",
     "text": [
      "[ 8 10  7]\n"
     ]
    }
   ],
   "source": [
    "#32. Create a NumPy function that filters elements greater than a threshold from a given 1D array using boolean indexing.\n",
    "\n",
    "import numpy as np\n",
    "def filter_elements(arr, threshold):\n",
    "    return arr[arr > threshold]\n",
    "\n",
    "arr = np.array([3, 8, 2, 10, 5, 7])\n",
    "threshold = 5\n",
    "result = filter_elements(arr, threshold)\n",
    "print(result) "
   ]
  },
  {
   "cell_type": "code",
   "execution_count": 33,
   "id": "f8c5d25e-24ea-4d09-9eaf-531ef725d298",
   "metadata": {},
   "outputs": [
    {
     "name": "stdout",
     "output_type": "stream",
     "text": [
      "[ 6 15]\n"
     ]
    }
   ],
   "source": [
    "#33. Develop a NumPy function that extracts specific elements from a 3D array using indices provided in three separate arrays for each dimension.\n",
    "\n",
    "import numpy as np\n",
    "def extract_elements_3d(arr, indices_x, indices_y, indices_z):\n",
    "    return arr[indices_x, indices_y, indices_z]\n",
    "\n",
    "arr = np.arange(24).reshape(2, 3, 4)\n",
    "indices_x = np.array([0, 1])\n",
    "indices_y = np.array([1, 0])\n",
    "indices_z = np.array([2, 3])\n",
    "result = extract_elements_3d(arr, indices_x, indices_y, indices_z)\n",
    "print(result) "
   ]
  },
  {
   "cell_type": "code",
   "execution_count": 34,
   "id": "8f88e259-3ad8-4803-b0f2-fd091dd2a3dc",
   "metadata": {},
   "outputs": [
    {
     "name": "stdout",
     "output_type": "stream",
     "text": [
      "[5 7 4]\n"
     ]
    }
   ],
   "source": [
    "#34 . Write a NumPy function that returns elements from an array where both two conditions are satisfied using boolean indexing.\n",
    "\n",
    "import numpy as np\n",
    "def filter_by_conditions(arr, condition1, condition2):\n",
    "    return arr[(condition1) & (condition2)]\n",
    "\n",
    "arr = np.array([2, 5, 8, 3, 7, 4])\n",
    "condition1 = arr > 3\n",
    "condition2 = arr < 8\n",
    "result = filter_by_conditions(arr, condition1, condition2)\n",
    "print(result)  "
   ]
  },
  {
   "cell_type": "code",
   "execution_count": 35,
   "id": "91983a73-9e10-4ca8-bd12-1993625570b6",
   "metadata": {},
   "outputs": [
    {
     "name": "stdout",
     "output_type": "stream",
     "text": [
      "[2 9]\n"
     ]
    }
   ],
   "source": [
    "#35. Create a NumPy function that extracts elements from a 2D array using row and column indices provided in separate arrays.\n",
    "\n",
    "import numpy as np\n",
    "def extract_elements_by_indices(arr, row_indices, col_indices):\n",
    "    return arr[row_indices, col_indices]\n",
    "\n",
    "arr = np.array([[1, 2, 3],\n",
    "                [4, 5, 6],\n",
    "                [7, 8, 9]])\n",
    "row_indices = np.array([0, 2])\n",
    "col_indices = np.array([1, 2])\n",
    "result = extract_elements_by_indices(arr, row_indices, col_indices)\n",
    "print(result)  "
   ]
  },
  {
   "cell_type": "code",
   "execution_count": 36,
   "id": "e906ad2d-072d-479d-a484-5828f9208c86",
   "metadata": {},
   "outputs": [
    {
     "name": "stdout",
     "output_type": "stream",
     "text": [
      "[[ 6  7  8]\n",
      " [ 9 10 11]\n",
      " [12 13 14]]\n"
     ]
    }
   ],
   "source": [
    "#36. Given an array arr of shape (3, 3), add a scalar value of 5 to each element using NumPy broadcasting.\n",
    "\n",
    "import numpy as np\n",
    "def add_scalar(arr, scalar):\n",
    "    return arr + scalar\n",
    "\n",
    "arr = np.array([[1, 2, 3],\n",
    "                [4, 5, 6],\n",
    "                [7, 8, 9]])\n",
    "scalar = 5\n",
    "result = add_scalar(arr, scalar)\n",
    "print(result)"
   ]
  },
  {
   "cell_type": "code",
   "execution_count": 37,
   "id": "fed7767b-49fd-423a-8961-a80a68ede733",
   "metadata": {},
   "outputs": [
    {
     "name": "stdout",
     "output_type": "stream",
     "text": [
      "Result of multiplying each row of arr2 by the corresponding element in arr1:\n",
      " [[ 2  4  6  8]\n",
      " [15 18 21 24]\n",
      " [36 40 44 48]]\n"
     ]
    }
   ],
   "source": [
    "#37 .Consider two arrays arr1 of shape (1, 3) and arr2 of shape (3, 4). Multiply each row of arr2 by the corresponding element in arr1 using NumPy broadcasting.\n",
    "\n",
    "import numpy as np\n",
    "arr1 = np.array([[2, 3, 4]])\n",
    "arr2 = np.array([[1, 2, 3, 4], [5, 6, 7, 8], [9, 10, 11, 12]])\n",
    "\n",
    "# Multiply each row of arr2 by the corresponding element in arr1 using broadcasting\n",
    "result = arr1.T * arr2\n",
    "print(\"Result of multiplying each row of arr2 by the corresponding element in arr1:\\n\", result)"
   ]
  },
  {
   "cell_type": "code",
   "execution_count": 38,
   "id": "6a275e9e-4f27-4c42-85d7-c22634196ecb",
   "metadata": {},
   "outputs": [
    {
     "name": "stdout",
     "output_type": "stream",
     "text": [
      "Result of adding arr1 to each row of arr2:\n",
      " [[ 11  21  31]\n",
      " [ 42  52  62]\n",
      " [ 73  83  93]\n",
      " [104 114 124]]\n"
     ]
    }
   ],
   "source": [
    "#38. Given a 1D array arr1 of shape (1, 4) and a 2D array arr2 of shape (4, 3), add arr1 to each row of arr2 using NumPy broadcasting.\n",
    "\n",
    "# Define the arrays\n",
    "arr1 = np.array([[1, 2, 3, 4]])\n",
    "arr2 = np.array([[10, 20, 30], [40, 50, 60], [70, 80, 90], [100, 110, 120]])\n",
    "\n",
    "# Add arr1 to each row of arr2 using broadcasting\n",
    "result = arr1 + arr2.T\n",
    "print(\"Result of adding arr1 to each row of arr2:\\n\", result.T)"
   ]
  },
  {
   "cell_type": "code",
   "execution_count": 39,
   "id": "bda69ca3-ef4b-4968-9775-c39329504311",
   "metadata": {},
   "outputs": [
    {
     "name": "stdout",
     "output_type": "stream",
     "text": [
      "[[5 6 7]\n",
      " [6 7 8]\n",
      " [7 8 9]]\n"
     ]
    }
   ],
   "source": [
    "#39.  Consider two arrays arr1 of shape (3, 1) and arr2 of shape (1, 3). Add these arrays using NumPy broadcasting.\n",
    "\n",
    "import numpy as np\n",
    "def add_arrays(arr1, arr2):\n",
    "    return arr1 + arr2\n",
    "\n",
    "arr1 = np.array([[1], [2], [3]])\n",
    "arr2 = np.array([[4, 5, 6]])\n",
    "result = add_arrays(arr1, arr2)\n",
    "print(result)"
   ]
  },
  {
   "cell_type": "code",
   "execution_count": 40,
   "id": "05a94fe5-3727-47e2-a834-8dccedec8e68",
   "metadata": {},
   "outputs": [
    {
     "name": "stdout",
     "output_type": "stream",
     "text": [
      "[[[ 7  8]\n",
      "  [14 16]\n",
      "  [21 24]]\n",
      "\n",
      " [[36 40]\n",
      "  [45 50]\n",
      "  [54 60]]]\n"
     ]
    }
   ],
   "source": [
    "#40. Given arrays arr1 of shape (2, 3) and arr2 of shape (2, 2), perform multiplication using NumPy broadcasting. Handle the shape incompatibility.\n",
    "\n",
    "import numpy as np\n",
    "def multiply_arrays(arr1, arr2):\n",
    "    return np.einsum('ij,ik->ijk', arr1, arr2)\n",
    "\n",
    "arr1 = np.array([[1, 2, 3],\n",
    "                 [4, 5, 6]])\n",
    "arr2 = np.array([[7, 8],\n",
    "                 [9, 10]])\n",
    "result = multiply_arrays(arr1, arr2)\n",
    "print(result)"
   ]
  },
  {
   "cell_type": "code",
   "execution_count": 41,
   "id": "68b18fef-a58a-4b47-b8cf-6be8ef44ae43",
   "metadata": {},
   "outputs": [
    {
     "name": "stdout",
     "output_type": "stream",
     "text": [
      "Column-wise mean: [2.5 3.5 4.5]\n"
     ]
    }
   ],
   "source": [
    "#41. Calculate column wise mean for the given array. arr = np.array([[1, 2, 3], [4, 5, 6]])\n",
    "\n",
    "import numpy as np\n",
    "arr = np.array([[1, 2, 3], [4, 5, 6]])\n",
    "\n",
    "# Calculate column-wise mean\n",
    "column_mean = arr.mean(axis=0)\n",
    "print(\"Column-wise mean:\", column_mean)"
   ]
  },
  {
   "cell_type": "code",
   "execution_count": 42,
   "id": "5e907766-0175-4e68-9352-b7cf08708d32",
   "metadata": {},
   "outputs": [
    {
     "name": "stdout",
     "output_type": "stream",
     "text": [
      "Maximum value in each row: [3 6]\n"
     ]
    }
   ],
   "source": [
    "#42. Find maximum value in each row of the given array: arr = np.array([[1, 2, 3], [4, 5, 6]])\n",
    "\n",
    "arr = np.array([[1, 2, 3], [4, 5, 6]])\n",
    "\n",
    "# Find maximum value in each row\n",
    "row_max = arr.max(axis=1)\n",
    "print(\"Maximum value in each row:\", row_max)"
   ]
  },
  {
   "cell_type": "code",
   "execution_count": 43,
   "id": "9dee7e52-6571-4c76-bf53-8df6c94a2716",
   "metadata": {},
   "outputs": [
    {
     "name": "stdout",
     "output_type": "stream",
     "text": [
      "Indices of maximum value in each column: [1 1 1]\n"
     ]
    }
   ],
   "source": [
    "#43. For the given array, find indices of maximum value in each column.arr = np.array([[1, 2, 3], [4, 5, 6]])\n",
    "\n",
    "# Given array\n",
    "arr = np.array([[1, 2, 3], [4, 5, 6]])\n",
    "\n",
    "# Find indices of maximum value in each column\n",
    "indices_max_col = arr.argmax(axis=0)\n",
    "print(\"Indices of maximum value in each column:\", indices_max_col)"
   ]
  },
  {
   "cell_type": "code",
   "execution_count": 44,
   "id": "36797477-11d2-4e07-baca-f2993e68a586",
   "metadata": {},
   "outputs": [
    {
     "name": "stdout",
     "output_type": "stream",
     "text": [
      "Moving sum along rows: [[ 3  5]\n",
      " [ 9 11]]\n"
     ]
    }
   ],
   "source": [
    "#44. For the given array, apply custom function to calculate moving sum along rows. arr = np.array([[1, 2, 3], [4, 5, 6]])\n",
    "\n",
    "# Custom function to calculate moving sum along rows\n",
    "def moving_sum(arr, window_size):\n",
    "    return np.array([np.convolve(row, np.ones(window_size, dtype=int), 'valid') for row in arr])\n",
    "\n",
    "# Given array\n",
    "arr = np.array([[1, 2, 3], [4, 5, 6]])\n",
    "\n",
    "# Apply custom function\n",
    "moving_sum_result = moving_sum(arr, 2)\n",
    "print(\"Moving sum along rows:\", moving_sum_result)"
   ]
  },
  {
   "cell_type": "code",
   "execution_count": 45,
   "id": "9323b354-1efb-4843-9b4f-cb1851b143cf",
   "metadata": {},
   "outputs": [
    {
     "name": "stdout",
     "output_type": "stream",
     "text": [
      "All elements in each column are even: [False False False]\n"
     ]
    }
   ],
   "source": [
    "#45. In the given array, check if all elements in each column are even. arr = np.array([[2, 4, 6], [3, 5, 7]])\n",
    "\n",
    "# Given array\n",
    "arr = np.array([[2, 4, 6], [3, 5, 7]])\n",
    "\n",
    "# Check if all elements in each column are even\n",
    "all_even = np.all(arr % 2 == 0, axis=0)\n",
    "print(\"All elements in each column are even:\", all_even)"
   ]
  },
  {
   "cell_type": "code",
   "execution_count": 46,
   "id": "7bfdfe90-116d-4a11-85b0-d4db5b28693b",
   "metadata": {},
   "outputs": [
    {
     "name": "stdout",
     "output_type": "stream",
     "text": [
      "Reshaped matrix:\n",
      " [[1 2 3]\n",
      " [4 5 6]]\n"
     ]
    }
   ],
   "source": [
    "#46. Given a NumPy array arr, reshape it into a matrix of dimensions `m` rows and `n` columns. Return the reshaped matrix. original_array = np.array([1, 2, 3, 4, 5, 6])\n",
    "\n",
    "import numpy as np\n",
    "\n",
    "def reshape_array(arr, m, n):\n",
    "    return arr.reshape(m, n)\n",
    "\n",
    "# Given array\n",
    "original_array = np.array([1, 2, 3, 4, 5, 6])\n",
    "\n",
    "# Reshape array to 2 rows and 3 columns\n",
    "reshaped_matrix = reshape_array(original_array, 2, 3)\n",
    "print(\"Reshaped matrix:\\n\", reshaped_matrix)"
   ]
  },
  {
   "cell_type": "code",
   "execution_count": 47,
   "id": "418ece62-a1d3-4cae-99ec-17704309f765",
   "metadata": {},
   "outputs": [
    {
     "name": "stdout",
     "output_type": "stream",
     "text": [
      "Flattened array: [1 2 3 4 5 6]\n"
     ]
    }
   ],
   "source": [
    "#47. Create a function that takes a matrix as input and returns the flattened array.input_matrix = np.array([[1, 2, 3], [4, 5, 6]])\n",
    "\n",
    "def flatten_matrix(matrix):\n",
    "    return matrix.flatten()\n",
    "\n",
    "# Given matrix\n",
    "input_matrix = np.array([[1, 2, 3], [4, 5, 6]])\n",
    "\n",
    "# Flatten the matrix\n",
    "flattened_array = flatten_matrix(input_matrix)\n",
    "print(\"Flattened array:\", flattened_array)"
   ]
  },
  {
   "cell_type": "code",
   "execution_count": 48,
   "id": "34d964bd-a9ac-4b1f-8c92-35ff0da67f6d",
   "metadata": {},
   "outputs": [
    {
     "name": "stdout",
     "output_type": "stream",
     "text": [
      "Concatenated along axis 0:\n",
      " [[1 2]\n",
      " [3 4]\n",
      " [5 6]\n",
      " [7 8]]\n",
      "Concatenated along axis 1:\n",
      " [[1 2 5 6]\n",
      " [3 4 7 8]]\n"
     ]
    }
   ],
   "source": [
    "#48,  Write a function that concatenates two given arrays along a specified axis.  array1 = np.array([[1, 2], [3, 4]]) ,array2 = np.array([[5, 6], [7, 8]])\n",
    "\n",
    "def concatenate_arrays(arr1, arr2, axis):\n",
    "    return np.concatenate((arr1, arr2), axis=axis)\n",
    "\n",
    "# Given arrays\n",
    "array1 = np.array([[1, 2], [3, 4]])\n",
    "array2 = np.array([[5, 6], [7, 8]])\n",
    "\n",
    "# Concatenate along axis 0 (rows)\n",
    "concatenated_array_0 = concatenate_arrays(array1, array2, axis=0)\n",
    "print(\"Concatenated along axis 0:\\n\", concatenated_array_0)\n",
    "\n",
    "# Concatenate along axis 1 (columns)\n",
    "concatenated_array_1 = concatenate_arrays(array1, array2, axis=1)\n",
    "print(\"Concatenated along axis 1:\\n\", concatenated_array_1)"
   ]
  },
  {
   "cell_type": "code",
   "execution_count": 49,
   "id": "ce6dbe83-bd4e-4136-b221-9868050f8f8e",
   "metadata": {},
   "outputs": [
    {
     "name": "stdout",
     "output_type": "stream",
     "text": [
      "Split along axis 0: [array([[1, 2, 3]]), array([[4, 5, 6]]), array([[7, 8, 9]])]\n",
      "Split along axis 1: [array([[1],\n",
      "       [4],\n",
      "       [7]]), array([[2],\n",
      "       [5],\n",
      "       [8]]), array([[3],\n",
      "       [6],\n",
      "       [9]])]\n"
     ]
    }
   ],
   "source": [
    "#49. Create a function that splits an array into multiple sub-arrays along a specified axis. original_array = np.array([[1, 2, 3], [4, 5, 6], [7, 8, 9]])\n",
    "\n",
    "def split_array(arr, indices_or_sections, axis):\n",
    "    return np.split(arr, indices_or_sections, axis=axis)\n",
    "\n",
    "# Given array\n",
    "original_array = np.array([[1, 2, 3], [4, 5, 6], [7, 8, 9]])\n",
    "\n",
    "# Split along axis 0 (rows)\n",
    "split_arrays_0 = split_array(original_array, 3, axis=0)\n",
    "print(\"Split along axis 0:\", split_arrays_0)\n",
    "\n",
    "# Split along axis 1 (columns)\n",
    "split_arrays_1 = split_array(original_array, 3, axis=1)\n",
    "print(\"Split along axis 1:\", split_arrays_1)"
   ]
  },
  {
   "cell_type": "code",
   "execution_count": 50,
   "id": "dfe8586a-6805-42ce-a183-3378562d03d8",
   "metadata": {},
   "outputs": [
    {
     "name": "stdout",
     "output_type": "stream",
     "text": [
      "Modified array: [ 1 10  4 11  5]\n"
     ]
    }
   ],
   "source": [
    "#50. Write a function that inserts and then deletes elements from a given array at specified indices.\n",
    "#original_array = np.array([1, 2, 3, 4, 5])\n",
    "#indices_to_insert = [2, 4]\n",
    "#values_to_insert = [10, 11]\n",
    "#indices_to_delete = [1, 3]\n",
    "\n",
    "def insert_delete_elements(arr, indices_to_insert, values_to_insert, indices_to_delete):\n",
    "    arr = np.insert(arr, indices_to_insert, values_to_insert)\n",
    "    arr = np.delete(arr, indices_to_delete)\n",
    "    return arr\n",
    "\n",
    "# Given array and indices\n",
    "original_array = np.array([1, 2, 3, 4, 5])\n",
    "indices_to_insert = [2, 4]\n",
    "values_to_insert = [10, 11]\n",
    "indices_to_delete = [1, 3]\n",
    "\n",
    "# Insert and delete elements\n",
    "modified_array = insert_delete_elements(original_array, indices_to_insert, values_to_insert, indices_to_delete)\n",
    "print(\"Modified array:\", modified_array)"
   ]
  },
  {
   "cell_type": "code",
   "execution_count": 51,
   "id": "4755d10c-6443-4a61-be96-a122b4cf93c2",
   "metadata": {},
   "outputs": [
    {
     "name": "stdout",
     "output_type": "stream",
     "text": [
      "Element-wise addition: [11  9  7  7 15 16 16  9 16 14]\n"
     ]
    }
   ],
   "source": [
    "#51.Create a NumPy array `arr1` with random integers and another array `arr2` with integers from 1 to 10. Perform element-wise addition between `arr1` and `arr2`.\n",
    "\n",
    "# Create arrays\n",
    "arr1 = np.random.randint(1, 11, size=10)\n",
    "arr2 = np.arange(1, 11)\n",
    "\n",
    "# Element-wise addition\n",
    "sum_array = arr1 + arr2\n",
    "print(\"Element-wise addition:\", sum_array)"
   ]
  },
  {
   "cell_type": "code",
   "execution_count": 52,
   "id": "54ea1137-7a0b-4522-9375-98d93c290ccc",
   "metadata": {},
   "outputs": [
    {
     "name": "stdout",
     "output_type": "stream",
     "text": [
      "Element-wise subtraction: [ 9  7  5  3  1 -1 -3 -5 -7 -9]\n"
     ]
    }
   ],
   "source": [
    "#52.  Generate a NumPy array `arr1` with sequential integers from 10 to 1 and another array `arr2` with integers from 1 to 10. Subtract `arr2` from `arr1` element-wise.\n",
    "\n",
    "# Create arrays\n",
    "arr1 = np.arange(10, 0, -1)\n",
    "arr2 = np.arange(1, 11)\n",
    "\n",
    "# Element-wise subtraction\n",
    "diff_array = arr1 - arr2\n",
    "print(\"Element-wise subtraction:\", diff_array)"
   ]
  },
  {
   "cell_type": "code",
   "execution_count": 53,
   "id": "8ddac42c-be40-47c0-9a2b-9830ea69d33e",
   "metadata": {},
   "outputs": [
    {
     "name": "stdout",
     "output_type": "stream",
     "text": [
      "Element-wise multiplication: [ 1 14  9  4 25]\n"
     ]
    }
   ],
   "source": [
    "#53. Create a NumPy array `arr1` with random integers and another array `arr2` with integers from 1 to 5. Perform element-wise multiplication between `arr1` and `arr2`.\n",
    "\n",
    "# Create arrays\n",
    "arr1 = np.random.randint(1, 11, size=10)\n",
    "arr2 = np.arange(1, 6)\n",
    "\n",
    "# Element-wise multiplication\n",
    "product_array = arr1[:5] * arr2\n",
    "print(\"Element-wise multiplication:\", product_array)"
   ]
  },
  {
   "cell_type": "code",
   "execution_count": 54,
   "id": "1d6239c7-1d5d-4e87-98e7-824647a7ae95",
   "metadata": {},
   "outputs": [
    {
     "name": "stdout",
     "output_type": "stream",
     "text": [
      "Element-wise division: [2. 2. 2. 2. 2.]\n"
     ]
    }
   ],
   "source": [
    "#54. Generate a NumPy array `arr1` with even integers from 2 to 10 and another array `arr2` with integers from 1 to 5. Perform element-wise division of `arr1` by `arr2`\n",
    "\n",
    "# Create arrays\n",
    "arr1 = np.arange(2, 12, 2)\n",
    "arr2 = np.arange(1, 6)\n",
    "\n",
    "# Element-wise division\n",
    "division_array = arr1 / arr2\n",
    "print(\"Element-wise division:\", division_array)"
   ]
  },
  {
   "cell_type": "code",
   "execution_count": 55,
   "id": "d066053f-15c3-4497-9aaf-9e82a8f1d166",
   "metadata": {},
   "outputs": [
    {
     "name": "stdout",
     "output_type": "stream",
     "text": [
      "Element-wise exponentiation: [ 1 16 27 16  5]\n"
     ]
    }
   ],
   "source": [
    "#55. Create a NumPy array arr1 with integers from 1 to 5 and another array arr2 with the same numbers reversed. Calculate the exponentiation of arr1 raised to the power of arr2 element-wise\n",
    "\n",
    "# Create arrays\n",
    "arr1 = np.arange(1, 6)\n",
    "arr2 = arr1[::-1]\n",
    "\n",
    "# Element-wise exponentiation\n",
    "exp_array = np.power(arr1, arr2)\n",
    "print(\"Element-wise exponentiation:\", exp_array)"
   ]
  },
  {
   "cell_type": "code",
   "execution_count": 56,
   "id": "91f19f64-54e5-41bf-8b7a-b21fee020d7b",
   "metadata": {},
   "outputs": [
    {
     "name": "stdout",
     "output_type": "stream",
     "text": [
      "Occurrences of 'hello': 3\n"
     ]
    }
   ],
   "source": [
    "#56.. Write a function that counts the occurrences of a specific substring within a NumPy array of strings. arr = np.array(['hello', 'world', 'hello', 'numpy', 'hello'])\n",
    "\n",
    "def count_substring(arr, substring):\n",
    "    return np.char.count(arr, substring).sum()\n",
    "\n",
    "# Given array\n",
    "arr = np.array(['hello', 'world', 'hello', 'numpy', 'hello'])\n",
    "\n",
    "# Count occurrences of 'hello'\n",
    "count_hello = count_substring(arr, 'hello')\n",
    "print(\"Occurrences of 'hello':\", count_hello)"
   ]
  },
  {
   "cell_type": "code",
   "execution_count": 57,
   "id": "edd03308-77f9-49d1-b68c-75dd8d200cbb",
   "metadata": {},
   "outputs": [
    {
     "name": "stdout",
     "output_type": "stream",
     "text": [
      "Uppercase characters: ['H' 'W' 'OAI' 'GPT']\n"
     ]
    }
   ],
   "source": [
    "#57. Write a function that extracts uppercase characters from a NumPy array of strings.\n",
    "#arr = np.array(['Hello', 'World', 'OpenAI', 'GPT'])\n",
    "\n",
    "def extract_uppercase(arr):\n",
    "    return np.array([''.join([char for char in string if char.isupper()]) for string in arr])\n",
    "\n",
    "# Given array\n",
    "arr = np.array(['Hello', 'World', 'OpenAI', 'GPT'])\n",
    "\n",
    "# Extract uppercase characters\n",
    "uppercase_chars = extract_uppercase(arr)\n",
    "print(\"Uppercase characters:\", uppercase_chars)"
   ]
  },
  {
   "cell_type": "code",
   "execution_count": 58,
   "id": "cadeebfa-54bb-4c22-9380-f3189d7b3678",
   "metadata": {},
   "outputs": [
    {
     "name": "stdout",
     "output_type": "stream",
     "text": [
      "Replaced array: ['orange' 'banana' 'grape' 'pineorange']\n"
     ]
    }
   ],
   "source": [
    "#58. Write a function that replaces occurrences of a substring in a NumPy array of strings with a new string.\n",
    "#arr = np.array(['apple', 'banana', 'grape', 'pineapple'])\n",
    "\n",
    "def replace_substring(arr, old, new):\n",
    "    return np.char.replace(arr, old, new)\n",
    "\n",
    "# Given array\n",
    "arr = np.array(['apple', 'banana', 'grape', 'pineapple'])\n",
    "\n",
    "# Replace 'apple' with 'orange'\n",
    "new_arr = replace_substring(arr, 'apple', 'orange')\n",
    "print(\"Replaced array:\", new_arr)"
   ]
  },
  {
   "cell_type": "code",
   "execution_count": 59,
   "id": "c7a87f3f-b7ec-43ab-8977-29cb3a8d028d",
   "metadata": {},
   "outputs": [
    {
     "name": "stdout",
     "output_type": "stream",
     "text": [
      "Concatenated array: ['HelloOpen' 'WorldAI']\n"
     ]
    }
   ],
   "source": [
    "#59. . Write a function that concatenates strings in a NumPy array element-wise.\n",
    "#arr1 = np.array(['Hello', 'World'])\n",
    "#arr2 = np.array(['Open', 'AI'])\n",
    "\n",
    "def concatenate_strings(arr1, arr2):\n",
    "    return np.char.add(arr1, arr2)\n",
    "\n",
    "# Given arrays\n",
    "arr1 = np.array(['Hello', 'World'])\n",
    "arr2 = np.array(['Open', 'AI'])\n",
    "\n",
    "# Concatenate element-wise\n",
    "concatenated_arr = concatenate_strings(arr1, arr2)\n",
    "print(\"Concatenated array:\", concatenated_arr)"
   ]
  },
  {
   "cell_type": "code",
   "execution_count": 60,
   "id": "4d149224-a847-4057-a110-7fb31294e6dc",
   "metadata": {},
   "outputs": [
    {
     "name": "stdout",
     "output_type": "stream",
     "text": [
      "Length of the longest string: 9\n"
     ]
    }
   ],
   "source": [
    "#60. Write a function that finds the length of the longest string in a NumPy array.\n",
    "#arr = np.array(['apple', 'banana', 'grape', 'pineapple'])\n",
    "\n",
    "def longest_string_length(arr):\n",
    "    return max(np.char.str_len(arr))\n",
    "\n",
    "# Given array\n",
    "arr = np.array(['apple', 'banana', 'grape', 'pineapple'])\n",
    "\n",
    "# Find the length of the longest string\n",
    "longest_length = longest_string_length(arr)\n",
    "print(\"Length of the longest string:\", longest_length)"
   ]
  },
  {
   "cell_type": "code",
   "execution_count": 61,
   "id": "4748cd41-57c5-43c0-a984-312815ea4895",
   "metadata": {},
   "outputs": [
    {
     "name": "stdout",
     "output_type": "stream",
     "text": [
      "Mean: 500.75\n",
      "Median: 457.5\n",
      "Variance: 89252.6475\n",
      "Standard Deviation: 298.7518158940628\n"
     ]
    }
   ],
   "source": [
    "#61. . Create a dataset of 100 random integers between 1 and 1000. Compute the mean, median, variance, and standard deviation of the dataset using NumPy's functions.\n",
    "\n",
    "# Create a dataset of 100 random integers between 1 and 1000\n",
    "dataset = np.random.randint(1, 1001, size=100)\n",
    "\n",
    "# Compute mean, median, variance, and standard deviation\n",
    "mean = np.mean(dataset)\n",
    "median = np.median(dataset)\n",
    "variance = np.var(dataset)\n",
    "std_deviation = np.std(dataset)\n",
    "\n",
    "print(\"Mean:\", mean)\n",
    "print(\"Median:\", median)\n",
    "print(\"Variance:\", variance)\n",
    "print(\"Standard Deviation:\", std_deviation)"
   ]
  },
  {
   "cell_type": "code",
   "execution_count": 62,
   "id": "f5b3db29-8416-4b6d-a984-ec9c43570a13",
   "metadata": {},
   "outputs": [
    {
     "name": "stdout",
     "output_type": "stream",
     "text": [
      "25th Percentile: 33.26220412003425\n",
      "75th Percentile: 81.19748861353891\n"
     ]
    }
   ],
   "source": [
    "#62. Generate an array of 50 random numbers between 1 and 100. Find the 25th and 75th percentiles of the dataset.\n",
    "\n",
    "# Generate an array of 50 random numbers between 1 and 100\n",
    "data = np.random.uniform(1, 100, size=50)\n",
    "\n",
    "# Find the 25th and 75th percentiles\n",
    "percentile_25 = np.percentile(data, 25)\n",
    "percentile_75 = np.percentile(data, 75)\n",
    "\n",
    "print(\"25th Percentile:\", percentile_25)\n",
    "print(\"75th Percentile:\", percentile_75)"
   ]
  },
  {
   "cell_type": "code",
   "execution_count": 63,
   "id": "7bf5861b-7957-49cb-98c7-37485b8ff04e",
   "metadata": {},
   "outputs": [
    {
     "name": "stdout",
     "output_type": "stream",
     "text": [
      "Correlation Coefficient Matrix:\n",
      " [[ 1.        -0.0696963]\n",
      " [-0.0696963  1.       ]]\n"
     ]
    }
   ],
   "source": [
    "#63.Create two arrays representing two sets of variables. Compute the correlation coefficient between these arrays using NumPy's corrcoef function.\n",
    "\n",
    "# Create two arrays representing two sets of variables\n",
    "arr1 = np.random.rand(100)\n",
    "arr2 = np.random.rand(100)\n",
    "\n",
    "# Compute the correlation coefficient\n",
    "correlation_matrix = np.corrcoef(arr1, arr2)\n",
    "print(\"Correlation Coefficient Matrix:\\n\", correlation_matrix)"
   ]
  },
  {
   "cell_type": "code",
   "execution_count": 64,
   "id": "a9fd7e6f-2dcf-4e90-9dc6-18f7bc376da5",
   "metadata": {},
   "outputs": [
    {
     "name": "stdout",
     "output_type": "stream",
     "text": [
      "Matrix product:\n",
      " [[19 22]\n",
      " [43 50]]\n"
     ]
    }
   ],
   "source": [
    "#64. Create two matrices and perform matrix multiplication using NumPy's dot function.\n",
    "\n",
    "# Create two matrices\n",
    "matrix1 = np.array([[1, 2], [3, 4]])\n",
    "matrix2 = np.array([[5, 6], [7, 8]])\n",
    "\n",
    "# Perform matrix multiplication\n",
    "matrix_product = np.dot(matrix1, matrix2)\n",
    "print(\"Matrix product:\\n\", matrix_product)"
   ]
  },
  {
   "cell_type": "code",
   "execution_count": 65,
   "id": "77e2016f-8257-40eb-befd-086bec812276",
   "metadata": {},
   "outputs": [
    {
     "name": "stdout",
     "output_type": "stream",
     "text": [
      "10th Percentile: 89.7\n",
      "50th Percentile (Median): 414.5\n",
      "90th Percentile: 931.5\n",
      "First Quartile: 217.25\n",
      "Third Quartile: 706.5\n"
     ]
    }
   ],
   "source": [
    "#65. Create an array of 50 integers between 10 and 1000. Calculate the 10th, 50th (median), and 90th percentiles along with the first and third quartiles.\n",
    "\n",
    "# Create an array of 50 integers between 10 and 1000\n",
    "arr = np.random.randint(10, 1001, size=50)\n",
    "\n",
    "# Calculate the 10th, 50th (median), and 90th percentiles\n",
    "percentile_10 = np.percentile(arr, 10)\n",
    "percentile_50 = np.percentile(arr, 50)\n",
    "percentile_90 = np.percentile(arr, 90)\n",
    "\n",
    "# Calculate the first and third quartiles\n",
    "first_quartile = np.percentile(arr, 25)\n",
    "third_quartile = np.percentile(arr, 75)\n",
    "\n",
    "print(\"10th Percentile:\", percentile_10)\n",
    "print(\"50th Percentile (Median):\", percentile_50)\n",
    "print(\"90th Percentile:\", percentile_90)\n",
    "print(\"First Quartile:\", first_quartile)\n",
    "print(\"Third Quartile:\", third_quartile)"
   ]
  },
  {
   "cell_type": "code",
   "execution_count": 66,
   "id": "5465c655-a4e5-4ea3-a6c5-bce2e354413b",
   "metadata": {},
   "outputs": [
    {
     "name": "stdout",
     "output_type": "stream",
     "text": [
      "Index of element 30 : 2\n"
     ]
    }
   ],
   "source": [
    "#66. Create a NumPy array of integers and find the index of a specific element.\n",
    "\n",
    "# Create a NumPy array of integers\n",
    "arr = np.array([10, 20, 30, 40, 50])\n",
    "\n",
    "# Find the index of a specific element\n",
    "element = 30\n",
    "index = np.where(arr == element)[0][0]\n",
    "print(\"Index of element\", element, \":\", index)"
   ]
  },
  {
   "cell_type": "code",
   "execution_count": 67,
   "id": "b4219433-f4ca-4482-b76d-25e89ea6866a",
   "metadata": {},
   "outputs": [
    {
     "name": "stdout",
     "output_type": "stream",
     "text": [
      "Sorted array: [18 31 33 56 61 66 67 71 77 90]\n"
     ]
    }
   ],
   "source": [
    "#67. Generate a random NumPy array and sort it in ascending order.\n",
    "\n",
    "# Generate a random NumPy array\n",
    "arr = np.random.randint(1, 101, size=10)\n",
    "\n",
    "# Sort the array in ascending order\n",
    "sorted_arr = np.sort(arr)\n",
    "print(\"Sorted array:\", sorted_arr)"
   ]
  },
  {
   "cell_type": "code",
   "execution_count": 68,
   "id": "271d1ccd-bd0a-4bd1-baa5-56387e310874",
   "metadata": {},
   "outputs": [
    {
     "name": "stdout",
     "output_type": "stream",
     "text": [
      "Filtered array: [25 42 30]\n"
     ]
    }
   ],
   "source": [
    "#68. Filter elements >20  in the given NumPy array. arr = np.array([12, 25, 6, 42, 8, 30])\n",
    "\n",
    "# Given array\n",
    "arr = np.array([12, 25, 6, 42, 8, 30])\n",
    "\n",
    "# Filter elements >20\n",
    "filtered_arr = arr[arr > 20]\n",
    "print(\"Filtered array:\", filtered_arr)"
   ]
  },
  {
   "cell_type": "code",
   "execution_count": 69,
   "id": "3c8bd41f-14ce-4f2a-9470-38f934d0d6cd",
   "metadata": {},
   "outputs": [
    {
     "name": "stdout",
     "output_type": "stream",
     "text": [
      "Filtered array: [12 15]\n"
     ]
    }
   ],
   "source": [
    "#69. Filter elements which are divisible by 3 from a given NumPy array. arr = np.array([1, 5, 8, 12, 15])\n",
    "\n",
    "# Given array\n",
    "arr = np.array([1, 5, 8, 12, 15])\n",
    "\n",
    "# Filter elements divisible by 3\n",
    "filtered_arr = arr[arr % 3 == 0]\n",
    "print(\"Filtered array:\", filtered_arr)"
   ]
  },
  {
   "cell_type": "code",
   "execution_count": 70,
   "id": "ea1aaa9a-5e4c-46b6-83b1-8d4d25f6591d",
   "metadata": {},
   "outputs": [
    {
     "name": "stdout",
     "output_type": "stream",
     "text": [
      "Filtered array: [20 30 40]\n"
     ]
    }
   ],
   "source": [
    "#70. Filter elements which are ≥ 20 and ≤ 40 from a given NumPy array. arr = np.array([10, 20, 30, 40, 50])\n",
    "\n",
    "# Given array\n",
    "arr = np.array([10, 20, 30, 40, 50])\n",
    "\n",
    "# Filter elements ≥ 20 and ≤ 40\n",
    "filtered_arr = arr[(arr >= 20) & (arr <= 40)]\n",
    "print(\"Filtered array:\", filtered_arr)"
   ]
  },
  {
   "cell_type": "code",
   "execution_count": 71,
   "id": "6da1c525-1f59-4154-b2ad-57cae5c19a0c",
   "metadata": {},
   "outputs": [
    {
     "name": "stdout",
     "output_type": "stream",
     "text": [
      "Byte order: =\n"
     ]
    }
   ],
   "source": [
    "#71. For the given NumPy array, check its byte order using the dtype attribute byteorder. arr = np.array([1, 2, 3])\n",
    "\n",
    "# Given array\n",
    "arr = np.array([1, 2, 3])\n",
    "\n",
    "# Check byte order\n",
    "byte_order = arr.dtype.byteorder\n",
    "print(\"Byte order:\", byte_order)"
   ]
  },
  {
   "cell_type": "code",
   "execution_count": 72,
   "id": "a5fd159a-bf48-4447-9f8b-71ff67468112",
   "metadata": {},
   "outputs": [
    {
     "name": "stdout",
     "output_type": "stream",
     "text": [
      "Byte-swapped array: [16777216 33554432 50331648]\n"
     ]
    }
   ],
   "source": [
    "#72. For the given NumPy array, perform byte swapping in place using byteswap().\n",
    "\n",
    "arr = np.array([1, 2, 3], dtype=np.int32)\n",
    "import numpy as np\n",
    "# Given array\n",
    "arr = np.array([1, 2, 3], dtype=np.int32)\n",
    "\n",
    "# Perform byte swapping in place\n",
    "arr.byteswap(True)\n",
    "print(\"Byte-swapped array:\", arr)"
   ]
  },
  {
   "cell_type": "code",
   "execution_count": 73,
   "id": "d2df1837",
   "metadata": {},
   "outputs": [
    {
     "name": "stdout",
     "output_type": "stream",
     "text": [
      "Original array: [1 2 3]\n",
      "Byte-swapped array: [16777216 33554432 50331648]\n"
     ]
    }
   ],
   "source": [
    "#73. For the given NumPy array, swap its byte order without modifying the original array using newbyteorder(). \n",
    "#arr = np.array([1, 2, 3], dtype=np.int32)\n",
    "\n",
    "# Given array\n",
    "arr = np.array([1, 2, 3], dtype=np.int32)\n",
    "\n",
    "# Swap byte order without modifying the original array\n",
    "swapped_arr = arr.newbyteorder()\n",
    "print(\"Original array:\", arr)\n",
    "print(\"Byte-swapped array:\", swapped_arr)"
   ]
  },
  {
   "cell_type": "code",
   "execution_count": 74,
   "id": "2594f948",
   "metadata": {},
   "outputs": [
    {
     "name": "stdout",
     "output_type": "stream",
     "text": [
      "Byte-swapped array based on system endianness: [16777216 33554432 50331648]\n"
     ]
    }
   ],
   "source": [
    "#74. For the given NumPy array and swap its byte order conditionally based on system endianness using newbyteorder().\n",
    "#arr = np.array([1, 2, 3], dtype=np.int32)\n",
    "\n",
    "# Given array\n",
    "arr = np.array([1, 2, 3], dtype=np.int32)\n",
    "\n",
    "# Swap byte order conditionally based on system endianness\n",
    "swapped_arr = arr.newbyteorder('S')\n",
    "print(\"Byte-swapped array based on system endianness:\", swapped_arr)"
   ]
  },
  {
   "cell_type": "code",
   "execution_count": 75,
   "id": "254eb3e8",
   "metadata": {},
   "outputs": [
    {
     "name": "stdout",
     "output_type": "stream",
     "text": [
      "Is byte swapping necessary: False\n"
     ]
    }
   ],
   "source": [
    "#For the given NumPy array, check if byte swapping is necessary for the current system using dtype arr = np.array([1, 2, 3], dtype=np.int32)   \n",
    "\n",
    "# Given array\n",
    "arr = np.array([1, 2, 3], dtype=np.int32)\n",
    "\n",
    "# Check if byte swapping is necessary\n",
    "is_swapping_needed = arr.dtype.byteorder == '>'\n",
    "print(\"Is byte swapping necessary:\", is_swapping_needed)"
   ]
  },
  {
   "cell_type": "code",
   "execution_count": 76,
   "id": "c56c6c1f",
   "metadata": {},
   "outputs": [
    {
     "name": "stdout",
     "output_type": "stream",
     "text": [
      "Original array (arr1): [ 1  2  3  4  5  6  7  8  9 10]\n",
      "Modified copy (copy_arr): [100   2   3   4   5   6   7   8   9  10]\n"
     ]
    }
   ],
   "source": [
    "#76.Create a NumPy array arr1 with values from 1 to 10. Create a copy of arr1 named copy_arr and modify an element in copy_arr. Check if modifying copy_arr affects arr1.\n",
    "\n",
    "# Create array\n",
    "arr1 = np.array([1, 2, 3, 4, 5, 6, 7, 8, 9, 10])\n",
    "\n",
    "# Create a copy of arr1\n",
    "copy_arr = arr1.copy()\n",
    "\n",
    "# Modify an element in copy_arr\n",
    "copy_arr[0] = 100\n",
    "\n",
    "# Check if modifying copy_arr affects arr1\n",
    "print(\"Original array (arr1):\", arr1)\n",
    "print(\"Modified copy (copy_arr):\", copy_arr)"
   ]
  },
  {
   "cell_type": "code",
   "execution_count": 77,
   "id": "07717610",
   "metadata": {},
   "outputs": [
    {
     "name": "stdout",
     "output_type": "stream",
     "text": [
      "Original matrix after modification:\n",
      " [[100   3   3]\n",
      " [  2   6   8]\n",
      " [  3   5   3]]\n"
     ]
    }
   ],
   "source": [
    "#77. Create a 2D NumPy array matrix of shape (3, 3) with random integers. Extract a slice view_slice from the matrix. Modify an element in view_slice and observe if it changes the original matrix.\n",
    "\n",
    "# Create a 2D array\n",
    "matrix = np.random.randint(1, 10, (3, 3))\n",
    "\n",
    "# Extract a slice\n",
    "view_slice = matrix[:2, :2]\n",
    "\n",
    "# Modify an element in view_slice\n",
    "view_slice[0, 0] = 100\n",
    "\n",
    "# Observe changes in the original matrix\n",
    "print(\"Original matrix after modification:\\n\", matrix)"
   ]
  },
  {
   "cell_type": "code",
   "execution_count": 78,
   "id": "f72c2f61",
   "metadata": {},
   "outputs": [
    {
     "name": "stdout",
     "output_type": "stream",
     "text": [
      "Original array after modification:\n",
      " [[ 6  7  3]\n",
      " [ 9 10  6]\n",
      " [12 13  9]\n",
      " [15 16 12]]\n"
     ]
    }
   ],
   "source": [
    "#78.  Create a NumPy array array_a of shape (4, 3) with sequential integers from 1 to 12. Extract a slice view_b from array_a and broadcast the addition of 5 to view_b. Check if it alters the original array_a.\n",
    "\n",
    "# Create a 2D array\n",
    "array_a = np.arange(1, 13).reshape(4, 3)\n",
    "\n",
    "# Extract a slice\n",
    "view_b = array_a[:, :2]\n",
    "\n",
    "# Broadcast addition of 5 to view_b\n",
    "view_b += 5\n",
    "\n",
    "# Check if it alters the original array\n",
    "print(\"Original array after modification:\\n\", array_a)"
   ]
  },
  {
   "cell_type": "code",
   "execution_count": 79,
   "id": "741851b0",
   "metadata": {},
   "outputs": [
    {
     "name": "stdout",
     "output_type": "stream",
     "text": [
      "Original array after modification:\n",
      " [[100   2   3   4]\n",
      " [  5   6   7   8]]\n"
     ]
    }
   ],
   "source": [
    "#79. Create a NumPy array orig_array of shape (2, 4) with values from 1 to 8. Create a reshaped view reshaped_view of shape (4, 2) from orig_array. Modify an element in reshaped_view and check if it\n",
    "#    reflects changes in the original orig_array.\n",
    "\n",
    "# Create a 2D array\n",
    "orig_array = np.arange(1, 9).reshape(2, 4)\n",
    "\n",
    "# Create a reshaped view\n",
    "reshaped_view = orig_array.reshape(4, 2)\n",
    "\n",
    "# Modify an element in reshaped_view\n",
    "reshaped_view[0, 0] = 100\n",
    "\n",
    "# Check if it reflects changes in the original array\n",
    "print(\"Original array after modification:\\n\", orig_array)"
   ]
  },
  {
   "cell_type": "code",
   "execution_count": 80,
   "id": "f6d4ed22",
   "metadata": {},
   "outputs": [
    {
     "name": "stdout",
     "output_type": "stream",
     "text": [
      "Original array:\n",
      " [[7 5 4 4]\n",
      " [5 8 6 3]\n",
      " [3 5 8 4]]\n",
      "Modified copy of elements greater than 5: [100   8   6   8]\n"
     ]
    }
   ],
   "source": [
    "#80. Create a NumPy array data of shape (3, 4) with random integers. Extract a copy data_copy of elements greater than 5. Modify an element in data_copy and verify if it affects the original data.\n",
    "\n",
    "# Create a 2D array\n",
    "data = np.random.randint(1, 10, (3, 4))\n",
    "\n",
    "# Extract a copy of elements greater than 5\n",
    "data_copy = data[data > 5].copy()\n",
    "\n",
    "# Modify an element in data_copy\n",
    "data_copy[0] = 100\n",
    "\n",
    "# Verify if it affects the original data\n",
    "print(\"Original array:\\n\", data)\n",
    "print(\"Modified copy of elements greater than 5:\", data_copy)"
   ]
  },
  {
   "cell_type": "code",
   "execution_count": 81,
   "id": "b8a75ae0",
   "metadata": {},
   "outputs": [
    {
     "name": "stdout",
     "output_type": "stream",
     "text": [
      "Matrix A:\n",
      " [[4 1 2]\n",
      " [8 5 6]\n",
      " [5 1 1]]\n",
      "Matrix B:\n",
      " [[5 5 9]\n",
      " [2 6 3]\n",
      " [6 6 5]]\n",
      "Addition result:\n",
      " [[ 9  6 11]\n",
      " [10 11  9]\n",
      " [11  7  6]]\n",
      "Subtraction result:\n",
      " [[-1 -4 -7]\n",
      " [ 6 -1  3]\n",
      " [-1 -5 -4]]\n"
     ]
    }
   ],
   "source": [
    "#81. Create two matrices A and B of identical shape containing integers and perform addition and subtraction operations between them.\n",
    "\n",
    "# Create two matrices A and B\n",
    "A = np.random.randint(1, 10, (3, 3))\n",
    "B = np.random.randint(1, 10, (3, 3))\n",
    "\n",
    "# Perform addition\n",
    "addition_result = A + B\n",
    "\n",
    "# Perform subtraction\n",
    "subtraction_result = A - B\n",
    "\n",
    "print(\"Matrix A:\\n\", A)\n",
    "print(\"Matrix B:\\n\", B)\n",
    "print(\"Addition result:\\n\", addition_result)\n",
    "print(\"Subtraction result:\\n\", subtraction_result)"
   ]
  },
  {
   "cell_type": "code",
   "execution_count": 82,
   "id": "fe3662b5",
   "metadata": {},
   "outputs": [
    {
     "name": "stdout",
     "output_type": "stream",
     "text": [
      "Matrix C:\n",
      " [[8 7]\n",
      " [4 5]\n",
      " [8 8]]\n",
      "Matrix D:\n",
      " [[4 1 2 8]\n",
      " [2 5 2 1]]\n",
      "Matrix multiplication result:\n",
      " [[46 43 30 71]\n",
      " [26 29 18 37]\n",
      " [48 48 32 72]]\n"
     ]
    }
   ],
   "source": [
    "#82. Generate two matrices C (3x2) and D (2x4) and perform matrix multiplication.\n",
    "\n",
    "# Generate two matrices C and D\n",
    "C = np.random.randint(1, 10, (3, 2))\n",
    "D = np.random.randint(1, 10, (2, 4))\n",
    "\n",
    "# Perform matrix multiplication\n",
    "matrix_multiplication_result = np.dot(C, D)\n",
    "print(\"Matrix C:\\n\", C)\n",
    "print(\"Matrix D:\\n\", D)\n",
    "print(\"Matrix multiplication result:\\n\", matrix_multiplication_result)"
   ]
  },
  {
   "cell_type": "code",
   "execution_count": 83,
   "id": "168acc39",
   "metadata": {},
   "outputs": [
    {
     "name": "stdout",
     "output_type": "stream",
     "text": [
      "Matrix E:\n",
      " [[4 9 8]\n",
      " [4 7 6]\n",
      " [3 4 1]]\n",
      "Transpose of E:\n",
      " [[4 4 3]\n",
      " [9 7 4]\n",
      " [8 6 1]]\n"
     ]
    }
   ],
   "source": [
    "#83. Create a matrix E and find its transpose.\n",
    "\n",
    "# Create a matrix E\n",
    "E = np.random.randint(1, 10, (3, 3))\n",
    "\n",
    "# Find the transpose\n",
    "transpose_E = np.transpose(E)\n",
    "print(\"Matrix E:\\n\", E)\n",
    "print(\"Transpose of E:\\n\", transpose_E)"
   ]
  },
  {
   "cell_type": "code",
   "execution_count": 84,
   "id": "e8c2cef8-d832-4310-9df9-51037e982ac0",
   "metadata": {},
   "outputs": [
    {
     "name": "stdout",
     "output_type": "stream",
     "text": [
      "Matrix F:\n",
      " [[2 5 9]\n",
      " [4 9 6]\n",
      " [4 2 4]]\n",
      "Determinant of F: -163.99999999999991\n"
     ]
    }
   ],
   "source": [
    "#84. Generate a square matrix F and compute its determinant.\n",
    "\n",
    "# Generate a square matrix F\n",
    "F = np.random.randint(1, 10, (3, 3))\n",
    "\n",
    "# Compute the determinant\n",
    "determinant_F = np.linalg.det(F)\n",
    "print(\"Matrix F:\\n\", F)\n",
    "print(\"Determinant of F:\", determinant_F)"
   ]
  },
  {
   "cell_type": "code",
   "execution_count": 85,
   "id": "bc92219f-51c6-41e7-af1c-93d0ec8dfc2d",
   "metadata": {},
   "outputs": [
    {
     "name": "stdout",
     "output_type": "stream",
     "text": [
      "Matrix G:\n",
      " [[8 8 4]\n",
      " [7 4 6]\n",
      " [5 2 7]]\n",
      "Inverse of G:\n",
      " [[-0.33333333  1.         -0.66666667]\n",
      " [ 0.39583333 -0.75        0.41666667]\n",
      " [ 0.125      -0.5         0.5       ]]\n"
     ]
    }
   ],
   "source": [
    "#85. Create a square matrix G and find its inverse.  \n",
    "\n",
    "# Create a square matrix G\n",
    "G = np.random.randint(1, 10, (3, 3))\n",
    "\n",
    "# Find the inverse\n",
    "inverse_G = np.linalg.inv(G)\n",
    "print(\"Matrix G:\\n\", G)\n",
    "print(\"Inverse of G:\\n\", inverse_G)"
   ]
  }
 ],
 "metadata": {
  "kernelspec": {
   "display_name": "Python 3 (ipykernel)",
   "language": "python",
   "name": "python3"
  },
  "language_info": {
   "codemirror_mode": {
    "name": "ipython",
    "version": 3
   },
   "file_extension": ".py",
   "mimetype": "text/x-python",
   "name": "python",
   "nbconvert_exporter": "python",
   "pygments_lexer": "ipython3",
   "version": "3.10.8"
  }
 },
 "nbformat": 4,
 "nbformat_minor": 5
}

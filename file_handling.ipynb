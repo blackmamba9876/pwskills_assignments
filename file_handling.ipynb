{
 "cells": [
  {
   "cell_type": "code",
   "execution_count": 2,
   "id": "56b4ec78-73e1-4b0a-a007-8907d0dbb731",
   "metadata": {},
   "outputs": [],
   "source": [
    "#1. Write a code to read the contents of a file in Python. \n",
    "\n",
    "with open('example.txt', 'r') as file:\n",
    "    # Read the contents of the file\n",
    "    contents = file.read()\n",
    "print(contents)"
   ]
  },
  {
   "cell_type": "code",
   "execution_count": 3,
   "id": "ecc61ef4-1433-465e-acad-6facd39832d8",
   "metadata": {},
   "outputs": [
    {
     "name": "stdout",
     "output_type": "stream",
     "text": [
      "Writing to the file completed.\n"
     ]
    }
   ],
   "source": [
    "#2. Write a code to write to a file in Python.\n",
    "\n",
    "# Open the file in write mode\n",
    "with open('example.txt', 'w') as file:\n",
    "    # Write some text to the file\n",
    "    file.write(\"Hello, world!\\n\")\n",
    "    file.write(\"This is an example of writing to a file.\\n\")\n",
    "    file.write(\"Python makes it easy to handle file operations.\")\n",
    "\n",
    "print(\"Writing to the file completed.\")\n"
   ]
  },
  {
   "cell_type": "code",
   "execution_count": 5,
   "id": "db7814d4-cf08-4a27-af03-4bafccc38510",
   "metadata": {},
   "outputs": [
    {
     "name": "stdout",
     "output_type": "stream",
     "text": [
      "Appending to the file completed.\n"
     ]
    }
   ],
   "source": [
    "#3. Write a code to append to a file in Python. \n",
    "\n",
    "#Open the file in append mode\n",
    "with open('example.txt', 'a') as file:\n",
    "    # Append some text to the file\n",
    "    file.write(\"\\nAppending this line to the file.\\n\")\n",
    "    file.write(\"This is an additional line.\\n\")\n",
    "\n",
    "print(\"Appending to the file completed.\")"
   ]
  },
  {
   "cell_type": "code",
   "execution_count": null,
   "id": "ad2bcd73-c5b3-4137-905f-3f1e52494d1d",
   "metadata": {},
   "outputs": [],
   "source": [
    "#4. Write a code to read a binary file in Python.\n",
    "\n",
    "# Open the binary file in read mode\n",
    "with open('example.bin', 'rb') as file:\n",
    "    # Read the contents of the file\n",
    "    contents = file.read()\n",
    "print(contents)\n",
    "\n"
   ]
  },
  {
   "cell_type": "markdown",
   "id": "86fc4006-fd5e-4e17-8503-b622479664a7",
   "metadata": {},
   "source": [
    "#5. What happens if we don't use `with` keyword with `open` in python.\n",
    "\n",
    "If you don't use the with keyword when opening a file in Python, you need to manually manage the file resource by explicitly closing the file using the close() method."
   ]
  },
  {
   "cell_type": "markdown",
   "id": "f3cf00fb-0921-4b6e-8a93-8b21cb18a6a6",
   "metadata": {},
   "source": [
    "#6.  Explain the concept of buffering in file handling and how it helps in improving read and write operations.\n",
    "\n",
    "Buffering in file handling refers to the practice of temporarily storing data in a buffer (a small, fast memory location) before reading from or writing to a file. This process helps improve the efficiency of file operations by reducing the number of direct I/O operations with the disk, which are relatively slow. When reading, data is read from the disk in large chunks into the buffer, from which smaller, more frequent reads can be quickly served. When writing, data is accumulated in the buffer and written to the disk in larger chunks, reducing the frequency of slow write operations. This mechanism minimizes the overhead and enhances overall performance. In Python, buffering is controlled by the buffering parameter in the open() function."
   ]
  },
  {
   "cell_type": "markdown",
   "id": "5409b041-1fab-4a36-82e0-7792813cf0d8",
   "metadata": {},
   "source": [
    "#7.Describe the steps involved in implementing buffered file handling in a programming language of your choice.\n",
    "\n",
    "Opening the File: Use the open() function with the buffering parameter to specify the buffer size. For example, open('example.txt', 'r', buffering=4096) opens the file with a buffer size of 4096 bytes.\n",
    "Reading/Writing Data: Perform read or write operations. Data is temporarily stored in the buffer before being written to or read from the disk.\n",
    "Automatic Buffering: By default, Python applies buffering based on the file mode (text or binary). Text mode uses line buffering, and binary mode uses a default buffer size.\n",
    "Flushing the Buffer: Use file.flush() to manually flush the buffer, ensuring all buffered data is written to the disk.\n",
    "Closing the File: Use file.close() or a with statement to close the file, which also flushes and releases the buffer.\n",
    "Error Handling: Handle potential I/O errors using try-except blocks to ensure resources are properly managed."
   ]
  },
  {
   "cell_type": "code",
   "execution_count": null,
   "id": "5b08350e-75af-474d-a79a-ded343d3523f",
   "metadata": {},
   "outputs": [],
   "source": [
    "#8. Write a Python function to read a text file using buffered reading and return its contents.\n",
    "\n",
    "def read_file_with_buffering(file_path, buffer_size=4096):\n",
    "    contents = \"\"\n",
    "    try:\n",
    "        with open(file_path, 'r', buffering=buffer_size) as file:\n",
    "            while True:\n",
    "                # Read a chunk of data from the file\n",
    "                chunk = file.read(buffer_size)\n",
    "                # If the chunk is empty, we've reached the end of the file\n",
    "                if not chunk:\n",
    "                    break\n",
    "                # Append the chunk to the contents\n",
    "                contents += chunk\n",
    "    except IOError as e:\n",
    "        print(f\"An error occurred while reading the file: {e}\")\n",
    "    \n",
    "    return contents\n",
    "\n",
    "file_path = 'example.txt'\n",
    "file_contents = read_file_with_buffering(file_path)\n",
    "print(file_contents)\n"
   ]
  },
  {
   "cell_type": "markdown",
   "id": "d56f78c8-6708-4802-8bbd-8d44a5e893e7",
   "metadata": {},
   "source": [
    "#9. What are the advantages of using buffered reading over direct file reading in Python?\n",
    "\n",
    "Improved Performance: Buffering reduces the number of I/O operations by reading larger chunks of data at once, which is faster than reading small amounts of data multiple times.\n",
    "Resource Efficiency: Fewer system calls are made, reducing the overhead on the system and improving resource utilization.\n",
    "Reduced Latency: By minimizing direct disk access, buffering helps reduce latency, making file operations quicker.\n",
    "Better Memory Management: Buffering allows better control over memory usage by specifying buffer sizes, which can be optimized based on available resources.\n",
    "Smoother I/O Operations: Buffering helps in handling variable data rates, providing a smoother and more consistent reading experience."
   ]
  },
  {
   "cell_type": "code",
   "execution_count": null,
   "id": "88004be4-f4af-4bf6-bd40-3a98b1642006",
   "metadata": {},
   "outputs": [],
   "source": [
    "#10.Write a Python code snippet to append content to a file using buffered writing.\n",
    "\n",
    "def append_to_file_with_buffering(file_path, content, buffer_size=4096):\n",
    "    try:\n",
    "        # Open the file in append mode with buffering\n",
    "        with open(file_path, 'a', buffering=buffer_size) as file:\n",
    "            # Write the content to the file\n",
    "            file.write(content)\n",
    "            # Flush the buffer to ensure all data is written to the file\n",
    "            file.flush()\n",
    "    except IOError as e:\n",
    "        print(f\"An error occurred while appending to the file: {e}\")\n",
    "\n",
    "file_path = 'example.txt'\n",
    "content_to_append = \"\\nThis is the new content being appended to the file.\"\n",
    "append_to_file_with_buffering(file_path, content_to_append)\n",
    "print(\"Content appended successfully.\")\n"
   ]
  },
  {
   "cell_type": "code",
   "execution_count": null,
   "id": "f991164f-5a32-4e7b-9a3f-6bcc7445c1a2",
   "metadata": {},
   "outputs": [],
   "source": [
    "#11. Write a Python function that demonstrates the use of close() method on a file.\n",
    "\n",
    "def write_and_close_file(file_path, content):\n",
    "    try:\n",
    "        # Open the file in write mode\n",
    "        file = open(file_path, 'w')\n",
    "        # Write content to the file\n",
    "        file.write(content)\n",
    "    except IOError as e:\n",
    "        print(f\"An error occurred while writing to the file: {e}\")\n",
    "    finally:\n",
    "        # Ensure the file is closed properly\n",
    "        if file:\n",
    "            file.close()\n",
    "            print(f\"The file '{file_path}' has been closed.\")\n",
    "\n",
    "file_path = 'example.txt'\n",
    "content_to_write = \"This is the content being written to the file.\"\n",
    "write_and_close_file(file_path, content_to_write)"
   ]
  },
  {
   "cell_type": "code",
   "execution_count": null,
   "id": "6ce7c403-53e5-47ea-8c09-3c68a6f0522f",
   "metadata": {},
   "outputs": [],
   "source": [
    "#12. Create a Python function to showcase the detach() method on a file object.\n",
    "\n",
    "def demonstrate_detach(file_path):\n",
    "    try:\n",
    "        # Open the file in text mode\n",
    "        with open(file_path, 'w+', encoding='utf-8') as file:\n",
    "            # Write some content to the file\n",
    "            file.write(\"This is a test content.\\n\")\n",
    "            # Flush the buffer to ensure all data is written to the file\n",
    "            file.flush()\n",
    "            # Seek to the beginning of the file for reading\n",
    "            file.seek(0)\n",
    "            \n",
    "            # Detach the underlying buffer from the text buffer\n",
    "            raw = file.detach()\n",
    "            \n",
    "            # Demonstrate that the text buffer is now detached\n",
    "            print(\"The text buffer has been detached. The raw buffer is:\", raw)\n",
    "            \n",
    "            # Read from the raw buffer directly\n",
    "            raw.seek(0)\n",
    "            content = raw.read()\n",
    "            print(\"Content read from the raw buffer:\", content)\n",
    "    except Exception as e:\n",
    "        print(f\"An error occurred: {e}\")\n",
    "\n",
    "file_path = 'example.txt'\n",
    "demonstrate_detach(file_path)\n"
   ]
  },
  {
   "cell_type": "code",
   "execution_count": null,
   "id": "bf8276cd-be96-4e20-8117-e8ec1a5f4503",
   "metadata": {},
   "outputs": [],
   "source": [
    "#13. Write a Python function to demonstrate the use of the seek() method to change the file position.\n",
    "\n",
    "def demonstrate_seek(file_path):\n",
    "    try:\n",
    "        with open(file_path, 'r') as file:\n",
    "            print(\"Initial content:\")\n",
    "            print(file.read())\n",
    "            \n",
    "            file.seek(0)\n",
    "            print(\"\\nContent after seeking to the beginning:\")\n",
    "            print(file.read())\n",
    "            \n",
    "            file.seek(0, 2)\n",
    "            print(\"\\nContent after seeking to the end:\")\n",
    "            print(file.read())\n",
    "            \n",
    "            file.seek(12)\n",
    "            print(\"\\nContent after seeking to the middle:\")\n",
    "            print(file.read())\n",
    "            \n",
    "    except Exception as e:\n",
    "        print(f\"An error occurred: {e}\")\n",
    "\n",
    "# Example usage:\n",
    "file_path = 'example.txt'\n",
    "demonstrate_seek(file_path)\n"
   ]
  },
  {
   "cell_type": "code",
   "execution_count": null,
   "id": "4b01bda2-5b83-49a7-9cc1-047f9c4f6c6d",
   "metadata": {},
   "outputs": [],
   "source": [
    "#14. Create a Python function to return the file descriptor (integer number) of a file using the fileno() method.\n",
    "\n",
    "def get_file_descriptor(file_path):\n",
    "    try:\n",
    "        # Open the file\n",
    "        with open(file_path, 'r') as file:\n",
    "            # Get the file descriptor\n",
    "            file_descriptor = file.fileno()\n",
    "            return file_descriptor\n",
    "    except Exception as e:\n",
    "        print(f\"An error occurred: {e}\")\n",
    "        return None\n",
    "\n",
    "file_path = 'example.txt'\n",
    "fd = get_file_descriptor(file_path)\n",
    "if fd is not None:\n",
    "    print(f\"The file descriptor of '{file_path}' is: {fd}\")"
   ]
  },
  {
   "cell_type": "code",
   "execution_count": null,
   "id": "59d588ce-d732-4231-8905-0ee6af9b0284",
   "metadata": {},
   "outputs": [],
   "source": [
    "#15. Write a Python function to return the current position of the file's object using the tell() method.\n",
    "\n",
    "def get_current_position(file_path):\n",
    "    try:\n",
    "        # Open the file in read mode\n",
    "        with open(file_path, 'r') as file:\n",
    "            # Read and print the initial content\n",
    "            print(\"Initial content:\")\n",
    "            print(file.read())\n",
    "            \n",
    "            # Get the current position using tell()\n",
    "            current_position = file.tell()\n",
    "            return current_position\n",
    "            \n",
    "    except Exception as e:\n",
    "        print(f\"An error occurred: {e}\")\n",
    "        return None\n",
    "\n",
    "\n",
    "file_path = 'example.txt'\n",
    "position = get_current_position(file_path)\n",
    "if position is not None:\n",
    "    print(f\"The current position of the file '{file_path}' is: {position}\")"
   ]
  },
  {
   "cell_type": "code",
   "execution_count": null,
   "id": "33f165f6-eda5-4f95-903a-ee29e03d94cd",
   "metadata": {},
   "outputs": [],
   "source": [
    "#16.  Create a Python program that logs a message to a file using the logging module.\n",
    "\n",
    "import logging\n",
    "\n",
    "def setup_logging(log_file):\n",
    "    # Configure logging to write to a file\n",
    "    logging.basicConfig(filename=log_file, level=logging.INFO, format='%(asctime)s - %(message)s', datefmt='%Y-%m-%d %H:%M:%S')\n",
    "\n",
    "def log_message(message):\n",
    "    # Log the message\n",
    "    logging.info(message)\n",
    "    print(f\"Message logged: {message}\")\n",
    "\n",
    "log_file = 'app.log'\n",
    "setup_logging(log_file)\n",
    "log_message(\"This is a log message.\")\n",
    "log_message(\"Another log message.\")"
   ]
  },
  {
   "cell_type": "markdown",
   "id": "600851a7-9b91-4d3d-9e23-97d7f241d7a5",
   "metadata": {},
   "source": [
    "#17. Explain the importance of logging levels in Python's logging module.\n",
    "\n",
    "Severity Classification: Logging levels categorize messages based on their severity or importance. This allows developers to prioritize and differentiate between different types of events or issues in their application.\n",
    "\n",
    "Debugging and Troubleshooting: By using different logging levels such as DEBUG, INFO, WARNING, ERROR, and CRITICAL, developers can control the amount of detail logged. During development and debugging, more detailed logging (DEBUG level) helps in tracing program flow and identifying potential issues. In production, less verbose logging (INFO, WARNING, ERROR, CRITICAL) is typically used to capture important events and errors.\n",
    "\n",
    "Performance and Disk Space: Logging at lower levels (DEBUG and INFO) can generate a large volume of logs, which might consume more disk space and impact performance. Choosing the appropriate logging level ensures that only necessary information is logged, optimizing disk usage and maintaining application performance.\n",
    "\n",
    "Monitoring and Alerts: Different logging levels can be configured to trigger alerts or notifications. For example, logging an ERROR or CRITICAL message can notify administrators or operations teams of significant issues that require immediate attention.\n",
    "\n",
    "Flexibility and Customization: Python's logging module allows customization of logging handlers and formatters based on logging levels. Handlers can be configured to route logs to different destinations , and formatters can format logs differently based on the severity level."
   ]
  },
  {
   "cell_type": "code",
   "execution_count": null,
   "id": "3d0c5a97-3fca-4112-9252-4efa232c29a9",
   "metadata": {},
   "outputs": [],
   "source": [
    "#18. Create a Python program that uses the debugger to find the value of a variable inside a loop.\n",
    "\n",
    "import pdb\n",
    "\n",
    "def find_value_in_loop(numbers):\n",
    "    for i, num in enumerate(numbers):\n",
    "        pdb.set_trace()  # Set a breakpoint here\n",
    "        print(f\"Index: {i}, Value: {num}\")\n",
    "\n",
    "numbers = [10, 20, 30, 40, 50]\n",
    "find_value_in_loop(numbers)"
   ]
  },
  {
   "cell_type": "code",
   "execution_count": null,
   "id": "4536a500-7c7b-4844-a4cf-1735a7b22a5b",
   "metadata": {},
   "outputs": [],
   "source": [
    "#19. Create a Python program that demonstrates setting breakpoints and inspecting variables using the debugger.\n",
    "\n",
    "import pdb\n",
    "\n",
    "def sum_of_squares(numbers):\n",
    "    total = 0\n",
    "    for i, num in enumerate(numbers):\n",
    "        pdb.set_trace()  # Set a breakpoint here to inspect variables\n",
    "        square = num ** 2\n",
    "        total += square\n",
    "        print(f\"Index: {i}, Number: {num}, Square: {square}, Total: {total}\")\n",
    "    return total\n",
    "\n",
    "numbers = [1, 2, 3, 4, 5]\n",
    "result = sum_of_squares(numbers)\n",
    "print(f\"Sum of squares: {result}\")"
   ]
  },
  {
   "cell_type": "code",
   "execution_count": null,
   "id": "2c266dd6-67f0-4f3b-9b31-72d0e5d87a4b",
   "metadata": {},
   "outputs": [],
   "source": [
    "#20. Create a Python program that uses the debugger to trace a recursive function.\n",
    "\n",
    "import pdb\n",
    "\n",
    "def factorial(n):\n",
    "    pdb.set_trace()  # Set a breakpoint at the start of the function\n",
    "    if n == 0 or n == 1:\n",
    "        return 1\n",
    "    else:\n",
    "        result = n * factorial(n - 1)\n",
    "        return result\n",
    "\n",
    "# Example usage:\n",
    "number = 5\n",
    "result = factorial(number)\n",
    "print(f\"Factorial of {number} is {result}\")"
   ]
  },
  {
   "cell_type": "code",
   "execution_count": 1,
   "id": "636680a3-92d8-4b85-94c6-0d0cf2d0ead0",
   "metadata": {},
   "outputs": [
    {
     "name": "stdout",
     "output_type": "stream",
     "text": [
      "The result of 10 divided by 2 is 5.0\n",
      "Error: Division by zero is not allowed!\n"
     ]
    }
   ],
   "source": [
    "#21. Write a try-except block to handle a ZeroDivisionError.\n",
    "\n",
    "def divide_numbers(a, b):\n",
    "    try:\n",
    "        result = a / b\n",
    "        print(f\"The result of {a} divided by {b} is {result}\")\n",
    "    except ZeroDivisionError:\n",
    "        print(\"Error: Division by zero is not allowed!\")\n",
    "        \n",
    "divide_numbers(10, 2)  \n",
    "divide_numbers(10, 0)  "
   ]
  },
  {
   "cell_type": "markdown",
   "id": "f340a0cd-e4b2-484c-b8c2-d4a572802453",
   "metadata": {},
   "source": [
    "#22. How does the else block work with try-except?\n",
    "\n",
    "In Python's try-except statement, an else block can be optionally used to define a block of code that should only execute if no exceptions were raised in the try block. Here's how the else block works in conjunction with try-except:."
   ]
  },
  {
   "cell_type": "code",
   "execution_count": null,
   "id": "42434eae-4c0a-4e50-87d4-26131c5cc443",
   "metadata": {},
   "outputs": [],
   "source": [
    "#23. Implement a try-except-else block to open and read a file.\n",
    "\n",
    "file_path = \"example.txt\"\n",
    "\n",
    "try:\n",
    "    # Attempt to open and read the file\n",
    "    with open(file_path, 'r') as file:\n",
    "        content = file.read()\n",
    "except FileNotFoundError:\n",
    "    print(f\"Error: The file '{file_path}' does not exist.\")\n",
    "except PermissionError:\n",
    "    print(f\"Error: You don't have permission to read the file '{file_path}'.\")\n",
    "except Exception as e:\n",
    "    print(f\"Error: An unexpected error occurred: {str(e)}\")\n",
    "else:\n",
    "    # File was successfully opened and read\n",
    "    print(f\"File '{file_path}' contents:\")\n",
    "    print(content)"
   ]
  },
  {
   "cell_type": "markdown",
   "id": "637fa690-6f8b-4bf8-a20e-12fe3a2e23a9",
   "metadata": {},
   "source": [
    "#24. What is the purpose of the finally block in exception handling.\n",
    "\n",
    "The finally block in Python exception handling is used to define cleanup actions that must be executed under all circumstances, regardless of whether an exception was raised or not. This block is placed after the try and except blocks (and optionally after the else block). The code within the finally block will always execute, making it ideal for tasks such as releasing resources, closing files, or any other necessary cleanup."
   ]
  },
  {
   "cell_type": "code",
   "execution_count": null,
   "id": "768d12b7-cd16-4397-a14e-43ccce0c4fb4",
   "metadata": {},
   "outputs": [],
   "source": [
    "#25. Write a try-except-finally block to handle a ValueError.\n",
    "\n",
    "def read_integer():\n",
    "    try:\n",
    "        user_input = input(\"Enter an integer: \")\n",
    "        number = int(user_input)  # This can raise a ValueError if input is not a valid integer\n",
    "        print(f\"You entered the integer: {number}\")\n",
    "    except ValueError:\n",
    "        print(\"Error: That was not a valid integer.\")\n",
    "    finally:\n",
    "        print(\"Execution of the try-except block is complete.\")\n",
    "\n",
    "read_integer()"
   ]
  },
  {
   "cell_type": "markdown",
   "id": "3377038f-189b-4c9d-94eb-4db2d1ec0ef6",
   "metadata": {},
   "source": [
    "#26. How multiple except blocks work in Python?\n",
    "\n",
    "In Python, you can use multiple except blocks to handle different types of exceptions separately. This allows you to specify different error-handling behavior for different kinds of exceptions that might occur in the try block. Each except block catches a specific type of exception, and the appropriate block is executed based on the type of exception that is raised."
   ]
  },
  {
   "cell_type": "markdown",
   "id": "2cf977cc-0230-44cd-9b68-d951e47b8e28",
   "metadata": {},
   "source": [
    "#27. What is a custom exception in Python?\n",
    "\n",
    "\n",
    "In Python, a custom exception is a user-defined exception that you can create to handle specific error conditions in your program. Custom exceptions allow you to add specific error types to your code and to provide more meaningful error messages or error handling for particular situations. Creating custom exceptions helps in making your code more readable and maintainable.\n",
    "\n",
    "Creating Custom Exceptions\n",
    "To create a custom exception, you typically define a new class that inherits from Python's built-in Exception class (or one of its subclasses). By doing this, you can add custom behavior or attributes to your exceptions if needed."
   ]
  },
  {
   "cell_type": "code",
   "execution_count": null,
   "id": "a3bead30-fbca-4b43-a5b0-ee796d3abd8b",
   "metadata": {},
   "outputs": [],
   "source": [
    "#28. Create a custom exception class with a message.\n",
    "\n",
    "class CustomError(Exception):\n",
    "    \"\"\"Custom exception class with a custom message.\"\"\"\n",
    "    def __init__(self, message):\n",
    "        self.message = message\n",
    "        super().__init__(self.message)\n",
    "    \n",
    "    def __str__(self):\n",
    "        return self.message\n"
   ]
  },
  {
   "cell_type": "code",
   "execution_count": null,
   "id": "5a4a2a12-506e-4298-8a09-543fe9cef124",
   "metadata": {},
   "outputs": [],
   "source": [
    "#29. Write a code to raise a custom exception in Python.\n",
    "\n",
    "def check_value(value):\n",
    "    if value < 0:\n",
    "        raise CustomError(\"Value must be non-negative.\")\n",
    "    else:\n",
    "        print(f\"The value is {value}.\")\n",
    "\n",
    "try:\n",
    "    value = int(input(\"Enter a non-negative value: \"))\n",
    "    check_value(value)\n",
    "except CustomError as e:\n",
    "    print(e)\n"
   ]
  },
  {
   "cell_type": "code",
   "execution_count": null,
   "id": "a0325f83-5c1d-459e-81df-502ecb319ac3",
   "metadata": {},
   "outputs": [],
   "source": [
    "#30. Write a function that raises a custom exception when a value is negative.\n",
    "\n",
    "class NegativeValueError(Exception):\n",
    "    \"\"\"Custom exception raised for negative values.\"\"\"\n",
    "    def __init__(self, value):\n",
    "        self.value = value\n",
    "        self.message = f\"Negative value encountered: {value}\"\n",
    "        super().__init__(self.message)\n",
    "\n",
    "def check_positive(value):\n",
    "    if value < 0:\n",
    "        raise NegativeValueError(value)\n",
    "    else:\n",
    "        print(f\"The value is {value}, which is non-negative.\")\n",
    "        "
   ]
  },
  {
   "cell_type": "markdown",
   "id": "ae36490a-808c-4f2c-906e-0668b4ad9336",
   "metadata": {},
   "source": [
    "#31.  What is the role of try, except, else, and finally in handling exceptions.\n",
    "\n",
    "try Block\n",
    "Purpose: The try block contains the code that might raise an exception. If an exception occurs, the rest of the code in the try block is skipped, and Python looks for an except block to handle the exception.\n",
    "Usage: Encapsulate code that may raise an error.\n",
    "except Block\n",
    "Purpose: The except block contains the code that runs if an exception occurs in the try block. You can specify different except blocks for different types of exceptions.\n",
    "Usage: Catch and handle specific exceptions.\n",
    "else Block\n",
    "Purpose: The else block contains the code that runs if no exceptions were raised in the try block. It is optional and useful for code that should only run if the try block succeeds.\n",
    "Usage: Run code that should only execute if no exceptions occur.\n",
    "finally Block\n",
    "Purpose: The finally block contains the code that always runs, regardless of whether an exception occurred or not. This block is typically used for cleanup actions (e.g., closing files or releasing resources).\n",
    "Usage: Ensure that cleanup code runs no matter what."
   ]
  },
  {
   "cell_type": "code",
   "execution_count": null,
   "id": "dd06a183-c005-45b4-8b3b-707633abf699",
   "metadata": {},
   "outputs": [],
   "source": [
    "#32. How can custom exceptions improve code readability and maintainability?\n",
    "\n",
    "class DatabaseError(Exception):\n",
    "    \"\"\"Base class for database-related errors.\"\"\"\n",
    "    pass\n",
    "\n",
    "class DatabaseConnectionError(DatabaseError):\n",
    "    \"\"\"Raised when a database connection fails.\"\"\"\n",
    "    pass\n",
    "\n",
    "class QueryExecutionError(DatabaseError):\n",
    "    \"\"\"Raised when a database query execution fails.\"\"\"\n",
    "    pass\n",
    "\n",
    "try:\n",
    "    # Database operation\n",
    "except DatabaseConnectionError as e:\n",
    "    print(f\"Connection error: {e}\")\n",
    "except QueryExecutionError as e:\n",
    "    print(f\"Query error: {e}\")\n"
   ]
  },
  {
   "cell_type": "markdown",
   "id": "daec7aac-f03d-4575-aa81-0583dcbf1536",
   "metadata": {},
   "source": [
    "#33. What is multithreading?\n",
    "\n",
    "Multithreading is a concurrent execution model that allows multiple threads (smaller units of a process) to run simultaneously within a single process. It enables efficient use of CPU resources by performing multiple operations at the same time, improving application performance. Threads share the same memory space, making communication between them faster but also requiring careful synchronization to avoid conflicts. Multithreading is commonly used in applications that require parallelism, such as web servers, graphical user interfaces, and real-time systems. It helps in performing I/O operations and computational tasks concurrently, enhancing the overall responsiveness and throughput of the program."
   ]
  },
  {
   "cell_type": "code",
   "execution_count": null,
   "id": "2571a834-d3e0-45e4-b888-f9801f9ae8b8",
   "metadata": {},
   "outputs": [],
   "source": [
    "#34. Create a thread in Python.\n",
    "\n",
    "import threading\n",
    "\n",
    "# Define a function that will be executed by the thread\n",
    "def print_numbers():\n",
    "    for i in range(1, 6):\n",
    "        print(f\"Thread: {threading.current_thread().name}, Count: {i}\")\n",
    "\n",
    "# Create a thread object\n",
    "thread = threading.Thread(target=print_numbers)\n",
    "\n",
    "# Start the thread\n",
    "thread.start()\n",
    "\n",
    "# Optionally, you can join the thread to wait for its completion\n",
    "thread.join()\n",
    "\n",
    "print(\"Thread execution completed.\")\n"
   ]
  },
  {
   "cell_type": "markdown",
   "id": "88afbbc9-cda6-49f5-8ff7-26e9ba6350f8",
   "metadata": {},
   "source": [
    "#35. What is the Global Interpreter Lock (GIL) in Python?\n",
    "\n",
    "The Global Interpreter Lock (GIL) in Python is a mutex (or lock) that protects access to Python objects, preventing multiple native threads from executing Python bytecodes at once. This means that only one thread can execute Python bytecodes at any given time, even on multi-core systems. The GIL ensures thread safety by serializing access to interpreter internals, which simplifies the implementation of Python's memory management and allows for efficient memory allocation and deallocation."
   ]
  },
  {
   "cell_type": "code",
   "execution_count": null,
   "id": "97bdfa3e-ce00-4ad1-98e0-b6d6f45d1d1d",
   "metadata": {},
   "outputs": [],
   "source": [
    "#36. Implement a simple multithreading example in Python?\n",
    "\n",
    "import threading\n",
    "import time\n",
    "\n",
    "# Define a function that will be executed by the thread\n",
    "def count_numbers():\n",
    "    for i in range(1, 6):\n",
    "        print(f\"{threading.current_thread().name}: Count {i}\")\n",
    "        time.sleep(1)  # Simulate some time-consuming task\n",
    "\n",
    "# Create two thread objects\n",
    "thread1 = threading.Thread(target=count_numbers, name='Thread 1')\n",
    "thread2 = threading.Thread(target=count_numbers, name='Thread 2')\n",
    "\n",
    "# Start both threads\n",
    "thread1.start()\n",
    "thread2.start()\n",
    "\n",
    "# Optionally, join both threads to wait for their completion\n",
    "thread1.join()\n",
    "thread2.join()\n",
    "\n",
    "print(\"Threads execution completed.\")\n"
   ]
  },
  {
   "cell_type": "markdown",
   "id": "b016da3d-ac74-4588-9868-450aa7dd0a4b",
   "metadata": {},
   "source": [
    "#37. What is the purpose of the `join()` method in threading?\n",
    "\n",
    "The join() method in threading is used to synchronize the execution of threads. When you call join() on a thread object, the main thread (or the calling thread) waits for the thread to complete its execution before proceeding further. This ensures that all operations in the thread have finished before continuing with subsequent code. It's particularly useful when you need to coordinate the flow of execution across multiple threads, ensuring that results or side effects from one thread are available or completed before proceeding with others."
   ]
  },
  {
   "cell_type": "markdown",
   "id": "9707fd16-0de5-486a-96e6-ec15805059c5",
   "metadata": {},
   "source": [
    "#38. Describe a scenario where multithreading would be beneficial in Python.\n",
    "\n",
    "I/O-bound Operations: When the tasks involve waiting for external resources like network requests, disk reads, or database queries. Multiple threads can perform these operations concurrently without blocking each other, thus improving overall throughput.\n",
    "\n",
    "GUI Applications: In graphical user interfaces (GUIs), threads can handle tasks such as updating the UI elements while simultaneously processing user input or fetching data from remote servers. This keeps the application responsive and smooth.\n",
    "\n",
    "Parallel Processing: Certain computational tasks, though limited by the Global Interpreter Lock (GIL), can still benefit from multithreading. For instance, tasks that involve complex calculations or simulations can be divided among threads to utilize multiple CPU cores effectively.\n",
    "\n",
    "Web Scraping and Crawling: Scraping data from multiple websites simultaneously can be accelerated using threads. Each thread can handle a different website or URL, fetching data concurrently and reducing the overall scraping time.\n",
    "\n",
    "Real-time Data Processing: Applications that require continuous data streams, such as real-time analytics, monitoring systems, or multimedia processing, can use threads to process incoming data in parallel, ensuring timely analysis or display.\n",
    "\n",
    "Asynchronous Task Execution: Multithreading enables the execution of asynchronous tasks where different threads can handle different parts of a workflow concurrently. This is common in event-driven or microservices architectures.\n",
    "\n",
    "Background Tasks: Tasks that run in the background, such as periodic data backups, logging, or system maintenance operations, can be performed concurrently using threads without interrupting the main execution flow of the application.\n",
    "\n",
    "Resource Sharing and Coordination: Threads can share resources such as memory or files more efficiently than separate processes, making them suitable for scenarios where tasks need to communicate or synchronize state in a shared context."
   ]
  },
  {
   "cell_type": "markdown",
   "id": "7ff639db-374d-46d2-8dd5-2350327ff40d",
   "metadata": {},
   "source": [
    "#39.  What is multiprocessing in Python?\n",
    "\n",
    "Multiprocessing in Python refers to the capability of creating and executing multiple processes simultaneously, leveraging the full potential of multi-core CPUs. Unlike threads, which are limited by the Global Interpreter Lock (GIL) and share the same memory space, processes have their own memory space and operate independently. This allows Python to run separate Python interpreters concurrently, effectively utilizing multiple CPU cores and enabling true parallelism."
   ]
  },
  {
   "cell_type": "markdown",
   "id": "df058dbb-59e9-4fb7-b768-7ef4ae1262d9",
   "metadata": {},
   "source": [
    "#40.  How is multiprocessing different from multithreading in Python?\n",
    "\n",
    "Multiprocessing and multithreading in Python differ primarily in how they achieve concurrency:\n",
    "\n",
    "Execution Model: Multiprocessing involves running multiple processes concurrently, each with its own memory space and Python interpreter, enabling true parallelism on multi-core CPUs.\n",
    "\n",
    "Memory Management: Processes do not share memory directly, which avoids complications like race conditions but requires explicit communication mechanisms for inter-process data exchange.\n",
    "\n",
    "Global Interpreter Lock (GIL): Multiprocessing bypasses the GIL limitation present in multithreading, allowing CPU-bound tasks to execute concurrently without being constrained by Python's single-threaded execution model.\n",
    "\n",
    "Overhead: Multiprocessing incurs higher overhead due to process creation and memory isolation compared to multithreading, which involves lighter-weight threads sharing the same memory space.\n",
    "\n",
    "Suitability: Multiprocessing is suitable for CPU-bound tasks where true parallelism is essential, while multithreading is more appropriate for I/O-bound tasks or scenarios where synchronization and shared memory are advantageous.\n",
    "\n",
    "Python Modules: Python provides multiprocessing for managing processes and threading for threads, each offering distinct APIs and synchronization mechanisms tailored to their respective concurrency models."
   ]
  },
  {
   "cell_type": "code",
   "execution_count": null,
   "id": "877cbd4f-3197-46fa-91e3-bf62a8f70ce0",
   "metadata": {},
   "outputs": [],
   "source": [
    "#41. Create a process using the multiprocessing module in Python.\n",
    "\n",
    "import multiprocessing\n",
    "import os\n",
    "import time\n",
    "\n",
    "# Define a function that will be executed by the process\n",
    "def print_process_info():\n",
    "    print(f\"Process ID: {os.getpid()}\")\n",
    "    print(f\"Parent Process ID: {os.getppid()}\")\n",
    "    print(\"Process is running...\")\n",
    "    time.sleep(2)\n",
    "    print(\"Process execution completed.\")\n",
    "\n",
    "if __name__ == \"__main__\":\n",
    "    # Create a Process object\n",
    "    process = multiprocessing.Process(target=print_process_info)\n",
    "\n",
    "    # Start the process\n",
    "    process.start()\n",
    "\n",
    "    # Optionally, join the process to wait for its completion\n",
    "    process.join()\n",
    "\n",
    "    print(\"Main program execution completed.\")\n"
   ]
  },
  {
   "cell_type": "markdown",
   "id": "555cd8d9-2ba5-4ff3-aeb5-4cb0bcf67193",
   "metadata": {},
   "source": [
    "#42.  Explain the concept of Pool in the multiprocessing module.\n",
    "\n",
    "In the multiprocessing module of Python, a Pool represents a group of worker processes that are managed together for executing tasks concurrently. The Pool class provides a convenient way to distribute work across multiple processes, typically for parallel execution of function calls. It allows tasks to be dispatched to available processes in the pool, manages their execution, and collects results. Pool simplifies the management of multiple processes by abstracting away the details of process creation, synchronization, and communication, making it easier to harness the full potential of multi-core CPUs for parallel processing tasks."
   ]
  },
  {
   "cell_type": "markdown",
   "id": "b6e34772-8ee6-4e60-9541-4c82f9d92ebc",
   "metadata": {},
   "source": [
    "#43. Explain inter-process communication in multiprocessing.\n",
    "\n",
    "Inter-process communication (IPC) in multiprocessing involves mechanisms for processes to exchange data and synchronize their activities. In Python's multiprocessing module, IPC is crucial for coordinating tasks among multiple processes:\n",
    "\n",
    "Communication Channels: Processes communicate via shared memory, pipes, queues, and multiprocessing Manager objects.\n",
    "\n",
    "Shared Memory: Processes can share data by mapping the same memory region, accessed using shared objects like Value and Array.\n",
    "\n",
    "Pipes: Bidirectional communication between two processes using Pipe, where data is transmitted through a pipe-like connection"
   ]
  }
 ],
 "metadata": {
  "kernelspec": {
   "display_name": "Python 3 (ipykernel)",
   "language": "python",
   "name": "python3"
  },
  "language_info": {
   "codemirror_mode": {
    "name": "ipython",
    "version": 3
   },
   "file_extension": ".py",
   "mimetype": "text/x-python",
   "name": "python",
   "nbconvert_exporter": "python",
   "pygments_lexer": "ipython3",
   "version": "3.10.8"
  }
 },
 "nbformat": 4,
 "nbformat_minor": 5
}

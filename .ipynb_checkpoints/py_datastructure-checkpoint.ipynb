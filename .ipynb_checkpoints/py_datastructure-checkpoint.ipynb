{
 "cells": [
  {
   "cell_type": "code",
   "execution_count": 1,
   "id": "aa9227ba-81a4-4fc3-ab45-44cd13f273b6",
   "metadata": {},
   "outputs": [
    {
     "name": "stdout",
     "output_type": "stream",
     "text": [
      "Reversed String :  dlroW , olleH\n"
     ]
    }
   ],
   "source": [
    "# 1. Write a code to reverse a sting.\n",
    "\n",
    "input_string=\"Hello , World\"\n",
    "reversed_string=input_string[::-1]\n",
    "print(\"Reversed String : \",reversed_string)"
   ]
  },
  {
   "cell_type": "code",
   "execution_count": 2,
   "id": "02ce37b3-86bd-4fc6-a6f6-a3eb6fd46f04",
   "metadata": {},
   "outputs": [
    {
     "name": "stdout",
     "output_type": "stream",
     "text": [
      "Number of VOWELS in 'Hello,World U' : 4\n"
     ]
    }
   ],
   "source": [
    "# 2. Write a code to count the number of vowels in a string.\n",
    "\n",
    "a=\"Hello,World U\"\n",
    "v=\"aeiouAEIOU\"\n",
    "count=0\n",
    "for char in a:\n",
    "    if char in v:\n",
    "        count += 1\n",
    "print(f\"Number of VOWELS in '{a}' : {count}\")       "
   ]
  },
  {
   "cell_type": "code",
   "execution_count": 3,
   "id": "02c39193-25bc-49be-ac07-9538e7c839a0",
   "metadata": {},
   "outputs": [
    {
     "name": "stdout",
     "output_type": "stream",
     "text": [
      " Given string is a palindrome\n"
     ]
    }
   ],
   "source": [
    "# 3. Write code to check if given string is a palindrome or not.\n",
    "\n",
    "a=\"ollo\"\n",
    "reverse =a[::-1]\n",
    "if a==reverse:\n",
    "    print(\" Given string is a palindrome\")\n",
    "else:\n",
    "    print(\" Given string is  not a palindrome\")    "
   ]
  },
  {
   "cell_type": "code",
   "execution_count": 4,
   "id": "27555989-d672-4dae-915e-fd921f69d6e8",
   "metadata": {},
   "outputs": [
    {
     "name": "stdout",
     "output_type": "stream",
     "text": [
      "Given two string are Anagrams\n"
     ]
    }
   ],
   "source": [
    "# 4. Write a code to check if the given two string are anagrams to ecach other or not \n",
    "\n",
    "string1=\"Hello , World\"\n",
    "string2=\"world,hello\"\n",
    "\n",
    "string1=string1.replace(\" \",\"\").lower()\n",
    "string2=string2.replace(\" \",\"\").lower()\n",
    "\n",
    "string1=sorted(string1)\n",
    "string2=sorted(string2)\n",
    "\n",
    "check=string1==string2\n",
    "\n",
    "if check==True:\n",
    "    print(\"Given two string are Anagrams\")\n",
    "else:\n",
    "    print(\"Given two stringd are Not Anagrams\")"
   ]
  },
  {
   "cell_type": "code",
   "execution_count": 5,
   "id": "b622fd2b-45cb-4483-b7a9-872fe29e6534",
   "metadata": {},
   "outputs": [
    {
     "name": "stdout",
     "output_type": "stream",
     "text": [
      "Occurrences of 'test' in 'This is a test string for testing.': [10, 26]\n"
     ]
    }
   ],
   "source": [
    "# 5. Write a code to find all occurrences of a given substring within another string.\n",
    "\n",
    "# Input strings\n",
    "main_string = \"This is a test string for testing.\"\n",
    "substring = \"test\"\n",
    "\n",
    "positions = []\n",
    "start = 0\n",
    "\n",
    "while True:\n",
    "    pos = main_string.find(substring, start)\n",
    "    if pos == -1:\n",
    "        break\n",
    "    positions.append(pos)\n",
    "    start = pos + 1\n",
    "print(f\"Occurrences of '{substring}' in '{main_string}': {positions}\")"
   ]
  },
  {
   "cell_type": "code",
   "execution_count": 6,
   "id": "3ecd622b-fb57-4fbf-aedc-550231dc604d",
   "metadata": {},
   "outputs": [
    {
     "name": "stdout",
     "output_type": "stream",
     "text": [
      "Compressed string: a3b3c3a3\n"
     ]
    }
   ],
   "source": [
    "# 6. Write a code to perform basic string compression using the counts of repeated characters.\n",
    "\n",
    "input_string = \"aaabbbcccaaa\"\n",
    "\n",
    "# Initialize variables\n",
    "compressed_string = \"\"\n",
    "count = 1\n",
    "\n",
    "# Loop through the string\n",
    "for i in range(1, len(input_string)):\n",
    "    if input_string[i] == input_string[i - 1]:\n",
    "        # Increment the count if the current character is the same as the previous one\n",
    "        count += 1\n",
    "    else:\n",
    "        # Append the character and its count to the compressed string\n",
    "        compressed_string += input_string[i - 1] + str(count)\n",
    "        # Reset the count\n",
    "        count = 1\n",
    "# Append the last character and its count\n",
    "compressed_string += input_string[-1] + str(count)\n",
    "\n",
    "# Print the compressed string\n",
    "print(\"Compressed string:\", compressed_string)"
   ]
  },
  {
   "cell_type": "code",
   "execution_count": 7,
   "id": "51681bfd-6c12-407d-aa76-982699d6f26c",
   "metadata": {},
   "outputs": [
    {
     "name": "stdout",
     "output_type": "stream",
     "text": [
      "Yes, the 'suha' have all Unique Values .The Unique values are: {'a', 's', 'h', 'u'}\n"
     ]
    }
   ],
   "source": [
    "# 7. Write a code to determine if a string has all unique values.\n",
    "\n",
    "input_string=\"suha\"\n",
    "unique_char=set()\n",
    "all_unique=True\n",
    "\n",
    "for char in input_string:\n",
    "    if char in unique_char:\n",
    "        all_unique=False\n",
    "        break\n",
    "    else:\n",
    "        unique_char.add(char)\n",
    "#print(f\"unique values  are: {unique_char}\")\n",
    "\n",
    "if all_unique==True:\n",
    "    print(f\"Yes, the '{input_string}' have all Unique Values .The Unique values are: {unique_char}\")\n",
    "else:\n",
    "    print(f\"No , the  '{input_string}' has duplicates Values\")        "
   ]
  },
  {
   "cell_type": "code",
   "execution_count": 10,
   "id": "c5f32e00-b8e6-4edc-8fcc-5ceb29f160ca",
   "metadata": {},
   "outputs": [
    {
     "name": "stdout",
     "output_type": "stream",
     "text": [
      "Uppercase : SUHAS H S\n",
      "Lowercase : suhas h s\n"
     ]
    }
   ],
   "source": [
    "# 8. Write a code to convert a given string to Lppercase or lowercase.\n",
    "\n",
    "string1=\"Suhas H S\"\n",
    "converted_srting1=string1.upper()\n",
    "print(f\"Uppercase : {converted_srting1}\")\n",
    "\n",
    "string2=\"Suhas H S\"\n",
    "converted_srting2=string2.lower()\n",
    "print(f\"Lowercase : {converted_srting2}\")"
   ]
  },
  {
   "cell_type": "code",
   "execution_count": 11,
   "id": "a94d625f-f237-49d3-ae42-67b451550ed9",
   "metadata": {},
   "outputs": [
    {
     "name": "stdout",
     "output_type": "stream",
     "text": [
      "Number of words in 'hello world' are : 2\n"
     ]
    }
   ],
   "source": [
    "# 9. Write a code to count number of  words in a string.\n",
    "\n",
    "string1=\"hello world\"\n",
    "split_words=len(string1.split())\n",
    "print(f\"Number of words in '{string1}' are : {split_words}\")"
   ]
  },
  {
   "cell_type": "code",
   "execution_count": 12,
   "id": "98571366-0bb5-47cf-917a-6a64e08eec63",
   "metadata": {},
   "outputs": [
    {
     "name": "stdout",
     "output_type": "stream",
     "text": [
      "Suhas H S, How are you\n"
     ]
    }
   ],
   "source": [
    "# 10. Write a code to concatenate two strings without using the +operator.\n",
    "\n",
    "string1=\"Suhas H S,\"\n",
    "string2=\"How are you\"\n",
    "string3=\"{} {}\".format(string1,string2)\n",
    "print(string3)"
   ]
  },
  {
   "cell_type": "code",
   "execution_count": 13,
   "id": "5f7eb65a-4ad4-4d3c-9e10-43a17f1a9ba5",
   "metadata": {},
   "outputs": [
    {
     "name": "stdout",
     "output_type": "stream",
     "text": [
      "List after removing all occurrences of 2 : [1, 3, 4, 5, 6]\n"
     ]
    }
   ],
   "source": [
    "# 11. Write a code to remove all occurrences of a specific element from a list.\n",
    "input_list = [1, 2, 3, 4, 2, 5, 2, 6, 2]\n",
    "element_to_remove = 2\n",
    "result_list = []\n",
    "\n",
    "for element in input_list:\n",
    "    if element != element_to_remove:\n",
    "        result_list.append(element)\n",
    "\n",
    "print(\"List after removing all occurrences of\", element_to_remove, \":\", result_list)"
   ]
  },
  {
   "cell_type": "code",
   "execution_count": 35,
   "id": "db8015af-c464-454e-b2b8-7d4f801c2fe4",
   "metadata": {},
   "outputs": [
    {
     "name": "stdout",
     "output_type": "stream",
     "text": [
      "second largest number in the given list : 15\n"
     ]
    }
   ],
   "source": [
    "# 12. Implement a code to find the second largest number in a given list of integers:\n",
    "\n",
    "numbers = [10, 5, 8, 20, 15]\n",
    "sorted_numbers_desc = sorted(numbers, reverse=True)\n",
    "print(f\"second largest number in the given list : {sorted_numbers_desc[1]}\")"
   ]
  },
  {
   "cell_type": "code",
   "execution_count": 16,
   "id": "23ecb65b-e781-4f0d-979f-a32b44af0316",
   "metadata": {},
   "outputs": [
    {
     "name": "stdout",
     "output_type": "stream",
     "text": [
      "Element counts: {1: 1, 2: 2, 3: 1, 4: 3, 5: 1, 6: 4}\n"
     ]
    }
   ],
   "source": [
    " # 13. create a code to count the occurrences of each element in a list and return a dictionary with\n",
    "  #       elements as keys and their counts as values\"\"\"\n",
    "\n",
    "elements = [1, 2, 2, 3, 4, 4, 4, 5, 6, 6, 6, 6]\n",
    "count_dict = {}\n",
    "\n",
    "for element in elements:\n",
    "    if element in count_dict:\n",
    "        count_dict[element] += 1\n",
    "    else:\n",
    "        count_dict[element] = 1\n",
    "\n",
    "print(\"Element counts:\", count_dict)"
   ]
  },
  {
   "cell_type": "code",
   "execution_count": 17,
   "id": "d1cf9093-b0f1-4640-b948-d4a2ec97e770",
   "metadata": {},
   "outputs": [
    {
     "name": "stdout",
     "output_type": "stream",
     "text": [
      "Reversed list: [5, 4, 3, 2, 1]\n"
     ]
    }
   ],
   "source": [
    "# 14. Write a code to reverse a list in_place without using any builtin reverse function\n",
    "\n",
    "elements = [1, 2, 3, 4, 5]\n",
    "left = 0\n",
    "right = len(elements) - 1\n",
    "\n",
    "\n",
    "while left < right:\n",
    "    elements[left], elements[right] = elements[right], elements[left]\n",
    "    left += 1\n",
    "    right -= 1\n",
    "\n",
    "print(\"Reversed list:\", elements)"
   ]
  },
  {
   "cell_type": "code",
   "execution_count": 63,
   "id": "76d5293f-dfc6-44f2-a7c1-b1baf7ee7804",
   "metadata": {},
   "outputs": [
    {
     "name": "stdout",
     "output_type": "stream",
     "text": [
      "List after removing duplicates: [1, 5, 2]\n"
     ]
    }
   ],
   "source": [
    "# 15. implement a code to find and remove duplicates from a list while preserving original order of elements .\n",
    "\n",
    "elements = [1,5,2,2,5]\n",
    "seen = set()\n",
    "result = []\n",
    "\n",
    "for element in elements:\n",
    "    if element not in seen:\n",
    "        result.append(element)\n",
    "        seen.add(element)\n",
    "\n",
    "print(\"List after removing duplicates:\", result)"
   ]
  },
  {
   "cell_type": "code",
   "execution_count": 89,
   "id": "48008d26-0338-437d-8187-8aca3b02bb29",
   "metadata": {},
   "outputs": [
    {
     "name": "stdout",
     "output_type": "stream",
     "text": [
      "The list is sorted in ascending.\n"
     ]
    }
   ],
   "source": [
    "# 16. Create a code to check if a given list is sorted (either in ascending or descending order) or not.\n",
    "\n",
    "lst = [5,6,7,8,9] \n",
    "ascending = True\n",
    "descending = True\n",
    "\n",
    "\n",
    "for i in range(len(lst) - 1):\n",
    "    if lst[i] > lst[i + 1]:\n",
    "        ascending = False\n",
    "    if lst[i] < lst[i + 1]:\n",
    "        descending = False\n",
    "\n",
    "if ascending:\n",
    "    print(\"The list is sorted in ascending.\")\n",
    "elif descending:\n",
    "    print(\"The list is sorted in descending.\")\n",
    "else:\n",
    "    print(\"The lis is not sorted.\")"
   ]
  },
  {
   "cell_type": "code",
   "execution_count": 5,
   "id": "ffcc76ac-9783-4fd4-b50c-c1000b39ebf9",
   "metadata": {},
   "outputs": [
    {
     "name": "stdout",
     "output_type": "stream",
     "text": [
      "Merged sorted list: [1, 2, 3, 4, 5, 6, 7, 8, 9]\n"
     ]
    }
   ],
   "source": [
    "# 17. Write a code to merge two sorted lists into single sorted list.\n",
    "\n",
    "list1 = [1,2,3,4,5]\n",
    "list2 = [9,8,7,6]\n",
    "sorted_list = (list1 + list2)\n",
    "sorted_list.sort()\n",
    "print(\"Merged sorted list:\", sorted_list)"
   ]
  },
  {
   "cell_type": "code",
   "execution_count": 2,
   "id": "597c687a-4429-4e0e-a36a-d1cf78e888a0",
   "metadata": {},
   "outputs": [
    {
     "name": "stdout",
     "output_type": "stream",
     "text": [
      "Intersection using set intersection: [4, 5, 'ajay']\n"
     ]
    }
   ],
   "source": [
    "# 18. Implement  a code to find the intersection of two given lists.\n",
    "\n",
    "list1 = [1, 2, 3, 4, 5, \"ajay\"]\n",
    "list2 = [4, 5, 6,\"ajay\", 7, 8]\n",
    "\n",
    "intersection = list(set(list1) & set(list2))\n",
    "print(\"Intersection using set intersection:\", intersection)"
   ]
  },
  {
   "cell_type": "code",
   "execution_count": 6,
   "id": "cf48621f-f720-4b21-9a41-c961240ea2b5",
   "metadata": {},
   "outputs": [
    {
     "name": "stdout",
     "output_type": "stream",
     "text": [
      " The Union of [1, 2, 3, 4, 4] & [4, 4, 2, 7, 8] are : [1, 2, 3, 4, 7, 8]\n"
     ]
    }
   ],
   "source": [
    "# 19. Implement  a code to find the union of two given lists without dupplicates .\n",
    "\n",
    "list1 = [1,2,3,4,4]\n",
    "list2 = [4,4,2,7,8]\n",
    "\n",
    "union_set = set(list1).union(set(list2))\n",
    "union_list = list(union_set)\n",
    "\n",
    "print(f\" The Union of {list1} & {list2} are : {union_list}\")"
   ]
  },
  {
   "cell_type": "code",
   "execution_count": 7,
   "id": "defcfa2b-7b94-47fc-9076-b6128b5c670b",
   "metadata": {},
   "outputs": [
    {
     "name": "stdout",
     "output_type": "stream",
     "text": [
      "Shuffled list: [5, 1, 2, 4, 3]\n"
     ]
    }
   ],
   "source": [
    "# 20. Write a code to shuffle a give list randomly without using any built-in shuffle functions o.\n",
    "\n",
    "import random\n",
    "random.seed()\n",
    "lst = [1, 2, 3, 4, 5]\n",
    "n = len(lst)\n",
    "\n",
    "for i in range(n-1, 0, -1):\n",
    "    j = random.randint(0, i)\n",
    "    lst[i], lst[j] = lst[j], lst[i]\n",
    "\n",
    "print(\"Shuffled list:\", lst)"
   ]
  },
  {
   "cell_type": "code",
   "execution_count": 9,
   "id": "770e62c9-9cc3-4196-9e2a-5692859d1a65",
   "metadata": {},
   "outputs": [
    {
     "name": "stdout",
     "output_type": "stream",
     "text": [
      "The common elements in the (1, 2, 3, 4, 5, 5) & (3, 4, 5, 6, 7) : [3, 4, 5]\n"
     ]
    }
   ],
   "source": [
    "# 21. Write a code that takes two tuples as input and returns a new tuple contating elements that are common to both input \n",
    "   #  tuples.\n",
    "\n",
    "tuple1 = (1,2,3,4,5,5)\n",
    "tuple2 = (3,4,5,6,7)\n",
    "\n",
    "common = list(set(tuple1) & set(tuple2))\n",
    "\n",
    "print(f\"The common elements in the {tuple1} & {tuple2} : {common}\")    "
   ]
  },
  {
   "cell_type": "code",
   "execution_count": 16,
   "id": "06ae13cc-24f8-4f5b-b8ca-44d4d1f2e6cb",
   "metadata": {},
   "outputs": [
    {
     "name": "stdin",
     "output_type": "stream",
     "text": [
      "Enter the first set of integers separated by commas:  1,2,3,4\n",
      "Enter the second set of integers separated by commas:  3,4,5,6,7\n"
     ]
    },
    {
     "name": "stdout",
     "output_type": "stream",
     "text": [
      "Intersection of the two sets : {3, 4}\n"
     ]
    }
   ],
   "source": [
    "# 22. Create a code that prompts the user to enter two sets of integers separated by commas.Then, print the intersection \n",
    "#     of these two sets.\n",
    "\n",
    "input1 = input(\"Enter the first set of integers separated by commas: \")\n",
    "input2 = input(\"Enter the second set of integers separated by commas: \")\n",
    "\n",
    "set1 = set(map(int, input1.split(',')))\n",
    "set2 = set(map(int, input2.split(',')))\n",
    "\n",
    "intersection = set1 & set2\n",
    "\n",
    "print(f\"Intersection of the two sets : {intersection}\")"
   ]
  },
  {
   "cell_type": "code",
   "execution_count": 17,
   "id": "1a78867e-03b9-47aa-b101-67499c2e0b98",
   "metadata": {},
   "outputs": [
    {
     "name": "stdout",
     "output_type": "stream",
     "text": [
      "Concatenated tuple: (1, 2, 3, 4, 5, 6)\n"
     ]
    }
   ],
   "source": [
    "# 23. write a code to concatinate two tupes.The function should take two tuples as input and return a new tuple containing  \n",
    "#     elemnts from both input tuples.\n",
    "\n",
    "def concatenate_tuples(tuple1, tuple2):\n",
    "    concatenated_tuple = tuple1 + tuple2\n",
    "    return concatenated_tuple\n",
    "\n",
    "tuple1 = (1, 2, 3)\n",
    "tuple2 = (4, 5, 6)\n",
    "\n",
    "result = concatenate_tuples(tuple1, tuple2)\n",
    "print(\"Concatenated tuple:\", result)"
   ]
  },
  {
   "cell_type": "code",
   "execution_count": 19,
   "id": "398c9b89-51bc-4848-89d1-a5ab10e7a10a",
   "metadata": {
    "tags": []
   },
   "outputs": [
    {
     "name": "stdin",
     "output_type": "stream",
     "text": [
      "Enter the first set of strings separated by commas:  apple,banana,cherry\n",
      "Enter the second set of strings separated by commas:  banana,cherry,date\n"
     ]
    },
    {
     "name": "stdout",
     "output_type": "stream",
     "text": [
      "Elements present in the first set but not in the second set: {'apple'}\n"
     ]
    }
   ],
   "source": [
    "# 24. Develop  code that prompts the user to input two set of string.The, print the elements that are present in the first \n",
    "      #set but not in the second set.\n",
    "    \n",
    "input1 = input(\"Enter the first set of strings separated by commas: \")\n",
    "input2 = input(\"Enter the second set of strings separated by commas: \")\n",
    "\n",
    "set1 = set(item.strip() for item in input1.split(','))\n",
    "set2 = set(item.strip() for item in input2.split(','))\n",
    "\n",
    "difference = set1 - set2\n",
    "\n",
    "print(\"Elements present in the first set but not in the second set:\", difference)"
   ]
  },
  {
   "cell_type": "code",
   "execution_count": 20,
   "id": "b410460c-ef63-4840-a2d3-fc6af3a00102",
   "metadata": {
    "tags": []
   },
   "outputs": [
    {
     "name": "stdout",
     "output_type": "stream",
     "text": [
      "Sliced tuple: (3, 4, 5)\n"
     ]
    }
   ],
   "source": [
    "# 25. Create a code that takes a tuple and two integers as input. The function should return a new tuple \n",
    "#containing elements from the original tuple within the specified range of indices.\n",
    "\n",
    "def slice_tuple(input_tuple, start_index, end_index):\n",
    "    return input_tuple[start_index:end_index]\n",
    "original_tuple = (1, 2, 3, 4, 5, 6, 7, 8, 9)\n",
    "start_index = 2\n",
    "end_index = 5\n",
    "\n",
    "result = slice_tuple(original_tuple, start_index, end_index)\n",
    "print(\"Sliced tuple:\", result)"
   ]
  },
  {
   "cell_type": "code",
   "execution_count": null,
   "id": "0f2c5989-46cd-4bf2-8aeb-fbd95f0f5334",
   "metadata": {
    "jupyter": {
     "source_hidden": true
    },
    "tags": []
   },
   "outputs": [],
   "source": []
  },
  {
   "cell_type": "code",
   "execution_count": 1,
   "id": "8bdabc91-dede-4edf-9b8d-5ff53914f632",
   "metadata": {},
   "outputs": [
    {
     "name": "stdin",
     "output_type": "stream",
     "text": [
      "Enter the first set of characters separated by commas:  a,b,c,d\n",
      "Enter the second set of characters separated by commas:  c,d,f,g\n"
     ]
    },
    {
     "name": "stdout",
     "output_type": "stream",
     "text": [
      "Union of the two sets: {'d', 'g', 'f', 'a', 'b', 'c'}\n"
     ]
    }
   ],
   "source": [
    "# 26. Write a code that prompts the user to input two sets of characters. Then, print the union of these two sets\n",
    "\n",
    "input1 = input(\"Enter the first set of characters separated by commas: \")\n",
    "input2 = input(\"Enter the second set of characters separated by commas: \")\n",
    "\n",
    "set1 = set(input1.split(','))\n",
    "set2 = set(input2.split(','))\n",
    "\n",
    "union_set = set1.union(set2)\n",
    "print(\"Union of the two sets:\", union_set)"
   ]
  },
  {
   "cell_type": "code",
   "execution_count": null,
   "id": "39de3d6e-1f78-4cb3-b38d-c2c76641c1a7",
   "metadata": {},
   "outputs": [],
   "source": [
    "# 27. Develop a code that takes a tuple of integers as input. The function should return the maximum and \n",
    "#     minimum values from the tuple using tuple unpacking.\n",
    "    \n",
    "def find_max_min(input_tuple):\n",
    "    maximum = max(input_tuple)\n",
    "    minimum = min(input_tuple)\n",
    "    return maximum, minimum\n",
    "\n",
    "input_tuple = (3, 1, 7, 9, 2, 5)\n",
    "maximum, minimum = find_max_min(input_tuple)\n",
    "print(\"Maximum value:\", maximum)\n",
    "print(\"Minimum value:\", minimum)"
   ]
  },
  {
   "cell_type": "code",
   "execution_count": 4,
   "id": "9db93273-0e9e-48ac-9666-6f22486cce74",
   "metadata": {},
   "outputs": [
    {
     "name": "stdout",
     "output_type": "stream",
     "text": [
      "Set 1: {1, 2, 3, 4, 5}\n",
      "Set 2: {4, 5, 6, 7, 8}\n",
      "Union of the two sets: {1, 2, 3, 4, 5, 6, 7, 8}\n",
      "Intersection of the two sets: {4, 5}\n",
      "Difference (set1 - set2): {1, 2, 3}\n"
     ]
    }
   ],
   "source": [
    "# 28.  Create a code that defines two sets of integers. Then, print the union, intersection, and difference of these two sets.\n",
    "\n",
    "set1 = {1, 2, 3, 4, 5}\n",
    "set2 = {4, 5, 6, 7, 8}\n",
    "union_set = set1.union(set2)\n",
    "intersection_set = set1.intersection(set2)\n",
    "difference_set = set1.difference(set2)\n",
    "print(\"Set 1:\", set1)\n",
    "print(\"Set 2:\", set2)\n",
    "print(\"Union of the two sets:\", union_set)\n",
    "print(\"Intersection of the two sets:\", intersection_set)\n",
    "print(\"Difference (set1 - set2):\", difference_set)"
   ]
  },
  {
   "cell_type": "code",
   "execution_count": 5,
   "id": "58cf7fd5-1ca9-4736-b2fc-e94e4e12fb01",
   "metadata": {},
   "outputs": [
    {
     "name": "stdout",
     "output_type": "stream",
     "text": [
      "The element 2 occurs 3 times in the tuple.\n"
     ]
    }
   ],
   "source": [
    "# 29.  Write a code that takes a tuple and an element as input. The function should return the count of \n",
    "#     occurrences of the given element in the tuple.\n",
    "\n",
    "def count_occurrences(input_tuple, element):\n",
    "    return input_tuple.count(element)\n",
    "\n",
    "input_tuple = (1, 2, 3, 2, 4, 2, 5)\n",
    "element = 2\n",
    "\n",
    "occurrences = count_occurrences(input_tuple, element)\n",
    "print(f\"The element {element} occurs {occurrences} times in the tuple.\")\n"
   ]
  },
  {
   "cell_type": "code",
   "execution_count": 7,
   "id": "e835bd81-cd1f-4e3e-856f-03ba3fef2d44",
   "metadata": {},
   "outputs": [
    {
     "name": "stdin",
     "output_type": "stream",
     "text": [
      "Enter the first set of strings separated by commas:  1,2,3,4,5\n",
      "Enter the second set of strings separated by commas:  4,5,6,7\n"
     ]
    },
    {
     "name": "stdout",
     "output_type": "stream",
     "text": [
      "Symmetric difference of the two sets: {'7', '1', '6', '3', '2'}\n"
     ]
    }
   ],
   "source": [
    "# 30.  Develop a code that prompts the user to input two sets of strings. Then, print the symmetric difference of these two sets.\n",
    "\n",
    "input1 = input(\"Enter the first set of strings separated by commas: \")\n",
    "input2 = input(\"Enter the second set of strings separated by commas: \")\n",
    "    \n",
    "set1 = set(input1.split(','))\n",
    "set2 = set(input2.split(','))\n",
    "symmetric_difference_set = set1.symmetric_difference(set2)\n",
    "\n",
    "print(\"Symmetric difference of the two sets:\", symmetric_difference_set)"
   ]
  },
  {
   "cell_type": "code",
   "execution_count": 8,
   "id": "7f948c1d-4df9-40c6-961a-bdaa4a299722",
   "metadata": {},
   "outputs": [
    {
     "name": "stdout",
     "output_type": "stream",
     "text": [
      "{'apple': 3, 'banana': 2, 'orange': 1}\n"
     ]
    }
   ],
   "source": [
    "# 31.Write a code that takes a list of words as input and returns a dictionary where the keys are unique words and the values are \n",
    "#    the frequencies of those words in the input list.\n",
    "\n",
    "def word_frequencies(word_list):\n",
    "    frequency_dict = {}\n",
    "    for word in word_list:\n",
    "        if word in frequency_dict:\n",
    "            frequency_dict[word] += 1\n",
    "        else:\n",
    "            frequency_dict[word] = 1\n",
    "    return frequency_dict\n",
    "\n",
    "words = [\"apple\", \"banana\", \"apple\", \"orange\", \"banana\", \"apple\"]\n",
    "frequencies = word_frequencies(words)\n",
    "print(frequencies)\n"
   ]
  },
  {
   "cell_type": "code",
   "execution_count": 9,
   "id": "d412561c-e0ec-46b3-9408-d629d74bd730",
   "metadata": {},
   "outputs": [
    {
     "name": "stdout",
     "output_type": "stream",
     "text": [
      "{'a': 1, 'b': 5, 'c': 7, 'd': 5}\n"
     ]
    }
   ],
   "source": [
    "# 32. Write a code that takes two dictionaries as input and merges them into a single dictionary. If there are \n",
    "#     common keys, the values should be added together. \n",
    "\n",
    "dict1 = {'a': 1, 'b': 2, 'c': 3}\n",
    "dict2 = {'b': 3, 'c': 4, 'd': 5}\n",
    "\n",
    "merged_dict = {}\n",
    "\n",
    "for key, value in dict1.items():\n",
    "    merged_dict[key] = value\n",
    "\n",
    "for key, value in dict2.items():\n",
    "    if key in merged_dict:\n",
    "        merged_dict[key] += value\n",
    "    else:\n",
    "        merged_dict[key] = value\n",
    "\n",
    "print(merged_dict)\n"
   ]
  },
  {
   "cell_type": "code",
   "execution_count": 10,
   "id": "6f72b022-6c48-43af-94c7-d00067d77bd2",
   "metadata": {},
   "outputs": [
    {
     "name": "stdout",
     "output_type": "stream",
     "text": [
      "42\n"
     ]
    }
   ],
   "source": [
    "# 33.Write a code to access a value in a nested dictionary. The function should take the dictionary and a list of keys as input, \n",
    "   # and return the corresponding value. If any of the keys do not exist in the dictionary, the function should return None\n",
    "nested_dict = {\n",
    "    'a': {\n",
    "        'b': {\n",
    "            'c': 42\n",
    "        }\n",
    "    }\n",
    "}\n",
    "\n",
    "key_list = ['a', 'b', 'c']\n",
    "\n",
    "current_dict = nested_dict\n",
    "for key in key_list:\n",
    "    if key in current_dict:\n",
    "        current_dict = current_dict[key]\n",
    "    else:\n",
    "        current_dict = None\n",
    "        break\n",
    "print(current_dict)  #\n"
   ]
  },
  {
   "cell_type": "code",
   "execution_count": 11,
   "id": "c3a4b736-e456-4cfb-88ae-07d3324cd3ff",
   "metadata": {},
   "outputs": [
    {
     "name": "stdout",
     "output_type": "stream",
     "text": [
      "Sorted Dictionary (Ascending Order): {'b': 2, 'd': 3, 'a': 5, 'c': 8}\n"
     ]
    }
   ],
   "source": [
    "# 34. Write a code that takes a dictionary as input and returns a sorted version of it based on the values. You can choose whether \n",
    "     #to sort in ascending or descending order\n",
    "\n",
    "input_dict = {'a': 5, 'b': 2, 'c': 8, 'd': 3}\n",
    "sorted_dict = dict(sorted(input_dict.items(), key=lambda item: item[1]))\n",
    "print(\"Sorted Dictionary (Ascending Order):\", sorted_dict)\n"
   ]
  },
  {
   "cell_type": "code",
   "execution_count": 12,
   "id": "bbfea4fa-5900-4146-9cba-ac8b744aadfc",
   "metadata": {},
   "outputs": [
    {
     "name": "stdout",
     "output_type": "stream",
     "text": [
      "Original Dictionary: {'a': 1, 'b': 2, 'c': 1, 'd': 3}\n",
      "Inverted Dictionary: {1: ['a', 'c'], 2: ['b'], 3: ['d']}\n"
     ]
    }
   ],
   "source": [
    "# 35. Write a code that inverts a dictionary, swapping keys and values. Ensure that the inverted dictionary \n",
    "      #correctly handles cases where multiple keys have the same value by storing the keys as a list in the inverted dictionary.\n",
    "    \n",
    "\n",
    "input_dict = {'a': 1, 'b': 2, 'c': 1, 'd': 3}\n",
    "inverted_dict = {}\n",
    "\n",
    "for key, value in input_dict.items():\n",
    "    if value not in inverted_dict:\n",
    "        inverted_dict[value] = [key]\n",
    "    else:\n",
    "        inverted_dict[value].append(key)\n",
    "\n",
    "print(\"Original Dictionary:\", input_dict)\n",
    "print(\"Inverted Dictionary:\", inverted_dict)\n"
   ]
  },
  {
   "cell_type": "code",
   "execution_count": null,
   "id": "bd3f6cdd-a9c3-4efe-84a8-1325271e257c",
   "metadata": {},
   "outputs": [],
   "source": []
  },
  {
   "cell_type": "code",
   "execution_count": null,
   "id": "9525416e-3f71-4927-a549-8c889e64b4e3",
   "metadata": {},
   "outputs": [],
   "source": []
  }
 ],
 "metadata": {
  "kernelspec": {
   "display_name": "Python 3 (ipykernel)",
   "language": "python",
   "name": "python3"
  },
  "language_info": {
   "codemirror_mode": {
    "name": "ipython",
    "version": 3
   },
   "file_extension": ".py",
   "mimetype": "text/x-python",
   "name": "python",
   "nbconvert_exporter": "python",
   "pygments_lexer": "ipython3",
   "version": "3.10.8"
  }
 },
 "nbformat": 4,
 "nbformat_minor": 5
}

{
 "cells": [
  {
   "cell_type": "markdown",
   "id": "fe45328c-c85e-4172-8c33-8d329185cf10",
   "metadata": {},
   "source": [
    "#1. Explain the importance of Functions.\n",
    "\n",
    "*Organization: Functions break code into smaller, manageable pieces.\n",
    "*Reusability: Use functions multiple times without rewriting code.\n",
    "*Simplicity: Focus on single tasks to simplify complex problems.\n",
    "*Maintenance: Easier updates and fixes by modifying one place.\n",
    "*Collaboration: Multiple programmers can work on different parts simultaneously.\n"
   ]
  },
  {
   "cell_type": "code",
   "execution_count": 3,
   "id": "b832a866-261d-4233-af70-244e5fe736c1",
   "metadata": {},
   "outputs": [
    {
     "name": "stdout",
     "output_type": "stream",
     "text": [
      "Hello  Welcome suhas\n"
     ]
    }
   ],
   "source": [
    "#2. Write a basic function to greet students.\n",
    "\n",
    "#Defineing a Function.\n",
    "def greet(name):\n",
    "    print(f\"Hello  Welcome {name}\")\n",
    "\n",
    "#Giving the Input.\n",
    "greet(\"suhas\")"
   ]
  },
  {
   "cell_type": "markdown",
   "id": "e8ec14e0-2bf7-4afc-ba47-837c56196f71",
   "metadata": {},
   "source": [
    "#3. What is the difference between print and return statements?\n",
    "\n",
    "'Print' Statement.\n",
    "*Purpose: Displays output to the console.\n",
    "*Usage: Used for providing information to the user or for debugging purposes.\n",
    "\n",
    "'Return' Statement.\n",
    "*Purpose: Sends a value back to the caller of the function.\n",
    "*Usage: Used to pass the result of a function's computation to the place where the function was called."
   ]
  },
  {
   "cell_type": "markdown",
   "id": "7ce7d994-1014-4c35-9d2f-5151c3add402",
   "metadata": {},
   "source": [
    "#4. What are *args and **kwargs.\n",
    "\n",
    "*args\n",
    "Purpose: Allows a function to accept any number of positional arguments.\n",
    "\n",
    "**kwargs\n",
    "Purpose: Allows a function to accept any number of keyword arguments."
   ]
  },
  {
   "cell_type": "markdown",
   "id": "0dfb5c3f-f2f7-4e9d-bb33-6a21e99c9626",
   "metadata": {},
   "source": [
    "#5. Explain the iterator function.\n",
    "\n",
    "An iterator in Python is an object that enables traversing through elements of a collection (like a list or tuple) sequentially. Iterators implement __iter__() to return the iterator object itself and __next__() to return the next element. When no more elements are available, __next__() raises a StopIteration exception. You can create custom iterators by defining these two methods in a class. Iterators provide a memory-efficient way to loop through data, especially useful for large datasets. Here's a simple example:"
   ]
  },
  {
   "cell_type": "code",
   "execution_count": 11,
   "id": "d4158172-ad73-49ed-80bd-7a2be6f19603",
   "metadata": {},
   "outputs": [
    {
     "name": "stdout",
     "output_type": "stream",
     "text": [
      "1\n",
      "4\n",
      "9\n",
      "16\n",
      "25\n"
     ]
    }
   ],
   "source": [
    "#6.  Write a code that generates the squares of numbers from 1 to n using a generator\n",
    "\n",
    "def generate_squares(n):\n",
    "    for i in range(1, n + 1):\n",
    "        yield i * i\n",
    "\n",
    "# Example usage:\n",
    "n = 5\n",
    "for square in generate_squares(n):\n",
    "    print(square)\n"
   ]
  },
  {
   "cell_type": "code",
   "execution_count": 17,
   "id": "ef5e57f8-530e-40b8-a1d3-693a09554248",
   "metadata": {},
   "outputs": [
    {
     "name": "stdout",
     "output_type": "stream",
     "text": [
      "Palindromic numbers up to 50:\n",
      "1\n",
      "2\n",
      "3\n",
      "4\n",
      "5\n",
      "6\n",
      "7\n",
      "8\n",
      "9\n",
      "11\n",
      "22\n",
      "33\n",
      "44\n"
     ]
    }
   ],
   "source": [
    "#7. Write a code that generates palindromic numbers up to n using a generator.\n",
    "\n",
    "def is_palindrome(number):\n",
    "    # Convert number to string and check if it reads the same forwards and backwards\n",
    "    return str(number) == str(number)[::-1]\n",
    "\n",
    "def generate_palindromes(n):\n",
    "    for num in range(1, n + 1):\n",
    "        if is_palindrome(num):\n",
    "            yield num\n",
    "            \n",
    "n = 50\n",
    "palindrome_gen = generate_palindromes(n)\n",
    "\n",
    "print(f\"Palindromic numbers up to {n}:\")\n",
    "for palindrome in palindrome_gen:\n",
    "    print(palindrome)\n"
   ]
  },
  {
   "cell_type": "code",
   "execution_count": 32,
   "id": "d0b7ccfe-25cf-48c6-a796-c37035574abc",
   "metadata": {},
   "outputs": [
    {
     "name": "stdout",
     "output_type": "stream",
     "text": [
      "Even numbers from 2 to 23:\n",
      "2\n",
      "4\n",
      "6\n",
      "8\n",
      "10\n",
      "12\n",
      "14\n",
      "16\n",
      "18\n",
      "20\n",
      "22\n"
     ]
    }
   ],
   "source": [
    "#8. Write a code that generates even numbers from 2 to n using a generator.\n",
    "\n",
    "def generate_even_numbers(n):\n",
    "    for num in range(2, n + 1, 2):\n",
    "        yield num\n",
    "\n",
    "# Example usage:\n",
    "n = 23\n",
    "even_gen = generate_even_numbers(n)\n",
    "\n",
    "print(f\"Even numbers from 2 to {n}:\")\n",
    "for even_num in even_gen:\n",
    "    print(even_num)\n",
    "\n",
    "    "
   ]
  },
  {
   "cell_type": "code",
   "execution_count": 36,
   "id": "7a355c4c-48d3-420c-8817-2da6b6867117",
   "metadata": {},
   "outputs": [
    {
     "name": "stdout",
     "output_type": "stream",
     "text": [
      "1\n",
      "4\n",
      "9\n",
      "16\n",
      "25\n"
     ]
    }
   ],
   "source": [
    "#9. Write a code that generates powers of two up to n using a generato.\n",
    "\n",
    "def power(n):\n",
    "    for num in range(1,n+1):\n",
    "        yield num**2\n",
    "        \n",
    "n=5\n",
    "power_num=power(n)\n",
    "\n",
    "for result in power_num:\n",
    "    print(result)"
   ]
  },
  {
   "cell_type": "code",
   "execution_count": 39,
   "id": "f338161b-e2b1-4a6a-abd6-f1391f149823",
   "metadata": {},
   "outputs": [
    {
     "name": "stdout",
     "output_type": "stream",
     "text": [
      "Prime numbers up to 10:\n",
      "2\n",
      "3\n",
      "5\n",
      "7\n"
     ]
    }
   ],
   "source": [
    "#10.  Write a code that generates prime numbers up to n using a generator.\n",
    "\n",
    "def generate_primes(n):\n",
    "    for num in range(2, n + 1):\n",
    "        if all(num % i != 0 for i in range(2, int(num**0.5) + 1)):\n",
    "            yield num\n",
    "            \n",
    "n = 10\n",
    "prime_gen = generate_primes(n)\n",
    "\n",
    "print(f\"Prime numbers up to {n}:\")\n",
    "for prime_num in prime_gen:\n",
    "    print(prime_num)\n"
   ]
  },
  {
   "cell_type": "code",
   "execution_count": 57,
   "id": "ee75d3b5-5adf-4767-ba85-a4ec14a112f6",
   "metadata": {},
   "outputs": [
    {
     "data": {
      "text/plain": [
       "10"
      ]
     },
     "execution_count": 57,
     "metadata": {},
     "output_type": "execute_result"
    }
   ],
   "source": [
    "#11. Write a code that uses a lambda function to calculate the sum of two numbers.\n",
    "a,b=4,6\n",
    "add = (lambda a,b:a+b)\n",
    "add(a,b)"
   ]
  },
  {
   "cell_type": "code",
   "execution_count": 48,
   "id": "5a5e160f-2eca-475c-9e87-4cc9f34f6016",
   "metadata": {},
   "outputs": [
    {
     "data": {
      "text/plain": [
       "25"
      ]
     },
     "execution_count": 48,
     "metadata": {},
     "output_type": "execute_result"
    }
   ],
   "source": [
    "#12. Write a code that uses a lambda function to calculate the square of a given number\n",
    "\n",
    "num=5\n",
    "square=(lambda x:x**2)\n",
    "\n",
    "square(5)"
   ]
  },
  {
   "cell_type": "code",
   "execution_count": 51,
   "id": "8592048e-e2c3-4869-8de9-946482595d6e",
   "metadata": {},
   "outputs": [
    {
     "data": {
      "text/plain": [
       "'odd'"
      ]
     },
     "execution_count": 51,
     "metadata": {},
     "output_type": "execute_result"
    }
   ],
   "source": [
    "#13. Write a code that uses a lambda function to check whether a given number is even or odd.\n",
    "\n",
    "num=20\n",
    "even_odd = (lambda x: \"even\" if x%2 ==0 else \"odd\")\n",
    "\n",
    "even_odd(21)"
   ]
  },
  {
   "cell_type": "code",
   "execution_count": 56,
   "id": "a052cf46-14b9-4c2f-806b-2cb10ff2a45b",
   "metadata": {},
   "outputs": [
    {
     "data": {
      "text/plain": [
       "'Suhas H S'"
      ]
     },
     "execution_count": 56,
     "metadata": {},
     "output_type": "execute_result"
    }
   ],
   "source": [
    "#15. Write a code that uses a lambda function to concatenate two strings.\n",
    "\n",
    "a,b=\"Suhas \",\"H S\"\n",
    "concat=(lambda a,b: a+b)\n",
    "concat(a,b)"
   ]
  },
  {
   "cell_type": "code",
   "execution_count": 80,
   "id": "fb1d3753-8e6a-4a22-a10c-c1a9e82b1dd5",
   "metadata": {},
   "outputs": [
    {
     "data": {
      "text/plain": [
       "94"
      ]
     },
     "execution_count": 80,
     "metadata": {},
     "output_type": "execute_result"
    }
   ],
   "source": [
    "#16. Write a code that uses a lambda function to find the maximum of three given numbers.\n",
    "\n",
    "a,b,c = 94,56,78\n",
    "maxi = (lambda a,b,c : max(a,b,c))\n",
    "maxi(a,b,c)"
   ]
  },
  {
   "cell_type": "code",
   "execution_count": 71,
   "id": "a7aabe3b-49ac-42a4-920f-60de056fd337",
   "metadata": {},
   "outputs": [
    {
     "name": "stdout",
     "output_type": "stream",
     "text": [
      "[4, 16, 36]\n"
     ]
    }
   ],
   "source": [
    "#17. Write a code that generates the squares of even numbers from a given list.\n",
    "lis=[1,2,3,4,5,6]\n",
    "even_sq=[]\n",
    "for i in lis:\n",
    "    if i%2 ==0:\n",
    "        even_sq.append(i**2)\n",
    "print(even_sq)    "
   ]
  },
  {
   "cell_type": "code",
   "execution_count": 72,
   "id": "63b5bfbb-df7f-41b0-8bd3-2c842844e229",
   "metadata": {},
   "outputs": [
    {
     "name": "stdout",
     "output_type": "stream",
     "text": [
      "The product of positive numbers in the list is: 30240\n"
     ]
    }
   ],
   "source": [
    "#18. Write a code that calculates the product of positive numbers from a given list.\n",
    "\n",
    "numbers = [2, -3, 4, -5, 6, 7, -8, 9, 10]\n",
    "positive_product = 1\n",
    "\n",
    "# Calculate the product of positive numbers\n",
    "for num in numbers:\n",
    "    if num > 0:\n",
    "        positive_product *= num\n",
    "\n",
    "print(f\"The product of positive numbers in the list is: {positive_product}\")\n"
   ]
  },
  {
   "cell_type": "code",
   "execution_count": 73,
   "id": "d03541ad-cd8d-4bfc-bd62-a244e19aaaf5",
   "metadata": {},
   "outputs": [
    {
     "name": "stdout",
     "output_type": "stream",
     "text": [
      "[2, 6, 10]\n"
     ]
    }
   ],
   "source": [
    "#19.  Write a code that doubles the values of odd numbers from a given list.\n",
    "\n",
    "num = [1,2,3,4,5,6]\n",
    "odd_double=[]\n",
    "for i in lis:\n",
    "    if i%2 !=0:\n",
    "        odd_double.append(i+i)\n",
    "print(odd_double)\n"
   ]
  },
  {
   "cell_type": "code",
   "execution_count": 74,
   "id": "0a07ed41-da4a-49cf-8eb1-959310f6eb2c",
   "metadata": {},
   "outputs": [
    {
     "name": "stdout",
     "output_type": "stream",
     "text": [
      "The sum of cubes of numbers in the list is: 225\n"
     ]
    }
   ],
   "source": [
    "#20. Write a code that calculates the sum of cubes of numbers from a given list.\n",
    "\n",
    "numbers = [1, 2, 3, 4, 5]\n",
    "\n",
    "# Calculate the sum of cubes of numbers\n",
    "sum_of_cubes = sum(num**3 for num in numbers)\n",
    "\n",
    "print(f\"The sum of cubes of numbers in the list is: {sum_of_cubes}\")\n"
   ]
  },
  {
   "cell_type": "code",
   "execution_count": 75,
   "id": "8fc6dbdb-cec5-4e1a-bc57-464a4cddc5cc",
   "metadata": {},
   "outputs": [
    {
     "name": "stdout",
     "output_type": "stream",
     "text": [
      "The prime numbers in the list are: [2, 3, 5, 7]\n"
     ]
    }
   ],
   "source": [
    "#21. Write a code that filters out prime numbers from a given list.\n",
    "\n",
    "# Function to check if a number is prime\n",
    "def is_prime(num):\n",
    "    if num <= 1:\n",
    "        return False\n",
    "    if num == 2:\n",
    "        return True  # 2 is a prime number\n",
    "    if num % 2 == 0:\n",
    "        return False  # Even numbers greater than 2 are not prime\n",
    "    \n",
    "    # Check for factors from 3 up to the square root of num\n",
    "    sqrt_num = int(num ** 0.5) + 1\n",
    "    for i in range(3, sqrt_num, 2):\n",
    "        if num % i == 0:\n",
    "            return False\n",
    "    return True\n",
    "\n",
    "# Sample list of numbers\n",
    "numbers = [2, 3, 4, 5, 6, 7, 8, 9, 10]\n",
    "\n",
    "# Filter out prime numbers\n",
    "prime_numbers = [num for num in numbers if is_prime(num)]\n",
    "\n",
    "# Print the prime numbers\n",
    "print(f\"The prime numbers in the list are: {prime_numbers}\")\n"
   ]
  },
  {
   "cell_type": "code",
   "execution_count": 76,
   "id": "796d5957-bcae-4ea2-bd82-0cc2d101c992",
   "metadata": {},
   "outputs": [
    {
     "data": {
      "text/plain": [
       "10"
      ]
     },
     "execution_count": 76,
     "metadata": {},
     "output_type": "execute_result"
    }
   ],
   "source": [
    "#22.  Write a code that uses a lambda function to calculate the sum of two numbers.\n",
    "\n",
    "a,b=4,6\n",
    "add = (lambda a,b:a+b)\n",
    "add(a,b)"
   ]
  },
  {
   "cell_type": "code",
   "execution_count": 77,
   "id": "c6631c49-ddce-4cf2-8dbd-f6d7bb909b55",
   "metadata": {},
   "outputs": [
    {
     "data": {
      "text/plain": [
       "25"
      ]
     },
     "execution_count": 77,
     "metadata": {},
     "output_type": "execute_result"
    }
   ],
   "source": [
    "#23. Write a code that uses a lambda function to calculate the square of a given number\n",
    "\n",
    "num=5\n",
    "square=(lambda x:x**2)\n",
    "\n",
    "square(5)"
   ]
  },
  {
   "cell_type": "code",
   "execution_count": 78,
   "id": "d7ff91be-bc30-4b81-9ea7-ae35d47f15b2",
   "metadata": {},
   "outputs": [
    {
     "data": {
      "text/plain": [
       "'odd'"
      ]
     },
     "execution_count": 78,
     "metadata": {},
     "output_type": "execute_result"
    }
   ],
   "source": [
    "#24. Write a code that uses a lambda function to check whether a given number is even or odd.\n",
    "\n",
    "num=20\n",
    "even_odd = (lambda x: \"even\" if x%2 ==0 else \"odd\")\n",
    "\n",
    "even_odd(21)"
   ]
  },
  {
   "cell_type": "code",
   "execution_count": 82,
   "id": "7f6c6697-8bbe-4ac4-a69b-18f74bc51281",
   "metadata": {},
   "outputs": [
    {
     "data": {
      "text/plain": [
       "'Suhas H S'"
      ]
     },
     "execution_count": 82,
     "metadata": {},
     "output_type": "execute_result"
    }
   ],
   "source": [
    "#25. Write a code that uses a lambda function to concatenate two strings.\n",
    "\n",
    "a,b=\"Suhas \",\"H S\"\n",
    "concat=(lambda a,b: a+b)\n",
    "concat(a,b)"
   ]
  },
  {
   "cell_type": "code",
   "execution_count": 83,
   "id": "a68b171b-af1d-4e9a-a463-e43d603a247e",
   "metadata": {},
   "outputs": [
    {
     "data": {
      "text/plain": [
       "94"
      ]
     },
     "execution_count": 83,
     "metadata": {},
     "output_type": "execute_result"
    }
   ],
   "source": [
    "#26. Write a code that uses a lambda function to find the maximum of three given numbers.\n",
    "\n",
    "a,b,c = 94,56,78\n",
    "maxi = (lambda a,b,c : max(a,b,c))\n",
    "maxi(a,b,c)"
   ]
  },
  {
   "cell_type": "markdown",
   "id": "51d0143a-98c6-4b83-8a04-0fa96de39610",
   "metadata": {},
   "source": [
    "#27. What is encapsulation in OOP?\n",
    "\n",
    "Encapsulation in Object-Oriented Programming (OOP) is the concept of bundling data (attributes) and methods (functions) that operate on the data into a single unit called a class. It restricts direct access to some of an object's components, which is a means of preventing accidental interference and misuse of the data. This is typically achieved using access modifiers like private, protected, and public. Encapsulation promotes modularity and maintainability in code by hiding the internal state and requiring all interactions to be performed through well-defined interfaces. It also allows an object to control its own state by providing methods for data access and modification."
   ]
  },
  {
   "cell_type": "markdown",
   "id": "bfba5f72-300b-45af-be85-7ebffe936947",
   "metadata": {},
   "source": [
    "#28. Explain the use of access modifiers in Python classes\n",
    "\n",
    "Access modifiers in Python classes are used to control the accessibility of class attributes and methods. They help enforce encapsulation by restricting direct access to certain components of a class. Python supports three types of access modifiers:\n",
    "\n",
    "*Public: Attributes and methods that are accessible from outside the class. By default, all members of a class are public\n",
    "*Protected: Attributes and methods that are intended to be accessible only within the class and its subclasses. In Python, these are indicated by a single underscore prefix (_).\n",
    "*Private: Attributes and methods that are intended to be accessible only within the class itself. These are indicated by a double underscore prefix (__). Python performs name mangling to make it harder to access these attributes and methods from outside the class."
   ]
  },
  {
   "cell_type": "markdown",
   "id": "1d39cf35-24e2-4299-8fb7-e9533cac1b71",
   "metadata": {},
   "source": [
    "#29. What is inheritance in OOP?\n",
    "\n",
    "Inheritance in Object-Oriented Programming (OOP) is a mechanism where a new class (called a subclass or derived class) inherits attributes and methods from an existing class (called a superclass or base class). It allows the subclass to reuse, extend, or modify the behavior defined in the superclass. Inheritance promotes code reusability and establishes a natural hierarchy between classes. For instance, a Dog class can inherit from an Animal class, gaining all its properties while adding specific dog behaviors. This concept supports polymorphism, where a subclass can be treated as an instance of its superclass."
   ]
  },
  {
   "cell_type": "markdown",
   "id": "260d1b4e-d662-4e94-87ce-30402de4521f",
   "metadata": {},
   "source": [
    "#30. Define polymorphism in OOP?\n",
    "\n",
    "Polymorphism in Object-Oriented Programming (OOP) is the ability of different objects to respond to the same method call in different ways. It allows methods to be used interchangeably on objects of different classes, provided they share the same interface or method name. This can be achieved through method overriding (where a subclass provides a specific implementation of a method already defined in its superclass) and method overloading (defining multiple methods with the same name but different parameters). Polymorphism enhances flexibility and maintainability in code, as it enables a single interface to manage entities of different types."
   ]
  },
  {
   "cell_type": "markdown",
   "id": "894cbe29-efdd-4602-b745-49387477837c",
   "metadata": {},
   "source": [
    "#31. Explain method overriding in Python.\n",
    "\n",
    "Method overriding in Python occurs when a subclass provides a specific implementation for a method that is already defined in its superclass. The overridden method in the subclass has the same name, parameters, and return type as the method in the superclass. This allows the subclass to provide its own behavior while still inheriting the structure and attributes of the superclass."
   ]
  },
  {
   "cell_type": "code",
   "execution_count": 11,
   "id": "5c54e77b-92f4-4e8f-934e-b8407139311f",
   "metadata": {},
   "outputs": [],
   "source": [
    "#32. Define a parent class Animal with a method make_sound that prints \"Generic animal sound\". Create a \n",
    "#    child class Dog inheriting from Animal with a method make_sound that prints \"Woof!\"\n",
    "\n",
    "class Animal:\n",
    "    def make_sound(self):\n",
    "        print(\"Generic animal sound\")\n",
    "class Dog(Animal):\n",
    "    def make_sound(self):\n",
    "        print(\"Woof!\")   "
   ]
  },
  {
   "cell_type": "code",
   "execution_count": 1,
   "id": "e730d5af-9ce9-4e3f-9136-5c8c263871da",
   "metadata": {},
   "outputs": [
    {
     "name": "stdout",
     "output_type": "stream",
     "text": [
      "Animal moves\n",
      "Dog runs\n"
     ]
    }
   ],
   "source": [
    "#33.   Define a method move in the Animal class that prints \"Animal moves\". Override the move method in the  Dog class to \n",
    "#       print Dog class to print \"Dog runs.\n",
    "\n",
    "class Animal:\n",
    "    def move(self):\n",
    "        print(\"Animal moves\")\n",
    "\n",
    "class Dog(Animal):\n",
    "    def move(self):\n",
    "        print(\"Dog runs\")\n",
    "\n",
    "# Creating instances of each class\n",
    "animal = Animal()\n",
    "dog = Dog()\n",
    "\n",
    "# Calling the move method\n",
    "animal.move()  # Output: Animal moves\n",
    "dog.move()     # Output: Dog runs"
   ]
  },
  {
   "cell_type": "code",
   "execution_count": 10,
   "id": "3eb3a575-3b50-44db-9e4e-4ae3fd7f7043",
   "metadata": {},
   "outputs": [
    {
     "name": "stdout",
     "output_type": "stream",
     "text": [
      "Giving birth to live young\n",
      "Dog runs\n"
     ]
    }
   ],
   "source": [
    "#34.    Create a class Mammal with a method reproduce that prints \"Giving birth to live young.\" Create a class \n",
    "#       DogMammal inheriting from both Dog and Mammal.\n",
    "\n",
    "class Mammal:\n",
    "    def reproduce(self):\n",
    "        print(\"Giving birth to live young\")\n",
    "        \n",
    "class DogMammal(Mammal,Dog):\n",
    "    def nul(self):\n",
    "        print(\"nothing\")\n",
    "        \n",
    "dm=DogMammal()\n",
    "dm.reproduce()\n",
    "dm.move()"
   ]
  },
  {
   "cell_type": "code",
   "execution_count": 14,
   "id": "c60672a0-e306-4733-9c3d-aa1c2b44be77",
   "metadata": {},
   "outputs": [
    {
     "name": "stdout",
     "output_type": "stream",
     "text": [
      "Bark!\n"
     ]
    }
   ],
   "source": [
    "#35.  Create a class GermanShepherd inheriting from Dog and override the make_sound method to print \"Bark!\".\n",
    "\n",
    "class GermanShepherd(Dog):\n",
    "    def make_sound(self):\n",
    "        print(\"Bark!\")\n",
    "    \n",
    "gs= GermanShepherd()\n",
    "gs.make_sound()"
   ]
  },
  {
   "cell_type": "code",
   "execution_count": 32,
   "id": "fddc8f85-70c9-4dcb-b264-7059ecca2841",
   "metadata": {},
   "outputs": [
    {
     "name": "stdout",
     "output_type": "stream",
     "text": [
      "Species: Lion, Habitat: Savannah\n",
      "Name:Dolly, Breed:Golden Retriever\n"
     ]
    }
   ],
   "source": [
    "#36. Define constructors in both the Animal and Dog classes with different initialization parameters.\n",
    "\n",
    "class Animal:\n",
    "    def __init__(self, species, habitat):\n",
    "        self.species = species\n",
    "        self.habitat = habitat\n",
    "\n",
    "    def display_info(self):\n",
    "        print(f\"Species: {self.species}, Habitat: {self.habitat}\")\n",
    "        \n",
    "class Dog:\n",
    "    def __init__(self, name, breed):\n",
    "        self.name = name\n",
    "        self.breed = breed\n",
    "    def display_info1(self):\n",
    "        print(f\"Name:{self.name}, Breed:{self.breed}\")\n",
    "        \n",
    "            \n",
    "# Creating instances of each class\n",
    "generic_animal = Animal(\"Lion\", \"Savannah\")\n",
    "generic_animal.display_info()\n",
    "\n",
    "dog = Dog( \"Dolly\",\"Golden Retriever\")\n",
    "dog.display_info1()"
   ]
  },
  {
   "cell_type": "markdown",
   "id": "4c6fa42a-2c6a-4fb4-b4c1-0358c1743d7b",
   "metadata": {},
   "source": [
    "#37. What is abstraction in Python? How is it implemented?\n",
    "\n",
    "Abstraction in Python is the concept of hiding the complex implementation details of an object and exposing only the necessary features and functionalities. It allows users to interact with an object at a higher level without needing to understand the internal workings. This can be implemented using abstract classes and methods, which are provided by the abc (Abstract Base Class) module in Python."
   ]
  },
  {
   "cell_type": "markdown",
   "id": "70304880-8d58-4938-9c21-4f3f70bd56f0",
   "metadata": {},
   "source": [
    "#38. Explain the importance of abstraction in object-oriented programming.\n",
    "\n",
    "Reduces Complexity: By hiding the complex implementation details, abstraction helps in reducing the overall complexity of the system.\n",
    "Enhances Maintainability: Since the internal implementation can change without affecting the external interface, it makes the system easier to maintain and update.\n",
    "Improves Reusability: Abstraction allows for the creation of reusable components, as the same abstract class can be inherited by different subclasses with specific implementations.\n",
    "Increases Security: By exposing only the necessary parts of an object, abstraction helps in protecting the internal state of the object from unintended or unauthorized access."
   ]
  },
  {
   "cell_type": "markdown",
   "id": "c4f09401-3810-41ef-9f84-d81cc4a0dd13",
   "metadata": {},
   "source": [
    "#39. How are abstract methods different from regular methods in Python?\n",
    "\n",
    "Abstract Methods:\n",
    "\n",
    "Must be defined in an abstract class using the @abstractmethod decorator.\n",
    "Do not contain any implementation; they only define a method signature.\n",
    "Must be implemented by any subclass that inherits the abstract class.\n",
    "Cannot be instantiated directly; attempting to do so will raise a TypeError.\n",
    "\n",
    "Regular Methods:\n",
    "\n",
    "Can be defined in any class, including abstract classes.\n",
    "Contain a complete implementation.\n",
    "Are not required to be overridden by subclasses, though they can be if needed.\n",
    "Allow for direct instantiation of the class in which they are defined."
   ]
  },
  {
   "cell_type": "markdown",
   "id": "f4e070b1-75f8-4ccd-9f7a-d5f3878d0809",
   "metadata": {},
   "source": [
    "#40. How can you achieve abstraction using interfaces in Python?\n",
    "\n",
    "In Python, interfaces can be achieved through the use of abstract base classes (ABCs). An interface typically defines a set of methods that implementing classes must provide. While Python does not have a built-in interface keyword, abstract base classes serve a similar purpose."
   ]
  },
  {
   "cell_type": "code",
   "execution_count": 1,
   "id": "4132ede1-7011-4402-b79b-d0bf469d9371",
   "metadata": {},
   "outputs": [
    {
     "name": "stdout",
     "output_type": "stream",
     "text": [
      "Car engine started\n",
      "Car is driving\n",
      "Car engine stopped\n",
      "Motorcycle engine started\n",
      "Motorcycle is driving\n",
      "Motorcycle engine stopped\n"
     ]
    }
   ],
   "source": [
    "#41. Can you provide an example of how abstraction can be utilized to create a common interface for a group \n",
    "#    of related classes in Python.\n",
    "\n",
    "from abc import ABC, abstractmethod\n",
    "\n",
    "class Vehicle(ABC):\n",
    "    @abstractmethod\n",
    "    def start_engine(self):\n",
    "        pass\n",
    "    @abstractmethod\n",
    "    def stop_engine(self):\n",
    "        pass\n",
    "    @abstractmethod\n",
    "    def drive(self):\n",
    "        pass\n",
    "\n",
    "class Car(Vehicle):\n",
    "    def start_engine(self):\n",
    "        print(\"Car engine started\")\n",
    "    def stop_engine(self):\n",
    "        print(\"Car engine stopped\")\n",
    "    def drive(self):\n",
    "        print(\"Car is driving\")\n",
    "\n",
    "class Motorcycle(Vehicle):\n",
    "    def start_engine(self):\n",
    "        print(\"Motorcycle engine started\")\n",
    "    def stop_engine(self):\n",
    "        print(\"Motorcycle engine stopped\")\n",
    "    def drive(self):\n",
    "        print(\"Motorcycle is driving\")\n",
    "\n",
    "# Using the common interface\n",
    "def test_vehicle(vehicle: Vehicle):\n",
    "    vehicle.start_engine()\n",
    "    vehicle.drive()\n",
    "    vehicle.stop_engine()\n",
    "\n",
    "# Create instances of different vehicles and test them\n",
    "for vehicle in (Car(), Motorcycle()):\n",
    "    test_vehicle(vehicle)\n"
   ]
  },
  {
   "cell_type": "markdown",
   "id": "398b7911-5ce2-44f2-9ece-8d0301c98e9a",
   "metadata": {},
   "source": [
    "#42. How does Python achieve polymorphism through method overriding. \n",
    "\n",
    "Python achieves polymorphism through method overriding by allowing a subclass to provide a specific implementation of a method that is already defined in its superclass. When a method in a subclass has the same name and parameters as a method in the superclass, the subclass method overrides the superclass method. This enables objects of different classes to be treated uniformly based on the common method interface. At runtime, the appropriate method is called based on the actual object's class, demonstrating polymorphism. This allows for dynamic and flexible code that can handle various object types through a consistent interface."
   ]
  },
  {
   "cell_type": "code",
   "execution_count": 2,
   "id": "a64398c7-0684-409f-904e-1aca98bc97d8",
   "metadata": {},
   "outputs": [
    {
     "name": "stdout",
     "output_type": "stream",
     "text": [
      "Some generic animal sound\n",
      "Bark\n"
     ]
    }
   ],
   "source": [
    "#43. Define a base class with a method and a subclass that overrides the method.\n",
    "\n",
    "class Animal:\n",
    "    def sound(self):\n",
    "        return \"Some generic animal sound\"\n",
    "\n",
    "class Dog(Animal):\n",
    "    def sound(self):\n",
    "        return \"Bark\"\n",
    "\n",
    "# Creating instances of each class\n",
    "generic_animal = Animal()\n",
    "dog = Dog()\n",
    "\n",
    "# Calling the overridden method\n",
    "print(generic_animal.sound())  # Output: Some generic animal sound\n",
    "print(dog.sound())             # Output: Bark\n"
   ]
  },
  {
   "cell_type": "code",
   "execution_count": 3,
   "id": "bd0dc972-ab7b-4c99-b411-0dcc5218b440",
   "metadata": {},
   "outputs": [
    {
     "name": "stdout",
     "output_type": "stream",
     "text": [
      "Some generic animal sound\n",
      "Bark\n",
      "Meow\n",
      "Moo\n"
     ]
    }
   ],
   "source": [
    "#44. Define a base class and multiple subclasses with overridden methods.\n",
    "\n",
    "class Animal:\n",
    "    def sound(self):\n",
    "        return \"Some generic animal sound\"\n",
    "\n",
    "class Dog(Animal):\n",
    "    def sound(self):\n",
    "        return \"Bark\"\n",
    "class Cat(Animal):\n",
    "    def sound(self):\n",
    "        return \"Meow\"\n",
    "class Cow(Animal):\n",
    "    def sound(self):\n",
    "        return \"Moo\"\n",
    "\n",
    "# Creating instances of each class\n",
    "generic_animal = Animal()\n",
    "dog = Dog()\n",
    "cat = Cat()\n",
    "cow = Cow()\n",
    "\n",
    "# Calling the overridden methods\n",
    "print(generic_animal.sound())  \n",
    "print(dog.sound())             \n",
    "print(cat.sound())             w\n",
    "print(cow.sound())             \n"
   ]
  },
  {
   "cell_type": "markdown",
   "id": "69f4a80e-358a-470e-9862-e80819437944",
   "metadata": {},
   "source": [
    "#45. How does polymorphism improve code readability and reusability?\n",
    "\n",
    "Polymorphism improves code readability and reusability by allowing objects of different classes to be treated uniformly through a common interface. This enables the same method to work on different objects, simplifying the code structure. It reduces the need for multiple conditional statements, making the code cleaner and easier to understand. By using polymorphism, new classes can be added with minimal changes to the existing code, enhancing reusability and flexibility. This leads to a more maintainable and scalable codebase."
   ]
  },
  {
   "cell_type": "markdown",
   "id": "97166def-3962-4ea6-84d4-d414294d58ce",
   "metadata": {},
   "source": [
    "#46. Describe how Python supports polymorphism with duck typing.\n",
    "\n",
    "\n",
    "Python supports polymorphism with duck typing by focusing on whether an object can perform a given operation, rather than on its specific type. If an object implements the required methods, it can be used interchangeably, regardless of its class. This principle allows for flexible and dynamic code, as objects are assessed based on their behavior (\"If it looks like a duck and quacks like a duck, it must be a duck\"). Duck typing simplifies interfaces and promotes code reuse, as functions and methods can operate on a wider variety of objects."
   ]
  },
  {
   "cell_type": "markdown",
   "id": "c7b6dba5-fe59-42c0-9b57-68c4f3436c01",
   "metadata": {},
   "source": [
    "#47. How do you achieve encapsulation in Python?\n",
    "\n",
    "Encapsulation in Python is achieved by using private attributes and methods, typically designated with a leading underscore (_). Here’s how encapsulation is implemented:\n",
    "\n",
    "Private Attributes: Declare attributes as private by prefixing them with an underscore _.\n",
    "\n",
    "Getter and Setter Methods: Provide getter and setter methods to access and modify private attributes, enforcing controlled access.\n",
    "\n",
    "Property Decorators: Use @property decorator to define getter methods and @<attribute_name>.setter decorator for setter methods, ensuring encapsulation.\n",
    "\n",
    "Name Mangling: For stronger encapsulation, use double leading underscores __ (name mangling) to make attributes truly private.\\\n",
    "\n",
    "\n"
   ]
  },
  {
   "cell_type": "markdown",
   "id": "edd8b3ef-c3b3-42f5-8a57-d085348217bc",
   "metadata": {},
   "source": [
    "#48. Can encapsulation be bypassed in Python? If so, how?\n",
    "\n",
    "Yes, encapsulation can be bypassed in Python to some extent due to its dynamic nature:\n",
    "\n",
    "Name Mangling: Python allows access to private attributes using name mangling (__attribute becomes _ClassName__attribute).\n",
    "Direct Access: Python does not enforce strict access control; attributes prefixed with a single underscore (_attribute) are conventionally considered private, but they can still be accessed directly.\n",
    "Introspection: Using introspection features like getattr() and setattr(), private attributes can be accessed and modified."
   ]
  },
  {
   "cell_type": "code",
   "execution_count": 1,
   "id": "ff888d06-b84a-4d5a-9189-d8401cce6ff6",
   "metadata": {},
   "outputs": [
    {
     "name": "stdout",
     "output_type": "stream",
     "text": [
      "Initial balance: 1000\n",
      "After deposit: 1500\n",
      "After withdrawal: 1300\n"
     ]
    }
   ],
   "source": [
    "#49. Implement a class BankAccount with a private balance attribute. Include methods to deposit, withdraw,  and check the balance.\n",
    "\n",
    "class BankAccount:\n",
    "    def __init__(self, account_number, initial_balance=0):\n",
    "        self._account_number = account_number\n",
    "        self._balance = initial_balance  # Private attribute\n",
    "\n",
    "    def deposit(self, amount):\n",
    "        if amount > 0:\n",
    "            self._balance += amount\n",
    "\n",
    "    def withdraw(self, amount):\n",
    "        if 0 < amount <= self._balance:\n",
    "            self._balance -= amount\n",
    "\n",
    "    def check_balance(self):\n",
    "        return self._balance\n",
    "\n",
    "account = BankAccount(\"12345\", 1000)\n",
    "print(\"Initial balance:\", account.check_balance())  # Output: Initial balance: 1000\n",
    "\n",
    "account.deposit(500)\n",
    "print(\"After deposit:\", account.check_balance())    # Output: After deposit: 1500\n",
    "\n",
    "account.withdraw(200)\n",
    "print(\"After withdrawal:\", account.check_balance()) # Output: After withdrawal: 1300\n"
   ]
  },
  {
   "cell_type": "code",
   "execution_count": 8,
   "id": "3ece9c92-bc17-468f-a9c9-bb630eccd49f",
   "metadata": {},
   "outputs": [
    {
     "data": {
      "text/plain": [
       "'Suhas'"
      ]
     },
     "execution_count": 8,
     "metadata": {},
     "output_type": "execute_result"
    }
   ],
   "source": [
    "#50. Develop a Person class with private attributes name and email, and methods to set and get the email.\n",
    "\n",
    "class Person:\n",
    "    def __init__(self,name,email):\n",
    "        self._name=name\n",
    "        self._email=email\n",
    "        \n",
    "    def set_email(self,new_email):\n",
    "        self.email=new_email\n",
    "    \n",
    "    def get_name(self):\n",
    "        return self._name\n",
    "    def get_email(self):\n",
    "        return self._email\n",
    "    \n",
    "person  = Person(\"Suhas\",\"suhas@gmail\")      \n",
    "\n",
    "person.get_email()\n",
    "person.get_name()"
   ]
  },
  {
   "cell_type": "markdown",
   "id": "fa7df4d4-4838-4152-ba03-a5b2fd3d6adf",
   "metadata": {},
   "source": [
    "#51. Why is encapsulation considered a pillar of object-oriented programming (OOP)\n",
    "\n",
    "Promotes Modularity: Encapsulation allows bundling data (attributes) and methods (behaviors) into objects, enhancing code organization and clarity.\n",
    "Enhances Security: By restricting direct access to data, encapsulation prevents unintended modifications, ensuring data integrity.\n",
    "Facilitates Reusability: Objects with well-defined interfaces (via methods) can be reused in different contexts without altering their internal workings.\n",
    "Promotes Code Maintenance: Encapsulation reduces dependencies between different parts of a program, making it easier to update and maintain.\n",
    "Supports Polymorphism: Encapsulation along with abstraction enables polymorphic behavior, where objects of different types can be treated uniformly through a common interface."
   ]
  },
  {
   "cell_type": "code",
   "execution_count": 1,
   "id": "c9a358b2-f7da-4a24-9fdd-6feb1433fd1c",
   "metadata": {},
   "outputs": [
    {
     "name": "stdout",
     "output_type": "stream",
     "text": [
      "Before the function execution\n",
      "Hello, Alice!\n",
      "After the function execution\n"
     ]
    }
   ],
   "source": [
    "#52. Create a decorator in Python that adds functionality to a simple function by printing a message before and after the function execution.\n",
    "\n",
    "def my_decorator(func):\n",
    "    def wrapper(*args, **kwargs):\n",
    "        print(\"Before the function execution\")\n",
    "        result = func(*args, **kwargs)\n",
    "        print(\"After the function execution\")\n",
    "        return result\n",
    "    return wrapper\n",
    "\n",
    "@my_decorator\n",
    "def say_hello(name):\n",
    "    print(f\"Hello, {name}!\")\n",
    "\n",
    "say_hello(\"Alice\")\n"
   ]
  },
  {
   "cell_type": "code",
   "execution_count": 2,
   "id": "59dbbf5b-3f7d-43a7-9871-9ac29e0cff64",
   "metadata": {},
   "outputs": [
    {
     "name": "stdout",
     "output_type": "stream",
     "text": [
      "Before the function 'say_hello' execution\n",
      "Hello, Alice!\n",
      "After the function 'say_hello' execution\n",
      "Before the function 'add' execution\n",
      "After the function 'add' execution\n",
      "8\n"
     ]
    }
   ],
   "source": [
    "#53. Modify the decorator to accept arguments and print the function name along with the message\n",
    "\n",
    "def my_decorator(func):\n",
    "    def wrapper(*args, **kwargs):\n",
    "        print(f\"Before the function '{func.__name__}' execution\")\n",
    "        result = func(*args, **kwargs)\n",
    "        print(f\"After the function '{func.__name__}' execution\")\n",
    "        return result\n",
    "    return wrapper\n",
    "\n",
    "@my_decorator\n",
    "def say_hello(name):\n",
    "    print(f\"Hello, {name}!\")\n",
    "\n",
    "@my_decorator\n",
    "def add(a, b):\n",
    "    return a + b\n",
    "\n",
    "say_hello(\"Alice\")\n",
    "print(add(5, 3))\n"
   ]
  },
  {
   "cell_type": "code",
   "execution_count": 3,
   "id": "76bf955e-1e8e-41af-8812-b893404f6140",
   "metadata": {},
   "outputs": [
    {
     "name": "stdout",
     "output_type": "stream",
     "text": [
      "Before execution of decorator_one\n",
      "Before execution of decorator_two\n",
      "Hello, Alice!\n",
      "After execution of decorator_two\n",
      "After execution of decorator_one\n"
     ]
    }
   ],
   "source": [
    "#54. Create two decorators, and apply them to a single function. Ensure that they execute in the order they are applied.\n",
    "\n",
    "def decorator_one(func):\n",
    "    def wrapper(*args, **kwargs):\n",
    "        print(\"Before execution of decorator_one\")\n",
    "        result = func(*args, **kwargs)\n",
    "        print(\"After execution of decorator_one\")\n",
    "        return result\n",
    "    return wrapper\n",
    "\n",
    "def decorator_two(func):\n",
    "    def wrapper(*args, **kwargs):\n",
    "        print(\"Before execution of decorator_two\")\n",
    "        result = func(*args, **kwargs)\n",
    "        print(\"After execution of decorator_two\")\n",
    "        return result\n",
    "    return wrapper\n",
    "\n",
    "@decorator_one\n",
    "@decorator_two\n",
    "def greet(name):\n",
    "    print(f\"Hello, {name}!\")\n",
    "    \n",
    "greet(\"Alice\")\n"
   ]
  },
  {
   "cell_type": "code",
   "execution_count": 6,
   "id": "5686eb39-88f7-47c0-9d7e-b95d75773e1c",
   "metadata": {},
   "outputs": [
    {
     "name": "stdout",
     "output_type": "stream",
     "text": [
      "Before execution of decorator_one\n",
      "Before execution of decorator_two\n",
      "Hello, Suhas!\n",
      "After execution of decorator_two\n",
      "After execution of decorator_one\n"
     ]
    }
   ],
   "source": [
    "#55. Modify the decorator to accept and pass function arguments to the wrapped function.\n",
    "\n",
    "def decorator_one(func):\n",
    "    def wrapper(*args, **kwargs):\n",
    "        print(\"Before execution of decorator_one\")\n",
    "        result = func(*args, **kwargs)\n",
    "        print(\"After execution of decorator_one\")\n",
    "        return result\n",
    "    return wrapper\n",
    "\n",
    "def decorator_two(func):\n",
    "    def wrapper(*args, **kwargs):\n",
    "        print(\"Before execution of decorator_two\")\n",
    "        result = func(*args, **kwargs)\n",
    "        print(\"After execution of decorator_two\")\n",
    "        return result\n",
    "    return wrapper\n",
    "\n",
    "@decorator_one\n",
    "@decorator_two\n",
    "def greet(name, greeting):\n",
    "    print(f\"{greeting}, {name}!\")\n",
    "\n",
    "\n",
    "greet(\"Suhas\", \"Hello\")\n"
   ]
  },
  {
   "cell_type": "code",
   "execution_count": 5,
   "id": "a428c004-bcbc-4a7c-abf4-2492103f08fa",
   "metadata": {},
   "outputs": [
    {
     "name": "stdout",
     "output_type": "stream",
     "text": [
      "Before the function execution\n",
      "Hello, Suhas!\n",
      "After the function execution\n",
      "greet\n",
      "Greet someone with a specified greeting.\n"
     ]
    }
   ],
   "source": [
    "#56. Create a decorator that preserves the metadata of the original function.\n",
    "\n",
    "import functools\n",
    "\n",
    "def my_decorator(func):\n",
    "    @functools.wraps(func)\n",
    "    def wrapper(*args, **kwargs):\n",
    "        print(\"Before the function execution\")\n",
    "        result = func(*args, **kwargs)\n",
    "        print(\"After the function execution\")\n",
    "        return result\n",
    "    return wrapper\n",
    "\n",
    "@my_decorator\n",
    "def greet(name, greeting):\n",
    "    \"\"\"Greet someone with a specified greeting.\"\"\"\n",
    "    print(f\"{greeting}, {name}!\")\n",
    "\n",
    "\n",
    "greet(\"Suhas\", \"Hello\")\n",
    "\n",
    "# Checking the metadata\n",
    "print(greet.__name__)  \n",
    "print(greet.__doc__)   "
   ]
  },
  {
   "cell_type": "code",
   "execution_count": 8,
   "id": "b67ce33a-6ab3-4351-a70c-4b6a8475c5c1",
   "metadata": {},
   "outputs": [
    {
     "name": "stdout",
     "output_type": "stream",
     "text": [
      "Sum: 8\n"
     ]
    }
   ],
   "source": [
    "#57. Create a Python class `Calculator` with a static method `add` that takes in two numbers and returns their sum.\n",
    "\n",
    "class Calculator:\n",
    "    @staticmethod\n",
    "    def add(a, b):\n",
    "        return a + b\n",
    "\n",
    "result = Calculator.add(5, 3)\n",
    "print(\"Sum:\", result)  "
   ]
  },
  {
   "cell_type": "code",
   "execution_count": 9,
   "id": "29ee24a2-f88b-4d9d-8a75-b096c73ecfce",
   "metadata": {},
   "outputs": [
    {
     "name": "stdout",
     "output_type": "stream",
     "text": [
      "Total number of employees: 3\n"
     ]
    }
   ],
   "source": [
    "#58. Create a Python class `Employee` with a class `method get_employee_count` that returns the total  number of employees created.\n",
    "\n",
    "class Employee:\n",
    "    _employee_count = 0\n",
    "\n",
    "    def __init__(self, name):\n",
    "        self.name = name\n",
    "        Employee._employee_count += 1\n",
    "\n",
    "    @classmethod\n",
    "    def get_employee_count(cls):\n",
    "        return cls._employee_count\n",
    "\n",
    "emp1 = Employee(\"suhas\")\n",
    "emp2 = Employee(\"Nithin\")\n",
    "emp3 = Employee(\"Malli\")\n",
    "\n",
    "print(\"Total number of employees:\", Employee.get_employee_count()) \n"
   ]
  },
  {
   "cell_type": "code",
   "execution_count": 11,
   "id": "cb5cc8f5-d56c-4d21-9d48-e79a771dbb6f",
   "metadata": {},
   "outputs": [
    {
     "name": "stdout",
     "output_type": "stream",
     "text": [
      "Reversed string: taerG si tarahB\n"
     ]
    }
   ],
   "source": [
    "#59. Create a Python class `StringFormatter` with a static method `reverse_string` that takes a string as input and returns its reverse.\n",
    "\n",
    "class StringFormatter:\n",
    "    @staticmethod\n",
    "    def reverse_string(input_string):\n",
    "        return input_string[::-1]\n",
    "\n",
    "reversed_str = StringFormatter.reverse_string(\"Bharat is Great\")\n",
    "print(\"Reversed string:\", reversed_str)  \n"
   ]
  },
  {
   "cell_type": "code",
   "execution_count": 14,
   "id": "2079fb9b-69d6-4011-a70c-e1dbe81a1ba5",
   "metadata": {},
   "outputs": [
    {
     "name": "stdout",
     "output_type": "stream",
     "text": [
      "area of the circle :78.53981633974483\n"
     ]
    }
   ],
   "source": [
    "#60. Create a Python class `Circle` with a class method `calculate_area` that calculates the area of a circle given its radius.\n",
    "\n",
    "import math\n",
    "class Cricle:\n",
    "    @classmethod    \n",
    "    def calculate_area(cls,r):\n",
    "        return math.pi*r**2\n",
    "    \n",
    "r=5\n",
    "area=Cricle.calculate_area(r)\n",
    "print(f\"area of the circle :{area}\")\n",
    "        "
   ]
  },
  {
   "cell_type": "code",
   "execution_count": 15,
   "id": "55c34cbe-d8ff-4a40-8050-b9b78f4d08ea",
   "metadata": {},
   "outputs": [
    {
     "name": "stdout",
     "output_type": "stream",
     "text": [
      "30 degrees Celsius is equal to 86.0 degrees Fahrenheit\n"
     ]
    }
   ],
   "source": [
    "#61. Create a Python class `TemperatureConverter` with a static method `celsius_to_fahrenheit` that converts  Celsius to Fahrenheit.\n",
    "\n",
    "class TemperatureConverter:\n",
    "    @staticmethod\n",
    "    def celsius_to_fahrenheit(celsius):\n",
    "        return (celsius * 9/5) + 32\n",
    "\n",
    "celsius = 30\n",
    "fahrenheit = TemperatureConverter.celsius_to_fahrenheit(celsius)\n",
    "print(f\"{celsius} degrees Celsius is equal to {fahrenheit} degrees Fahrenheit\")  \n",
    "\n"
   ]
  },
  {
   "cell_type": "code",
   "execution_count": 16,
   "id": "b6a28cf1-c6fb-4ab0-93e5-c669ccda5e52",
   "metadata": {},
   "outputs": [
    {
     "name": "stdout",
     "output_type": "stream",
     "text": [
      "2022 Toyota Camry\n",
      "2022 Toyota Camry\n"
     ]
    }
   ],
   "source": [
    "#62. What is the purpose of the __str__() method in Python classes? Provide an example.\n",
    "\n",
    "'''The __str__() method in Python classes is used to define a human-readable string representation of an object.\n",
    "When you use built-in functions like str() or print() on an object, Python invokes the __str__() method to obtain the string representation of \n",
    "that object. This method is useful for providing a meaningful description of an object's state or attributes.'''\n",
    "\n",
    "class Car:\n",
    "    def __init__(self, make, model, year):\n",
    "        self.make = make\n",
    "        self.model = model\n",
    "        self.year = year\n",
    "    \n",
    "    def __str__(self):\n",
    "        return f\"{self.year} {self.make} {self.model}\"\n",
    "\n",
    "my_car = Car(\"Toyota\", \"Camry\", 2022)\n",
    "\n",
    "# Using str() function to get string representation\n",
    "car_str = str(my_car)\n",
    "print(car_str)  #\n",
    "# Using print() function directly on the object\n",
    "print(my_car)   "
   ]
  },
  {
   "cell_type": "code",
   "execution_count": 19,
   "id": "d56a989a-7b23-42e0-b053-a0fd1e889c51",
   "metadata": {},
   "outputs": [
    {
     "name": "stdout",
     "output_type": "stream",
     "text": [
      "Number of team members: 3\n"
     ]
    }
   ],
   "source": [
    "#63. How does the __len__() method work in Python? Provide an example.\n",
    "\n",
    "'''The __len__() method in Python is a special method used to determine the length of an object. It is called when the built-in len() \n",
    "function is used on an object. This method allows you to define custom behavior for determining the size or length of an object beyond the \n",
    "default capabilities provided by Python.    '''\n",
    "\n",
    "class Team:\n",
    "    def __init__(self, members):\n",
    "        self.members = members\n",
    "    \n",
    "    def __len__(self):\n",
    "        return len(self.members)\n",
    "\n",
    "team1 = Team(['a', 'b', 'c'])\n",
    "\n",
    "# Using len() function to get the length\n",
    "team_length = len(team1)\n",
    "print(\"Number of team members:\", team_length)  # Output: Number of team members: 3\n"
   ]
  },
  {
   "cell_type": "code",
   "execution_count": 21,
   "id": "0011f7a9-5cd0-40ee-915a-dcfe017cb23c",
   "metadata": {},
   "outputs": [
    {
     "name": "stdout",
     "output_type": "stream",
     "text": [
      "Result of addition: 15\n"
     ]
    }
   ],
   "source": [
    "#64.  Explain the usage of the __add__() method in Python classes. Provide an example.\n",
    "\n",
    "'''The __add__() method in Python classes is a special method used to define the behavior of the addition operator (+) for objects of a class. \n",
    "It allows you to specify how instances of your class should respond when they are added together using the + operator. \n",
    "This method enables you to define custom addition operations tailored to your class's data and logic.'''\n",
    "\n",
    "class Number:\n",
    "    def __init__(self, value):\n",
    "        self.value = value\n",
    "    \n",
    "    def __add__(self, other):\n",
    "        return self.value + other.value if isinstance(other, Number) else NotImplemented\n",
    "    \n",
    "    def __str__(self):\n",
    "        return str(self.value)\n",
    "\n",
    "\n",
    "num1 = Number(5)\n",
    "num2 = Number(10)\n",
    "\n",
    "# Adding two Number instances using the + operator\n",
    "result = num1 + num2\n",
    "print(\"Result of addition:\", result)  "
   ]
  },
  {
   "cell_type": "code",
   "execution_count": 22,
   "id": "17ea2f88-2495-45fe-9428-049b43a98235",
   "metadata": {},
   "outputs": [
    {
     "name": "stdout",
     "output_type": "stream",
     "text": [
      "3\n",
      "5\n",
      "[2, 3, 4]\n",
      "True\n",
      "False\n"
     ]
    }
   ],
   "source": [
    "#65. What is the purpose of the __getitem__() method in Python? Provide an example.\n",
    "\n",
    "'''The __getitem__() method in Python is a special method that allows instances of a class to use the indexing operator ([]) to retrieve values\n",
    "from the object. It enables objects to support indexing and slicing operations, similar to sequences like lists or tuples.\n",
    "This method is essential for making custom objects iterable and providing access to their elements in a controlled manner.'''\n",
    "\n",
    "class MyList:\n",
    "    def __init__(self, data):\n",
    "        self.data = data\n",
    "    \n",
    "    def __getitem__(self, index):\n",
    "        return self.data[index]\n",
    "\n",
    "# Creating an instance of MyList\n",
    "my_list = MyList([1, 2, 3, 4, 5])\n",
    "\n",
    "# Accessing elements using indexing\n",
    "print(my_list[2])     \n",
    "print(my_list[-1])    \n",
    "print(my_list[1:4])   \n",
    "\n",
    "# Using in keyword to check existence\n",
    "print(3 in my_list)   \n",
    "print(6 in my_list)   \n"
   ]
  },
  {
   "cell_type": "code",
   "execution_count": 23,
   "id": "6ddb78b5-7e4e-4539-9c23-a2591c411043",
   "metadata": {},
   "outputs": [
    {
     "name": "stdout",
     "output_type": "stream",
     "text": [
      "0\n",
      "1\n",
      "4\n",
      "9\n",
      "16\n"
     ]
    }
   ],
   "source": [
    "#66.  Explain the usage of the __iter__() and __next__() methods in Python. Provide an example using iterators.\n",
    "\n",
    "''' \n",
    "In Python, the __iter__() and __next__() methods are used to implement iterators, which are objects that allow iteration over a sequence of \n",
    "elements. Iterators are crucial for enabling objects to be used in for loops or any other context that requires sequential access to elements.\n",
    "Here’s how these methods work and an example demonstrating their usage: '''\n",
    "\n",
    "class Squares:\n",
    "    def __init__(self, limit):\n",
    "        self.limit = limit\n",
    "        self.current = 0\n",
    "    \n",
    "    def __iter__(self):\n",
    "        return self\n",
    "    \n",
    "    def __next__(self):\n",
    "        if self.current >= self.limit:\n",
    "            raise StopIteration\n",
    "        else:\n",
    "            result = self.current ** 2\n",
    "            self.current += 1\n",
    "            return result\n",
    "\n",
    "squares_iterator = Squares(5)\n",
    "\n",
    "# Iterating over the iterator using a for loop\n",
    "for num in squares_iterator:\n",
    "    print(num)  \n",
    "    "
   ]
  },
  {
   "cell_type": "code",
   "execution_count": 24,
   "id": "52e55fdb-f1b6-4a25-ae92-7b27a1aa8df6",
   "metadata": {},
   "outputs": [
    {
     "name": "stdout",
     "output_type": "stream",
     "text": [
      "Radius of the circle: 5\n",
      "Error: Radius must be positive\n",
      "New radius of the circle: 10\n"
     ]
    }
   ],
   "source": [
    "#67. What is the purpose of a getter method in Python? Provide an example demonstrating the use of a getter method using property decorators.\n",
    "\n",
    "''' \n",
    "In Python, a getter method is used to retrieve the value of a private attribute of a class in a controlled manner. It allows controlled access \n",
    "to the attribute, enabling validation, computation, or other logic before returning the attribute's value. Getter methods are typically used to\n",
    "enforce encapsulation and provide a way to access private attributes without directly exposing them. '''\n",
    "\n",
    "class Circle:\n",
    "    def __init__(self, radius):\n",
    "        self._radius = radius  # Private attribute\n",
    "    \n",
    "    @property\n",
    "    def radius(self):\n",
    "        return self._radius\n",
    "    \n",
    "    @radius.setter\n",
    "    def radius(self, value):\n",
    "        if value <= 0:\n",
    "            raise ValueError(\"Radius must be positive\")\n",
    "        self._radius = value\n",
    "\n",
    "circle = Circle(5)\n",
    "\n",
    "# Using the getter method to access the radius\n",
    "print(\"Radius of the circle:\", circle.radius)  \n",
    "\n",
    "# Trying to set an invalid radius (negative value)\n",
    "try:\n",
    "    circle.radius = -2\n",
    "except ValueError as e:\n",
    "    print(\"Error:\", e)  \n",
    "\n",
    "# Setting a valid radius\n",
    "circle.radius = 10\n",
    "print(\"New radius of the circle:\", circle.radius)  \n"
   ]
  },
  {
   "cell_type": "code",
   "execution_count": 25,
   "id": "d4daddab-9007-409b-a137-ddc8c3a62115",
   "metadata": {},
   "outputs": [
    {
     "name": "stdout",
     "output_type": "stream",
     "text": [
      "Current temperature in Celsius: 25\n",
      "Updated temperature in Celsius: 30\n",
      "Error: Temperature cannot be less than -273.15°C (absolute zero)\n"
     ]
    }
   ],
   "source": [
    "#68. Explain the role of setter methods in Python. Demonstrate how to use a setter method to modify a class attribute using property decorators.\n",
    "\n",
    "''' Setter methods in Python are used to modify the value of a private attribute of a class. They allow controlled and validated access to \n",
    "class attributes, ensuring that any changes to the attribute's value adhere to specific rules or constraints defined in the setter method. \n",
    "Setter methods are typically implemented using property decorators, which provide a clean and convenient way to define getter and setter \n",
    "methods.'''\n",
    "class Temperature:\n",
    "    def __init__(self, celsius):\n",
    "        self._celsius = celsius  \n",
    "    \n",
    "    @property\n",
    "    def celsius(self):\n",
    "        return self._celsius\n",
    "    \n",
    "    @celsius.setter\n",
    "    def celsius(self, value):\n",
    "        if value < -273.15:\n",
    "            raise ValueError(\"Temperature cannot be less than -273.15°C (absolute zero)\")\n",
    "        self._celsius = value\n",
    "\n",
    "\n",
    "temp = Temperature(25)\n",
    "print(\"Current temperature in Celsius:\", temp.celsius)  \n",
    "\n",
    "temp.celsius = 30\n",
    "print(\"Updated temperature in Celsius:\", temp.celsius) \n",
    "\n",
    "# Attempting to set an invalid temperature (below absolute zero)\n",
    "try:\n",
    "    temp.celsius = -300\n",
    "except ValueError as e:\n",
    "    print(\"Error:\", e)  "
   ]
  },
  {
   "cell_type": "code",
   "execution_count": 26,
   "id": "d1343459-3d90-44ff-bd3a-33399482e5d7",
   "metadata": {},
   "outputs": [
    {
     "name": "stdout",
     "output_type": "stream",
     "text": [
      "Radius of the circle: 5\n",
      "Updated radius of the circle: 10\n",
      "Error: Radius must be positive\n"
     ]
    }
   ],
   "source": [
    "#69. What is the purpose of the @property decorator in Python? Provide an example illustrating its usage.\n",
    "\n",
    "class Circle:\n",
    "    def __init__(self, radius):\n",
    "        self._radius = radius  # Private attribute\n",
    "    \n",
    "    @property\n",
    "    def radius(self):\n",
    "        return self._radius\n",
    "    \n",
    "    @radius.setter\n",
    "    def radius(self, value):\n",
    "        if value <= 0:\n",
    "            raise ValueError(\"Radius must be positive\")\n",
    "        self._radius = value\n",
    "\n",
    "\n",
    "circle = Circle(5)\n",
    "print(\"Radius of the circle:\", circle.radius) \n",
    "\n",
    "circle.radius = 10\n",
    "print(\"Updated radius of the circle:\", circle.radius)  \n",
    "\n",
    "# Attempting to set an invalid radius (negative value)\n",
    "try:\n",
    "    circle.radius = -2\n",
    "except ValueError as e:\n",
    "    print(\"Error:\", e)  "
   ]
  },
  {
   "cell_type": "code",
   "execution_count": 27,
   "id": "af4726ec-7dd8-40e0-9436-2bf28fd3fc86",
   "metadata": {},
   "outputs": [
    {
     "name": "stdout",
     "output_type": "stream",
     "text": [
      "Current name: Alice\n",
      "Deleting name...\n",
      "Error: 'Person' object has no attribute '_name'\n"
     ]
    }
   ],
   "source": [
    "#70. Explain the use of the @deleter decorator in Python property decorators. Provide a code example demonstrating its application.\n",
    "\n",
    "'''The @deleter decorator in Python is used to define a deleter method for a property, which allows you to specify behavior that should occur \n",
    "when the property is deleted using the del statement. It complements the getter (@property) and setter (@property.setter) methods, providing \n",
    "a way to clean up or handle the removal of a property value.'''\n",
    "\n",
    "class Person:\n",
    "    def __init__(self, name):\n",
    "        self._name = name\n",
    "    \n",
    "    @property\n",
    "    def name(self):\n",
    "        return self._name\n",
    "    \n",
    "    @name.setter\n",
    "    def name(self, value):\n",
    "        if not value:\n",
    "            raise ValueError(\"Name cannot be empty\")\n",
    "        self._name = value\n",
    "    \n",
    "    @name.deleter\n",
    "    def name(self):\n",
    "        print(\"Deleting name...\")\n",
    "        del self._name\n",
    "\n",
    "person = Person(\"Alice\")\n",
    "print(\"Current name:\", person.name)  \n",
    "\n",
    "\n",
    "del person.name  \n",
    "try:\n",
    "    print(\"Name after deletion:\", person.name)\n",
    "except AttributeError as e:\n",
    "    print(\"Error:\", e) \n"
   ]
  },
  {
   "cell_type": "code",
   "execution_count": 28,
   "id": "21cec8e0-2651-4945-948c-658113737be5",
   "metadata": {},
   "outputs": [
    {
     "name": "stdout",
     "output_type": "stream",
     "text": [
      "Current balance: 100\n",
      "Updated balance: 500\n",
      "Error: Balance cannot be negative\n"
     ]
    }
   ],
   "source": [
    "#71. How does encapsulation relate to property decorators in Python? Provide an example showcasing encapsulation using property decorators.\n",
    "\n",
    "'''Encapsulation in Python is closely related to property decorators because property decorators allow you to encapsulate the access to \n",
    "instance attributes with getter, setter, and deleter methods. Encapsulation ensures that the internal state of an object is controlled and \n",
    "accessed through well-defined interfaces, rather than directly manipulating attributes.'''\n",
    "\n",
    "class BankAccount:\n",
    "    def __init__(self, balance=0):\n",
    "        self._balance = balance  # Private attribute\n",
    "    \n",
    "    @property\n",
    "    def balance(self):\n",
    "        return self._balance\n",
    "    \n",
    "    @balance.setter\n",
    "    def balance(self, amount):\n",
    "        if amount < 0:\n",
    "            raise ValueError(\"Balance cannot be negative\")\n",
    "        self._balance = amount\n",
    "\n",
    "\n",
    "account = BankAccount(100)\n",
    "print(\"Current balance:\", account.balance)  \n",
    "\n",
    "account.balance = 500\n",
    "print(\"Updated balance:\", account.balance)  \n",
    "\n",
    "try:\n",
    "    account.balance = -200\n",
    "except ValueError as e:\n",
    "    print(\"Error:\", e)  "
   ]
  },
  {
   "cell_type": "code",
   "execution_count": null,
   "id": "974b9779-d913-4ad6-a32a-066109ae0f67",
   "metadata": {},
   "outputs": [],
   "source": []
  }
 ],
 "metadata": {
  "kernelspec": {
   "display_name": "Python 3 (ipykernel)",
   "language": "python",
   "name": "python3"
  },
  "language_info": {
   "codemirror_mode": {
    "name": "ipython",
    "version": 3
   },
   "file_extension": ".py",
   "mimetype": "text/x-python",
   "name": "python",
   "nbconvert_exporter": "python",
   "pygments_lexer": "ipython3",
   "version": "3.10.8"
  }
 },
 "nbformat": 4,
 "nbformat_minor": 5
}

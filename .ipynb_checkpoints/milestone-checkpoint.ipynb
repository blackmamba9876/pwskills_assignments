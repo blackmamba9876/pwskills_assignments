{
 "cells": [
  {
   "cell_type": "code",
   "execution_count": 7,
   "id": "0fa66f17-8342-451f-a367-c0f63fa2ed94",
   "metadata": {},
   "outputs": [
    {
     "name": "stdout",
     "output_type": "stream",
     "text": [
      "8\n",
      "Navneet\n",
      "1\n",
      "ji\n",
      "22\n"
     ]
    }
   ],
   "source": [
    "#Question 1.5. tuple1=(10,20,\"Apple\", 3.4,'a',[\"master\",\"ji\"], (\"sita\",\"geeta\", 22),[{\"roll_no\":1}, {\"name\":\"Navneet\"}])\n",
    "\n",
    "tuple1 = (10, 20, \"Apple\", 3.4, 'a', [\"master\", \"ji\"], (\"sita\", \"geeta\", 22), [{\"roll_no\": 1}, {\"name\": \"Navneet\"}])\n",
    "\n",
    "#a) print(len(tuple1))\n",
    "print(len(tuple1))  \n",
    "\n",
    "#b) print(tuple1[-1][-1][\"name\"])\n",
    "print(tuple1[-1][-1][\"name\"])  \n",
    "\n",
    "#c) Fetch the value of roll_no from this tuple.\n",
    "print(tuple1[-1][0][\"roll_no\"])\n",
    "\n",
    "#d) Print tuple1[-3][1]\n",
    "print(tuple1[-3][1])  \n",
    "\n",
    "#e) Fetch the element \"22\" from this tuple.\n",
    "print(tuple1[6][2])  "
   ]
  },
  {
   "cell_type": "code",
   "execution_count": 1,
   "id": "4c89bdb4-cdb8-490f-8c50-0993c387bf9b",
   "metadata": {},
   "outputs": [
    {
     "name": "stdin",
     "output_type": "stream",
     "text": [
      "Enter the signal color (RED, Yellow, Green):  Yellow\n"
     ]
    },
    {
     "name": "stdout",
     "output_type": "stream",
     "text": [
      "Stay\n"
     ]
    }
   ],
   "source": [
    "# 1.6. Write a program to display the appropriate message as per the color of signal (RED-Stop/Yellow-Stay Green-Go) at the road crossing.\n",
    "\n",
    "signal_color = input(\"Enter the signal color (RED, Yellow, Green): \").strip().lower()\n",
    "\n",
    "if signal_color == \"red\":\n",
    "    print(\"Stop\")\n",
    "elif signal_color == \"yellow\":\n",
    "    print(\"Stay\")\n",
    "elif signal_color == \"green\":\n",
    "    print(\"Go\")\n",
    "else:\n",
    "    print(\"Invalid color\")"
   ]
  },
  {
   "cell_type": "code",
   "execution_count": 3,
   "id": "229806f7-1cd6-42e5-b76e-f1f48775a597",
   "metadata": {},
   "outputs": [
    {
     "name": "stdin",
     "output_type": "stream",
     "text": [
      "Enter first number:  2\n",
      "Enter second number:  4\n",
      "Enter operation (+, -, *, /):  +\n"
     ]
    },
    {
     "name": "stdout",
     "output_type": "stream",
     "text": [
      "Result: 6.0\n"
     ]
    }
   ],
   "source": [
    "# 1.7. Write a program to create a simple calculator performing only four basic operations(+,-,/,*).\n",
    "\n",
    "def calculator():\n",
    "    num1 = float(input(\"Enter first number: \"))\n",
    "    num2 = float(input(\"Enter second number: \"))\n",
    "    operation = input(\"Enter operation (+, -, *, /): \")\n",
    "\n",
    "    if operation == '+':\n",
    "        print(f\"Result: {num1 + num2}\")\n",
    "    elif operation == '-':\n",
    "        print(f\"Result: {num1 - num2}\")\n",
    "    elif operation == '*':\n",
    "        print(f\"Result: {num1 * num2}\")\n",
    "    elif operation == '/':\n",
    "        if num2 != 0:\n",
    "            print(f\"Result: {num1 / num2}\")\n",
    "        else:\n",
    "            print(\"Division by zero is not allowed\")\n",
    "    else:\n",
    "        print(\"Invalid operation\")\n",
    "\n",
    "calculator()"
   ]
  },
  {
   "cell_type": "code",
   "execution_count": 4,
   "id": "f234c3ef-1ad6-4f08-b084-a2a0afc7a7fe",
   "metadata": {},
   "outputs": [
    {
     "name": "stdout",
     "output_type": "stream",
     "text": [
      "The largest number is: 20\n"
     ]
    }
   ],
   "source": [
    "# 1.8. Write a program to find the larger of the three pre-specified numbers using ternary operators.\n",
    "\n",
    "a, b, c = 10, 20, 15\n",
    "largest = a if (a > b and a > c) else (b if b > c else c)\n",
    "print(f\"The largest number is: {largest}\")"
   ]
  },
  {
   "cell_type": "code",
   "execution_count": 5,
   "id": "47d41171-6db9-4e7b-9d34-34959d2690a2",
   "metadata": {},
   "outputs": [
    {
     "name": "stdin",
     "output_type": "stream",
     "text": [
      "Enter a number:  20\n"
     ]
    },
    {
     "name": "stdout",
     "output_type": "stream",
     "text": [
      "Factors of 20 are: \n",
      "1 2 4 5 10 20 "
     ]
    }
   ],
   "source": [
    "# 1.9. Write a program to find the factors of a whole number using a while loop.\n",
    "\n",
    "num = int(input(\"Enter a number: \"))\n",
    "i = 1\n",
    "\n",
    "print(f\"Factors of {num} are: \")\n",
    "while i <= num:\n",
    "    if num % i == 0:\n",
    "        print(i, end=\" \")\n",
    "    i += 1"
   ]
  },
  {
   "cell_type": "code",
   "execution_count": 7,
   "id": "de2645bf-747f-415e-a90b-b715a05b6c87",
   "metadata": {},
   "outputs": [
    {
     "name": "stdin",
     "output_type": "stream",
     "text": [
      "Enter a number:  12\n",
      "Enter a number:  34\n",
      "Enter a number:  34\n",
      "Enter a number:  -23\n"
     ]
    },
    {
     "name": "stdout",
     "output_type": "stream",
     "text": [
      "The sum of all positive numbers is: 80\n"
     ]
    }
   ],
   "source": [
    "# 1.10. Write a program to find the sum of all the positive numbers entered by the user. As soon as the user enters a negative number, stop taking in any \n",
    "#    further input from the user and display the sum.\n",
    "\n",
    "total_sum = 0\n",
    "\n",
    "while True:\n",
    "    num = int(input(\"Enter a number: \"))\n",
    "    if num < 0:\n",
    "        break\n",
    "    total_sum += num\n",
    "\n",
    "print(f\"The sum of all positive numbers is: {total_sum}\")"
   ]
  },
  {
   "cell_type": "code",
   "execution_count": 8,
   "id": "f44d050c-8710-448a-a805-419ac4c2c578",
   "metadata": {},
   "outputs": [
    {
     "name": "stdout",
     "output_type": "stream",
     "text": [
      "2 3 5 7 11 13 17 19 23 29 31 37 41 43 47 53 59 61 67 71 73 79 83 89 97 "
     ]
    }
   ],
   "source": [
    "# 1.11. Write a program to find prime numbers between 2 to 100 using nested for loops.4\n",
    "\n",
    "for num in range(2, 101):\n",
    "    is_prime = True\n",
    "    for i in range(2, int(num ** 0.5) + 1):\n",
    "        if num % i == 0:\n",
    "            is_prime = False\n",
    "            break\n",
    "    if is_prime:\n",
    "        print(num, end=\" \")"
   ]
  },
  {
   "cell_type": "code",
   "execution_count": 11,
   "id": "a1ec88cd-b9da-497b-9572-a5785725b9f9",
   "metadata": {},
   "outputs": [
    {
     "name": "stdin",
     "output_type": "stream",
     "text": [
      "Enter marks for subject 1:  55\n",
      "Enter marks for subject 2:  76\n",
      "Enter marks for subject 3:  45\n",
      "Enter marks for subject 4:  87\n",
      "Enter marks for subject 5:  66\n"
     ]
    },
    {
     "name": "stdout",
     "output_type": "stream",
     "text": [
      "Total Marks: 329\n",
      "Percentage: 65.8%\n",
      "Grade: C\n"
     ]
    }
   ],
   "source": [
    "###### 1.12. Write the programs for the following:\n",
    "#• Accept the marks of the student in five major subjects and display the same.\n",
    "#• Calculate the sum of the marks of all subjects.Divide the total marks by number of subjects (i.e. 5), calcul percentage = total marks/5 and display the percentage.\n",
    "#• Find the grade of the student as per the following criteria. Hint: Use Match & case for this..:\n",
    "#                   Criteria                             Grade                              \n",
    "\n",
    "#                  percentage > 85                           A\n",
    "#            percentage < 85 && percentage >= 75             B\n",
    "#            percentage < 75 && percentage >= 50             C\n",
    "#            percentage > 30 && percentage <= 50             D\n",
    "#                 percentage <30                          Reappear\n",
    "\n",
    "\n",
    "\n",
    "marks = []\n",
    "for i in range(5):\n",
    "    marks.append(int(input(f\"Enter marks for subject {i+1}: \")))\n",
    "\n",
    "# Sum and percentage\n",
    "total_marks = sum(marks)\n",
    "percentage = total_marks / 5\n",
    "print(f\"Total Marks: {total_marks}\")\n",
    "print(f\"Percentage: {percentage}%\")\n",
    "\n",
    "# Grade Calculation\n",
    "match percentage:\n",
    "    case p if p > 85:\n",
    "        grade = \"A\"\n",
    "    case p if 75 <= p <= 85:\n",
    "        grade = \"B\"\n",
    "    case p if 50 <= p < 75:\n",
    "        grade = \"C\"\n",
    "    case p if 30 <= p < 50:\n",
    "        grade = \"D\"\n",
    "    case p if p < 30:\n",
    "        grade = \"Reappear\"\n",
    "\n",
    "print(f\"Grade: {grade}\")\n"
   ]
  },
  {
   "cell_type": "code",
   "execution_count": 13,
   "id": "068286bd-4edf-4be6-8e2c-306a55b050d6",
   "metadata": {},
   "outputs": [
    {
     "name": "stdin",
     "output_type": "stream",
     "text": [
      "Enter the wavelength in nm:  550\n"
     ]
    },
    {
     "name": "stdout",
     "output_type": "stream",
     "text": [
      "The color corresponding to 550.0 nm is: Green\n"
     ]
    }
   ],
   "source": [
    "#1.13. Write a program for VIBGYOR Spectrum based on their Wavelength using. \n",
    "# Wavelength Rangne:\n",
    "# COLOR             WAVELENGTH (nm)\n",
    "# Violet             400.0-440.0\n",
    " #Indigo             440.0-460.0\n",
    "# Blue               460.0-500.0\n",
    "# Green              500.0-570.0\n",
    "# Yellow             570.0-590.0\n",
    "# Orange             590.0-620.0\n",
    "# Red                620.0-720.0\n",
    "\n",
    "\n",
    "def identify_color(wavelength):\n",
    "    if 400.0 <= wavelength <= 440.0:\n",
    "        return \"Violet\"\n",
    "    elif 440.0 < wavelength <= 460.0:\n",
    "        return \"Indigo\"\n",
    "    elif 460.0 < wavelength <= 500.0:\n",
    "        return \"Blue\"\n",
    "    elif 500.0 < wavelength <= 570.0:\n",
    "        return \"Green\"\n",
    "    elif 570.0 < wavelength <= 590.0:\n",
    "        return \"Yellow\"\n",
    "    elif 590.0 < wavelength <= 620.0:\n",
    "        return \"Orange\"\n",
    "    elif 620.0 < wavelength <= 720.0:\n",
    "        return \"Red\"\n",
    "    else:\n",
    "        return \"Wavelength not in the visible spectrum\"\n",
    "\n",
    "# Example usage:\n",
    "wavelength = float(input(\"Enter the wavelength in nm: \"))\n",
    "color = identify_color(wavelength)\n",
    "print(f\"The color corresponding to {wavelength} nm is: {color}\")\n"
   ]
  },
  {
   "cell_type": "code",
   "execution_count": 15,
   "id": "273a1a47-3d06-47fb-b327-37b7751be836",
   "metadata": {},
   "outputs": [
    {
     "name": "stdout",
     "output_type": "stream",
     "text": [
      "Gravitational force between Earth and Sun: 3.54e+22 N\n",
      "Gravitational force between Moon and Earth: 1.98e+20 N\n",
      "The stronger gravitational force is between: Earth-Sun\n",
      "The Earth is more attracted to the Sun than the Moon is to Earth.\n"
     ]
    }
   ],
   "source": [
    "# 1.14. Consider the gravitational interactions between the Earth, Moon, and Sun in our solar system. Given:\n",
    "# mass_earth = 5.972e24 #Mass of Earth in kilograms\n",
    "# mass_moon = 7.34767309e22 # Mass of Moon in kilograms\n",
    "# mass_sun = 1.989e30 # Mass of Sun in kilograms\n",
    "# distance_earth_sun = 1.496ell # Average distance between Earth and Sun in meters\n",
    "# distance_moon_earth = 3.844e8 # Average distance between Moon and Earth in meters\n",
    "# Tasks:\n",
    "# • Calculate the gravitational force between the Earth and the Sun.\n",
    "# • Calculate the gravitational force between the Moon and the Earth.\n",
    "# • Compare the calculated forces to determine which gravitational force is stronger.\n",
    "#  Explain which celestial body (Earth or Moon) is more attracted to the other based on the comparison.\n",
    "\n",
    "import math\n",
    "\n",
    "# Gravitational constant\n",
    "G = 6.67430e-11  # m^3 kg^-1 s^-2\n",
    "\n",
    "# Given data\n",
    "mass_earth = 5.972e24  # kg\n",
    "mass_moon = 7.34767309e22  # kg\n",
    "mass_sun = 1.989e30  # kg\n",
    "distance_earth_sun = 1.496e11  # meters\n",
    "distance_moon_earth = 3.844e8  # meters\n",
    "\n",
    "# Calculate gravitational forces\n",
    "force_earth_sun = (G * mass_earth * mass_sun) / (distance_earth_sun ** 2)\n",
    "force_moon_earth = (G * mass_moon * mass_earth) / (distance_moon_earth ** 2)\n",
    "\n",
    "# Output the forces\n",
    "print(f\"Gravitational force between Earth and Sun: {force_earth_sun:.2e} N\")\n",
    "print(f\"Gravitational force between Moon and Earth: {force_moon_earth:.2e} N\")\n",
    "\n",
    "# Compare the forces\n",
    "if force_earth_sun > force_moon_earth:\n",
    "    stronger_force = \"Earth-Sun\"\n",
    "else:\n",
    "    stronger_force = \"Moon-Earth\"\n",
    "\n",
    "print(f\"The stronger gravitational force is between: {stronger_force}\")\n",
    "\n",
    "# Which celestial body is more attracted to the other?\n",
    "if force_moon_earth > force_earth_sun:\n",
    "    print(\"The Moon is more attracted to Earth than Earth is to the Sun.\")\n",
    "else:\n",
    "    print(\"The Earth is more attracted to the Sun than the Moon is to Earth.\")\n",
    "\n",
    "    \n",
    "#Explanation of Results:\n",
    "# Gravitational Force Between Earth and Sun: This is a large force due to the massive size of the Sun compared to the Earth.\n",
    "# Gravitational Force Between Moon and Earth: This force is smaller compared to Earth-Sun, as both the Moon and Earth are much smaller bodies.\n",
    "# Based on the calculated forces, Earth-Sun typically exhibits a stronger gravitational attraction because of the immense mass of the Sun, even though the distance is much \n",
    "# greater than that between the Moon and Earth.\n",
    "\n",
    "# This means the Earth is more strongly attracted to the Sun than the Moon is to the Earth. However, the Moon remains gravitationally bound to Earth due to its relative proximity."
   ]
  },
  {
   "cell_type": "code",
   "execution_count": 16,
   "id": "eb5a5ae5-9eb0-4c48-810f-fc1833df57d0",
   "metadata": {},
   "outputs": [
    {
     "name": "stdout",
     "output_type": "stream",
     "text": [
      "Name: John Doe, Age: 20, Roll Number: 101\n",
      "Name: Jane Doe, Age: 21, Roll Number: 101\n"
     ]
    }
   ],
   "source": [
    "#2. Design and implement a Python program for managing student information using object-oriented principles. Create a class called 'Student' with encapsulated attributes for name, age, and roll number. \n",
    "#Implement getter and setter methods for these attributes. Additionally, provide methods to display student information and update student details.\n",
    "#Tasks:\n",
    "#• Define the 'Student' class with encapsulated attributes.\n",
    "#• Implement getter and setter methods for the attributes.\n",
    "#• Write methods to display student information and update details.\n",
    "#• Create instances of the \"Student' class and test the implemented functionality.\n",
    "\n",
    "class Student:\n",
    "    def __init__(self, name, age, roll_number):\n",
    "        self.__name = name  # Encapsulated attribute\n",
    "        self.__age = age    # Encapsulated attribute\n",
    "        self.__roll_number = roll_number  # Encapsulated attribute\n",
    "\n",
    "    # Getter and Setter for name\n",
    "    def get_name(self):\n",
    "        return self.__name\n",
    "    \n",
    "    def set_name(self, name):\n",
    "        self.__name = name\n",
    "    \n",
    "    # Getter and Setter for age\n",
    "    def get_age(self):\n",
    "        return self.__age\n",
    "    \n",
    "    def set_age(self, age):\n",
    "        self.__age = age\n",
    "    \n",
    "    # Getter and Setter for roll_number\n",
    "    def get_roll_number(self):\n",
    "        return self.__roll_number\n",
    "    \n",
    "    def set_roll_number(self, roll_number):\n",
    "        self.__roll_number = roll_number\n",
    "    \n",
    "    # Method to display student information\n",
    "    def display_info(self):\n",
    "        print(f\"Name: {self.__name}, Age: {self.__age}, Roll Number: {self.__roll_number}\")\n",
    "    \n",
    "    # Method to update student details\n",
    "    def update_details(self, name=None, age=None, roll_number=None):\n",
    "        if name:\n",
    "            self.set_name(name)\n",
    "        if age:\n",
    "            self.set_age(age)\n",
    "        if roll_number:\n",
    "            self.set_roll_number(roll_number)\n",
    "\n",
    "# Testing the implementation\n",
    "student1 = Student(\"John Doe\", 20, 101)\n",
    "student1.display_info()  # Display initial details\n",
    "student1.update_details(name=\"Jane Doe\", age=21)  # Update details\n",
    "student1.display_info()  # Display updated details"
   ]
  },
  {
   "cell_type": "code",
   "execution_count": 17,
   "id": "a0f9fc70-1a93-4ced-a226-9313bf8831ec",
   "metadata": {},
   "outputs": [
    {
     "name": "stdout",
     "output_type": "stream",
     "text": [
      "1984 has been borrowed.\n",
      "1984 has been returned.\n"
     ]
    }
   ],
   "source": [
    "# 3.Develop a Python program for managing library resources efficiently. Design a class named Library Book with attributes like book name,\n",
    "# author, and availability status. Implement methods for borrowing and returning books while ensuring proper encapsulation of attributes.\n",
    "# Tasks:\n",
    "#1. Create the LibraryBook class with encapsulated attributes.\n",
    "#2. Implement methods for borrowing and returning books.\n",
    "#3. Ensure proper encapsulation to protect book details.\n",
    "#4. Test the borrowing and returning functionality with sample data.\n",
    "\n",
    "class LibraryBook:\n",
    "    def __init__(self, book_name, author):\n",
    "        self.__book_name = book_name  # Encapsulated attribute\n",
    "        self.__author = author  # Encapsulated attribute\n",
    "        self.__is_available = True  # Availability status\n",
    "\n",
    "    # Method to borrow a book\n",
    "    def borrow_book(self):\n",
    "        if self.__is_available:\n",
    "            self.__is_available = False\n",
    "            print(f\"{self.__book_name} has been borrowed.\")\n",
    "        else:\n",
    "            print(f\"{self.__book_name} is not available.\")\n",
    "\n",
    "    # Method to return a book\n",
    "    def return_book(self):\n",
    "        if not self.__is_available:\n",
    "            self.__is_available = True\n",
    "            print(f\"{self.__book_name} has been returned.\")\n",
    "        else:\n",
    "            print(f\"{self.__book_name} was not borrowed.\")\n",
    "\n",
    "# Testing the implementation\n",
    "book1 = LibraryBook(\"1984\", \"George Orwell\")\n",
    "book1.borrow_book()  # Borrow the book\n",
    "book1.return_book()  # Return the book"
   ]
  },
  {
   "cell_type": "code",
   "execution_count": 18,
   "id": "21ee212d-170b-4e91-8d8e-4672a8cd87a0",
   "metadata": {},
   "outputs": [
    {
     "name": "stdout",
     "output_type": "stream",
     "text": [
      "Deposited 50.0. New balance is 1050.0\n",
      "Interest added. New balance is 1050.0\n",
      "Insufficient funds\n"
     ]
    }
   ],
   "source": [
    "#4.Create a simple banking system using object-oriented concepts in Python. Design classes representing different types of bank \n",
    "#accounts such as savings and checking. Implement methods for deposit, withdraw, and balance inquiry. Utilize inheritance to manage different \n",
    "#account types efficiently.\n",
    "#Tasks:\n",
    "#• 1. Define base class(es) for bank accounts with common attributes and methods.\n",
    "#• 2. Implement subclasses for specific account types (e.g., SavingsAccount, CheckingAccount).\n",
    "#• 3. Provide methods for deposit, withdraw, and balance inquiry in each subclass.\n",
    "#• 4. Test the banking system by creating instances of different account types and performing transactions.\n",
    "\n",
    "# Base class for Bank Accounts\n",
    "class BankAccount:\n",
    "    def __init__(self, owner, balance=0):\n",
    "        self.__owner = owner  # Encapsulated owner attribute\n",
    "        self.__balance = balance  # Encapsulated balance attribute\n",
    "\n",
    "    def deposit(self, amount):\n",
    "        self.__balance += amount\n",
    "        print(f\"Deposited {amount}. New balance is {self.__balance}\")\n",
    "\n",
    "    def withdraw(self, amount):\n",
    "        if amount > self.__balance:\n",
    "            print(\"Insufficient funds\")\n",
    "        else:\n",
    "            self.__balance -= amount\n",
    "            print(f\"Withdrawn {amount}. New balance is {self.__balance}\")\n",
    "\n",
    "    def check_balance(self):\n",
    "        return self.__balance\n",
    "\n",
    "# Savings Account inheriting from BankAccount\n",
    "class SavingsAccount(BankAccount):\n",
    "    def __init__(self, owner, balance=0, interest_rate=0.05):\n",
    "        super().__init__(owner, balance)\n",
    "        self.__interest_rate = interest_rate\n",
    "\n",
    "    def add_interest(self):\n",
    "        interest = self.check_balance() * self.__interest_rate\n",
    "        self.deposit(interest)\n",
    "        print(f\"Interest added. New balance is {self.check_balance()}\")\n",
    "\n",
    "# Checking Account inheriting from BankAccount\n",
    "class CheckingAccount(BankAccount):\n",
    "    def __init__(self, owner, balance=0, overdraft_limit=500):\n",
    "        super().__init__(owner, balance)\n",
    "        self.__overdraft_limit = overdraft_limit\n",
    "\n",
    "    def withdraw(self, amount):\n",
    "        if amount > self.check_balance() + self.__overdraft_limit:\n",
    "            print(\"Withdrawal exceeds overdraft limit\")\n",
    "        else:\n",
    "            super().withdraw(amount)\n",
    "\n",
    "# Testing the implementation\n",
    "savings = SavingsAccount(\"Alice\", 1000)\n",
    "savings.add_interest()  # Add interest\n",
    "\n",
    "checking = CheckingAccount(\"Bob\", 500)\n",
    "checking.withdraw(900)  # Withdraw within overdraft limit"
   ]
  },
  {
   "cell_type": "code",
   "execution_count": 19,
   "id": "84e448eb-13b5-43a0-baa7-ef44eefdeb44",
   "metadata": {},
   "outputs": [
    {
     "name": "stdout",
     "output_type": "stream",
     "text": [
      "Woof!\n",
      "Meow!\n"
     ]
    }
   ],
   "source": [
    "# 5. Write a Python program that models different animals and their sounds. Design a base class called Animal' with a method make_sound()\".\n",
    "# Create subclasses like \"Dog' and 'Cat' that override the make_sound() method to produce appropriate sounds.\n",
    "#Tasks:\n",
    "#1. Define the 'Animal' class with a method 'make_sound().\n",
    "#• 2. Create subclasses Dog and \"Cat' that override the make_sound() method.\n",
    "#• 3. Implement the sound generation logic for each subclass.\n",
    "#• 4. Test the program by creating instances of 'Dog' and 'Cat' and calling the 'make_sound() method.\n",
    "\n",
    "\n",
    "# Base class Animal\n",
    "class Animal:\n",
    "    def make_sound(self):\n",
    "        raise NotImplementedError(\"This method should be overridden by subclasses\")\n",
    "\n",
    "# Dog subclass inheriting from Animal\n",
    "class Dog(Animal):\n",
    "    def make_sound(self):\n",
    "        return \"Woof!\"\n",
    "\n",
    "# Cat subclass inheriting from Animal\n",
    "class Cat(Animal):\n",
    "    def make_sound(self):\n",
    "        return \"Meow!\"\n",
    "\n",
    "# Testing the implementation\n",
    "dog = Dog()\n",
    "cat = Cat()\n",
    "\n",
    "print(dog.make_sound())  \n",
    "print(cat.make_sound()) "
   ]
  },
  {
   "cell_type": "code",
   "execution_count": 20,
   "id": "41ff9d86-4bbb-425e-b612-35ed72db5ea6",
   "metadata": {},
   "outputs": [
    {
     "name": "stdout",
     "output_type": "stream",
     "text": [
      "Burger Cheesy chicken burger 6.99 Food\n",
      "Cola has been removed from the menu.\n"
     ]
    }
   ],
   "source": [
    "#6. Write a code for Restaurant Management System Using OOPS:\n",
    "#  Create a Menultem class that has attributes such as name, description, price, and category.\n",
    "#  • Implement methods to add a new menu item, update menu item information, and remove a menu item from the menu\n",
    "#  Use encapsulation to hide the menu item's unique identification number.\n",
    "#  Inherit from the Menultem class to create a Fooditem class and a Beverageltem class, each with their own specific attributes and methods.\n",
    "\n",
    "\n",
    "class MenuItem:\n",
    "    def __init__(self, name, description, price, category):\n",
    "        self.__item_id = id(self)  # Encapsulated unique ID\n",
    "        self.name = name\n",
    "        self.description = description\n",
    "        self.price = price\n",
    "        self.category = category\n",
    "\n",
    "    def update_item(self, name=None, description=None, price=None, category=None):\n",
    "        if name:\n",
    "            self.name = name\n",
    "        if description:\n",
    "            self.description = description\n",
    "        if price:\n",
    "            self.price = price\n",
    "        if category:\n",
    "            self.category = category\n",
    "\n",
    "    def remove_item(self):\n",
    "        print(f\"{self.name} has been removed from the menu.\")\n",
    "\n",
    "class FoodItem(MenuItem):\n",
    "    def __init__(self, name, description, price):\n",
    "        super().__init__(name, description, price, category=\"Food\")\n",
    "\n",
    "class BeverageItem(MenuItem):\n",
    "    def __init__(self, name, description, price):\n",
    "        super().__init__(name, description, price, category=\"Beverage\")\n",
    "\n",
    "# Testing the implementation\n",
    "burger = FoodItem(\"Burger\", \"Cheesy chicken burger\", 5.99)\n",
    "burger.update_item(price=6.99)\n",
    "print(burger.name, burger.description, burger.price, burger.category)\n",
    "\n",
    "cola = BeverageItem(\"Cola\", \"Chilled soft drink\", 1.99)\n",
    "cola.remove_item()"
   ]
  },
  {
   "cell_type": "code",
   "execution_count": 21,
   "id": "8d1ab8de-cd3e-46e0-97fe-876522f72abf",
   "metadata": {},
   "outputs": [
    {
     "name": "stdout",
     "output_type": "stream",
     "text": [
      "Room 101 has been booked.\n",
      "Checked into room 101.\n",
      "Checked out of room 101.\n"
     ]
    }
   ],
   "source": [
    "#7. Write a code for Hotel Management System using OOPS:\n",
    "#• Create a Room class that has attributes such as room number, room type, rate, and availability (private).\n",
    "#• Implement methods to book a room, check in a guest, and check out a guest.\n",
    "#• Use encapsulation to hide the room's unique identification number.\n",
    "# Inherit from the Room class to create a SuiteRoom class and a StandardRoom class, each with their own specific attributes and methods.\n",
    "\n",
    "class Room:\n",
    "    def __init__(self, room_number, room_type, rate):\n",
    "        self.__room_id = id(self)  # Encapsulated unique ID\n",
    "        self.room_number = room_number\n",
    "        self.room_type = room_type\n",
    "        self.rate = rate\n",
    "        self.__available = True  # Encapsulated availability status\n",
    "\n",
    "    def book_room(self):\n",
    "        if self.__available:\n",
    "            self.__available = False\n",
    "            print(f\"Room {self.room_number} has been booked.\")\n",
    "        else:\n",
    "            print(f\"Room {self.room_number} is not available.\")\n",
    "\n",
    "    def check_in(self):\n",
    "        if not self.__available:\n",
    "            print(f\"Checked into room {self.room_number}.\")\n",
    "        else:\n",
    "            print(f\"Room {self.room_number} is not booked yet.\")\n",
    "\n",
    "    def check_out(self):\n",
    "        if not self.__available:\n",
    "            self.__available = True\n",
    "            print(f\"Checked out of room {self.room_number}.\")\n",
    "        else:\n",
    "            print(f\"Room {self.room_number} is already vacant.\")\n",
    "\n",
    "class SuiteRoom(Room):\n",
    "    def __init__(self, room_number, rate):\n",
    "        super().__init__(room_number, room_type=\"Suite\", rate=rate)\n",
    "\n",
    "class StandardRoom(Room):\n",
    "    def __init__(self, room_number, rate):\n",
    "        super().__init__(room_number, room_type=\"Standard\", rate=rate)\n",
    "\n",
    "# Testing the implementation\n",
    "suite = SuiteRoom(101, 150)\n",
    "suite.book_room()\n",
    "suite.check_in()\n",
    "suite.check_out()"
   ]
  },
  {
   "cell_type": "code",
   "execution_count": 23,
   "id": "f8069082-5fd2-48ab-8b96-58b12806d4e4",
   "metadata": {},
   "outputs": [
    {
     "name": "stdout",
     "output_type": "stream",
     "text": [
      "John Doe's membership has been cancelled.\n",
      "Cancelled\n"
     ]
    }
   ],
   "source": [
    "#8. Write a code for Fitness Club Management System using OOPS:\n",
    "# Create a Member class that has attributes such as name, age, membership type, and membership status (private).\n",
    "# Implement methods to register a new member, renew a membership, and cancel a membership.\n",
    "# Use encapsulation to hide the member's unique identification number.\n",
    "# Inherit from the Member class to create a FamilyMember class and an IndividualMember class, each with their own specific attributes and methods.\n",
    "\n",
    "\n",
    "class Member:\n",
    "    def __init__(self, name, age, membership_type):\n",
    "        self.__member_id = id(self)  # Encapsulated unique ID\n",
    "        self.name = name\n",
    "        self.age = age\n",
    "        self.membership_type = membership_type\n",
    "        self.__membership_status = \"Active\"\n",
    "\n",
    "    def renew_membership(self):\n",
    "        self.__membership_status = \"Active\"\n",
    "        print(f\"{self.name}'s membership has been renewed.\")\n",
    "\n",
    "    def cancel_membership(self):\n",
    "        self.__membership_status = \"Cancelled\"\n",
    "        print(f\"{self.name}'s membership has been cancelled.\")\n",
    "\n",
    "    def get_status(self):\n",
    "        return self.__membership_status\n",
    "\n",
    "class FamilyMember(Member):\n",
    "    def __init__(self, name, age):\n",
    "        super().__init__(name, age, membership_type=\"Family\")\n",
    "\n",
    "class IndividualMember(Member):\n",
    "    def __init__(self, name, age):\n",
    "        super().__init__(name, age, membership_type=\"Individual\")\n",
    "\n",
    "# Testing the implementation\n",
    "john = IndividualMember(\"John Doe\", 30)\n",
    "john.cancel_membership()\n",
    "print(john.get_status())"
   ]
  },
  {
   "cell_type": "code",
   "execution_count": 24,
   "id": "9258adb1-043f-4172-bf4d-d51927224f55",
   "metadata": {},
   "outputs": [
    {
     "name": "stdout",
     "output_type": "stream",
     "text": [
      "Alice has been added to Private Party.\n",
      "Bob has been added to Private Party.\n",
      "2\n"
     ]
    }
   ],
   "source": [
    "#9. Write a code for Event Management System using OOPS:\n",
    "#• Create an Event class that has attributes such as name, date, time, location, and list of attendees (private).\n",
    "#Implement methods to create a new event, add or remove attendees, and get the total number of attendees.\n",
    "#Use encapsulation to hide the event's unique identification number.\n",
    "#Inherit from the Event class to create a PrivateEvent class and a PublicEvent class, each with their own specific attributes and methods.\n",
    "\n",
    "\n",
    "class Event:\n",
    "    def __init__(self, name, date, time, location):\n",
    "        self.__event_id = id(self)  # Encapsulated unique ID\n",
    "        self.name = name\n",
    "        self.date = date\n",
    "        self.time = time\n",
    "        self.location = location\n",
    "        self.__attendees = []\n",
    "\n",
    "    def add_attendee(self, attendee):\n",
    "        self.__attendees.append(attendee)\n",
    "        print(f\"{attendee} has been added to {self.name}.\")\n",
    "\n",
    "    def remove_attendee(self, attendee):\n",
    "        self.__attendees.remove(attendee)\n",
    "        print(f\"{attendee} has been removed from {self.name}.\")\n",
    "\n",
    "    def total_attendees(self):\n",
    "        return len(self.__attendees)\n",
    "\n",
    "class PrivateEvent(Event):\n",
    "    def __init__(self, name, date, time, location):\n",
    "        super().__init__(name, date, time, location)\n",
    "\n",
    "class PublicEvent(Event):\n",
    "    def __init__(self, name, date, time, location):\n",
    "        super().__init__(name, date, time, location)\n",
    "\n",
    "# Testing the implementation\n",
    "party = PrivateEvent(\"Private Party\", \"2024-08-20\", \"19:00\", \"Banquet Hall\")\n",
    "party.add_attendee(\"Alice\")\n",
    "party.add_attendee(\"Bob\")\n",
    "print(party.total_attendees())"
   ]
  },
  {
   "cell_type": "code",
   "execution_count": 25,
   "id": "1147392a-783e-4996-b713-b7a8f9ad0e91",
   "metadata": {},
   "outputs": [
    {
     "name": "stdout",
     "output_type": "stream",
     "text": [
      "Seat booked on flight AA101. Remaining seats: 149\n",
      "Reservation canceled. Available seats: 150\n"
     ]
    }
   ],
   "source": [
    "#10. Write a code for Airline Reservation System using OOPS:\n",
    "#• Create a Flight class that has attributes such as flight number, departure and arrival airports, departure and arrival times, and available seats (private).\n",
    "#• Implement methods to book a seat, cancel a reservation, and get the remaining available seats.\n",
    "#• Use encapsulation to hide the flight's unique identification number.\n",
    "#Inherit from the Flight class to create a Domestic Flight class and an International Flight class, each with their own specific attributes and methods.\n",
    "\n",
    "\n",
    "class Flight:\n",
    "    def __init__(self, flight_number, departure_airport, arrival_airport, departure_time, arrival_time, total_seats):\n",
    "        self.__flight_id = id(self)  # Encapsulated unique ID\n",
    "        self.flight_number = flight_number\n",
    "        self.departure_airport = departure_airport\n",
    "        self.arrival_airport = arrival_airport\n",
    "        self.departure_time = departure_time\n",
    "        self.arrival_time = arrival_time\n",
    "        self.__available_seats = total_seats  # Encapsulated seat count\n",
    "\n",
    "    def book_seat(self):\n",
    "        if self.__available_seats > 0:\n",
    "            self.__available_seats -= 1\n",
    "            print(f\"Seat booked on flight {self.flight_number}. Remaining seats: {self.__available_seats}\")\n",
    "        else:\n",
    "            print(\"No seats available.\")\n",
    "\n",
    "    def cancel_reservation(self):\n",
    "        self.__available_seats += 1\n",
    "        print(f\"Reservation canceled. Available seats: {self.__available_seats}\")\n",
    "\n",
    "    def remaining_seats(self):        return self.__available_seats\n",
    "\n",
    "class DomesticFlight(Flight):\n",
    "    def __init__(self, flight_number, departure_airport, arrival_airport, departure_time, arrival_time, total_seats):\n",
    "        super().__init__(flight_number, departure_airport, arrival_airport, departure_time, arrival_time, total_seats)\n",
    "\n",
    "class InternationalFlight(Flight):\n",
    "    def __init__(self, flight_number, departure_airport, arrival_airport, departure_time, arrival_time, total_seats):\n",
    "        super().__init__(flight_number, departure_airport, arrival_airport, departure_time, arrival_time, total_seats)\n",
    "\n",
    "# Testing the implementation\n",
    "flight1 = DomesticFlight(\"AA101\", \"JFK\", \"LAX\", \"10:00\", \"13:00\", 150)\n",
    "flight1.book_seat()\n",
    "flight1.cancel_reservation()"
   ]
  },
  {
   "cell_type": "code",
   "execution_count": null,
   "id": "0a7a095f-47de-41cb-8a39-27ffe9240e64",
   "metadata": {},
   "outputs": [],
   "source": [
    "# 11. Define a Python module named constants.py containing constants like pi and the speed of light.\n",
    "\n",
    "# constants.py\n",
    "\n",
    "PI = 3.14159\n",
    "SPEED_OF_LIGHT = 299792458  # meters per second\n",
    "\n",
    "#You can import this module in another script like this:\n",
    "import constants\n",
    "\n",
    "print(constants.PI)\n",
    "print(constants.SPEED_OF_LIGHT)"
   ]
  },
  {
   "cell_type": "code",
   "execution_count": null,
   "id": "52af3f44-6a35-43a3-8335-23b3ee73ac76",
   "metadata": {},
   "outputs": [],
   "source": [
    "# 12. Write a Python module named calculator.py containing functions for addition, subtraction, multiplication, and division.\n",
    "\n",
    "# calculator.py\n",
    "\n",
    "def add(a, b):\n",
    "    \"\"\"This function returns the sum of two numbers.\"\"\"\n",
    "    return a + b\n",
    "\n",
    "def subtract(a, b):\n",
    "    \"\"\"This function returns the difference between two numbers.\"\"\"\n",
    "    return a - b\n",
    "\n",
    "def multiply(a, b):\n",
    "    \"\"\"This function returns the product of two numbers.\"\"\"\n",
    "    return a * b\n",
    "\n",
    "def divide(a, b):\n",
    "    \"\"\"This function returns the quotient of two numbers.\"\"\"\n",
    "    if b == 0:\n",
    "        raise ValueError(\"Cannot divide by zero!\")\n",
    "    return a / b\n",
    "\n",
    "#You can import and use the calculator module:\n",
    "import calculator\n",
    "\n",
    "print(calculator.add(5, 3))\n",
    "print(calculator.divide(10, 2))"
   ]
  },
  {
   "cell_type": "code",
   "execution_count": null,
   "id": "2641b569-1bdb-444b-b41e-39e73a3e4f95",
   "metadata": {},
   "outputs": [],
   "source": [
    "# 13.Implement a Python package structure for a project named ecommerce, containing modules for product management and order processing.\n",
    "\n",
    "#ecommerce/\n",
    "#    __init__.py\n",
    " #   product_management.py\n",
    " #   order_processing.py\n",
    "\n",
    "# ecommerce/product_management.py\n",
    "\n",
    "class Product:\n",
    "    def __init__(self, name, price):\n",
    "        self.name = name\n",
    "        self.price = price\n",
    "\n",
    "    def display_product(self):\n",
    "        print(f\"Product Name: {self.name}, Price: {self.price}\")\n",
    "\n",
    "# ecommerce/order_processing.py\n",
    "\n",
    "class Order:\n",
    "    def __init__(self, order_id, product):\n",
    "        self.order_id = order_id\n",
    "        self.product = product\n",
    "\n",
    "    def process_order(self):\n",
    "        print(f\"Processing order {self.order_id} for {self.product.name}.\")\n",
    "\n",
    "from ecommerce.product_management import Product\n",
    "from ecommerce.order_processing import Order\n",
    "\n",
    "product1 = Product(\"Laptop\", 1200)\n",
    "order1 = Order(101, product1)\n",
    "order1.process_order()"
   ]
  },
  {
   "cell_type": "code",
   "execution_count": null,
   "id": "086c46a1-e19a-4b0b-9e08-f54afb56ef10",
   "metadata": {},
   "outputs": [],
   "source": [
    "# 14. Implement a Python module named string_utils.py containing functions for string manipulation, such as reversing and capitalizing strings.      \n",
    "\n",
    "# string_utils.py\n",
    "\n",
    "def reverse_string(s):\n",
    "    return s[::-1]\n",
    "\n",
    "def capitalize_string(s):\n",
    "    return s.capitalize()\n",
    "\n",
    "#You can use the file_operations module like this:\n",
    "import string_utils\n",
    "\n",
    "print(string_utils.reverse_string(\"hello\"))\n",
    "print(string_utils.capitalize_string(\"python\"))"
   ]
  },
  {
   "cell_type": "code",
   "execution_count": null,
   "id": "647cfd11-8390-4f22-baf6-81695ba72a70",
   "metadata": {},
   "outputs": [],
   "source": [
    "# 15. Write a Python module named file_operations.py with functions for reading, writing, and appending data to a file.\n",
    "\n",
    "# file_operations.py\n",
    "\n",
    "def write_file(file_name, data):\n",
    "    with open(file_name, 'w') as file:\n",
    "        file.write(data)\n",
    "\n",
    "def read_file(file_name):\n",
    "    with open(file_name, 'r') as file:\n",
    "        return file.read()\n",
    "\n",
    "def append_file(file_name, data):\n",
    "    with open(file_name, 'a') as file:\n",
    "        file.write(data)\n",
    "\n",
    "#You can use the file_operations module like this:\n",
    "import file_operations\n",
    "\n",
    "file_operations.write_file(\"test.txt\", \"Hello World\")\n",
    "print(file_operations.read_file(\"test.txt\"))\n",
    "file_operations.append_file(\"test.txt\", \"\\nThis is appended text.\")"
   ]
  },
  {
   "cell_type": "code",
   "execution_count": 35,
   "id": "6aa1d330-0137-475f-afe7-50b668376e6a",
   "metadata": {},
   "outputs": [],
   "source": [
    "# 16. Write a Python program to create a text file named \"employees.txt\" and write the details of employees, including their name, age, and salary, into the file.\n",
    "\n",
    "employees = [\n",
    "    {\"name\": \"John\", \"age\": 28, \"salary\": 50000},\n",
    "    {\"name\": \"Doe\", \"age\": 25, \"salary\": 45000},\n",
    "]\n",
    "\n",
    "with open(\"employees.txt\", \"w\") as file:\n",
    "    for employee in employees:\n",
    "        file.write(f\"Name: {employee['name']}, Age: {employee['age']}, Salary: {employee['salary']}\\n\")"
   ]
  },
  {
   "cell_type": "code",
   "execution_count": null,
   "id": "726f3798-54b9-4264-9073-adc01c41a1aa",
   "metadata": {},
   "outputs": [],
   "source": [
    "#17. Develop a Python script that opens an existing text file named \"inventory.txt\" in read mode and displays the contents of the file line by line.\n",
    "\n",
    "with open(\"inventory.txt\", \"r\") as file:\n",
    "    for line in file:\n",
    "        print(line.strip())"
   ]
  },
  {
   "cell_type": "code",
   "execution_count": 1,
   "id": "0fe0a8cf-d102-442a-ab6c-00665d88c153",
   "metadata": {},
   "outputs": [
    {
     "ename": "FileNotFoundError",
     "evalue": "[Errno 2] No such file or directory: 'expenses.txt'",
     "output_type": "error",
     "traceback": [
      "\u001b[0;31m---------------------------------------------------------------------------\u001b[0m",
      "\u001b[0;31mFileNotFoundError\u001b[0m                         Traceback (most recent call last)",
      "Cell \u001b[0;32mIn[1], line 5\u001b[0m\n\u001b[1;32m      1\u001b[0m \u001b[38;5;66;03m# 18. Create a Python script that reads a text file named \"expenses.txt\" and calculates the total amount spent on various expenses listed in the file.\u001b[39;00m\n\u001b[1;32m      3\u001b[0m total_expenses \u001b[38;5;241m=\u001b[39m \u001b[38;5;241m0\u001b[39m\n\u001b[0;32m----> 5\u001b[0m \u001b[38;5;28;01mwith\u001b[39;00m \u001b[38;5;28;43mopen\u001b[39;49m\u001b[43m(\u001b[49m\u001b[38;5;124;43m\"\u001b[39;49m\u001b[38;5;124;43mexpenses.txt\u001b[39;49m\u001b[38;5;124;43m\"\u001b[39;49m\u001b[43m,\u001b[49m\u001b[43m \u001b[49m\u001b[38;5;124;43m\"\u001b[39;49m\u001b[38;5;124;43mr\u001b[39;49m\u001b[38;5;124;43m\"\u001b[39;49m\u001b[43m)\u001b[49m \u001b[38;5;28;01mas\u001b[39;00m file:\n\u001b[1;32m      6\u001b[0m     \u001b[38;5;28;01mfor\u001b[39;00m line \u001b[38;5;129;01min\u001b[39;00m file:\n\u001b[1;32m      7\u001b[0m         total_expenses \u001b[38;5;241m+\u001b[39m\u001b[38;5;241m=\u001b[39m \u001b[38;5;28mfloat\u001b[39m(line\u001b[38;5;241m.\u001b[39mstrip())\n",
      "File \u001b[0;32m/opt/conda/lib/python3.10/site-packages/IPython/core/interactiveshell.py:282\u001b[0m, in \u001b[0;36m_modified_open\u001b[0;34m(file, *args, **kwargs)\u001b[0m\n\u001b[1;32m    275\u001b[0m \u001b[38;5;28;01mif\u001b[39;00m file \u001b[38;5;129;01min\u001b[39;00m {\u001b[38;5;241m0\u001b[39m, \u001b[38;5;241m1\u001b[39m, \u001b[38;5;241m2\u001b[39m}:\n\u001b[1;32m    276\u001b[0m     \u001b[38;5;28;01mraise\u001b[39;00m \u001b[38;5;167;01mValueError\u001b[39;00m(\n\u001b[1;32m    277\u001b[0m         \u001b[38;5;124mf\u001b[39m\u001b[38;5;124m\"\u001b[39m\u001b[38;5;124mIPython won\u001b[39m\u001b[38;5;124m'\u001b[39m\u001b[38;5;124mt let you open fd=\u001b[39m\u001b[38;5;132;01m{\u001b[39;00mfile\u001b[38;5;132;01m}\u001b[39;00m\u001b[38;5;124m by default \u001b[39m\u001b[38;5;124m\"\u001b[39m\n\u001b[1;32m    278\u001b[0m         \u001b[38;5;124m\"\u001b[39m\u001b[38;5;124mas it is likely to crash IPython. If you know what you are doing, \u001b[39m\u001b[38;5;124m\"\u001b[39m\n\u001b[1;32m    279\u001b[0m         \u001b[38;5;124m\"\u001b[39m\u001b[38;5;124myou can use builtins\u001b[39m\u001b[38;5;124m'\u001b[39m\u001b[38;5;124m open.\u001b[39m\u001b[38;5;124m\"\u001b[39m\n\u001b[1;32m    280\u001b[0m     )\n\u001b[0;32m--> 282\u001b[0m \u001b[38;5;28;01mreturn\u001b[39;00m \u001b[43mio_open\u001b[49m\u001b[43m(\u001b[49m\u001b[43mfile\u001b[49m\u001b[43m,\u001b[49m\u001b[43m \u001b[49m\u001b[38;5;241;43m*\u001b[39;49m\u001b[43margs\u001b[49m\u001b[43m,\u001b[49m\u001b[43m \u001b[49m\u001b[38;5;241;43m*\u001b[39;49m\u001b[38;5;241;43m*\u001b[39;49m\u001b[43mkwargs\u001b[49m\u001b[43m)\u001b[49m\n",
      "\u001b[0;31mFileNotFoundError\u001b[0m: [Errno 2] No such file or directory: 'expenses.txt'"
     ]
    }
   ],
   "source": [
    "# 18. Create a Python script that reads a text file named \"expenses.txt\" and calculates the total amount spent on various expenses listed in the file.\n",
    "\n",
    "total_expenses = 0\n",
    "\n",
    "with open(\"expenses.txt\", \"r\") as file:\n",
    "    for line in file:\n",
    "        total_expenses += float(line.strip())\n",
    "\n",
    "print(f\"Total Expenses: {total_expenses}\")"
   ]
  },
  {
   "cell_type": "code",
   "execution_count": null,
   "id": "9e9125cf-2276-4f58-9ef1-5b375791200d",
   "metadata": {},
   "outputs": [],
   "source": [
    "# 19. Create a Python program that reads a text file named \"paragraph.txt\" and counts the occurrences of each word in the paragraph, displaying the \n",
    "#  results in alphabetical order.\n",
    "\n",
    "from collections import Counter\n",
    "\n",
    "with open(\"paragraph.txt\", \"r\") as file:\n",
    "    text = file.read().lower().split()\n",
    "\n",
    "word_count = Counter(text)\n",
    "\n",
    "for word in sorted(word_count):\n",
    "    print(f\"{word}: {word_count[word]}\")"
   ]
  },
  {
   "cell_type": "code",
   "execution_count": null,
   "id": "c6d1c0b8-dc79-412c-bfb6-c1936c8eacce",
   "metadata": {},
   "outputs": [],
   "source": []
  }
 ],
 "metadata": {
  "kernelspec": {
   "display_name": "Python 3 (ipykernel)",
   "language": "python",
   "name": "python3"
  },
  "language_info": {
   "codemirror_mode": {
    "name": "ipython",
    "version": 3
   },
   "file_extension": ".py",
   "mimetype": "text/x-python",
   "name": "python",
   "nbconvert_exporter": "python",
   "pygments_lexer": "ipython3",
   "version": "3.10.8"
  }
 },
 "nbformat": 4,
 "nbformat_minor": 5
}
